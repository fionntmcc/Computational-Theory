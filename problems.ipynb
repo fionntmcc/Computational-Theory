{
 "cells": [
  {
   "cell_type": "markdown",
   "id": "f365caba",
   "metadata": {},
   "source": [
    "# Computational Theory Assignment"
   ]
  },
  {
   "cell_type": "code",
   "execution_count": 79,
   "id": "675e7884",
   "metadata": {},
   "outputs": [],
   "source": [
    "# Necessary imports\n",
    "\n",
    "import numpy as np"
   ]
  },
  {
   "cell_type": "markdown",
   "id": "07e5e9dc",
   "metadata": {},
   "source": [
    "## Problem 1"
   ]
  },
  {
   "cell_type": "markdown",
   "id": "bd64edb9",
   "metadata": {},
   "source": [
    "### SHA-1 Parity Function\n",
    "\n",
    "The `Parity` function implements the SHA-1 Parity operation, which performs a bitwise XOR across three input values. This is commonly used in cryptographic hash functions to mix bits and increase unpredictability.\n",
    "\n",
    "Each input should be an integer representing a binary value. The function returns the result as a binary string.\n",
    "\n",
    "#### Example Usage\n",
    "\n",
    "```python\n",
    "result = Parity(0b1111, 0b1010, 0b0101)\n",
    "print(result)  # Output: '0b0'\n",
    "```\n",
    "\n",
    "In this example, the function computes the XOR of the three binary numbers and returns the result in binary format."
   ]
  },
  {
   "cell_type": "markdown",
   "id": "ebf869aa",
   "metadata": {},
   "source": [
    "#### Code"
   ]
  },
  {
   "cell_type": "code",
   "execution_count": 80,
   "id": "712bffc3",
   "metadata": {},
   "outputs": [],
   "source": [
    "def Parity(x, y, z):\n",
    "    \"\"\"\n",
    "    SHA-1 Parity function.\n",
    "\n",
    "    Parameters:\n",
    "        x (int): first value (interpreted as binary).\n",
    "        y (int): second value (interpreted as binary).\n",
    "        z (int): third value (interpreted as binary).\n",
    "\n",
    "    Returns:\n",
    "        str: The result of the parity as a binary string.\n",
    "    \"\"\"\n",
    "    x = np.uint32(x)\n",
    "    y = np.uint32(y)\n",
    "    z = np.uint32(z)\n",
    "    \n",
    "    # SHA-1 Parity function = bitwise XOR of each bit position\n",
    "    result = x ^ y ^ z   # ^ is the bitwise XOR operator in Python\n",
    "\n",
    "    return bin(result)\n"
   ]
  },
  {
   "cell_type": "markdown",
   "id": "e91869e5",
   "metadata": {},
   "source": [
    "#### Testing"
   ]
  },
  {
   "cell_type": "code",
   "execution_count": 81,
   "id": "9df3a1be",
   "metadata": {},
   "outputs": [],
   "source": [
    "def test_parity():\n",
    "    assert Parity(0b0, 0b0, 0b0) == '0b0', \"All zeros should return 0b0\"\n",
    "    assert Parity(0b1, 0b0, 0b0) == '0b1', \"Single one should return 0b1\"\n",
    "    assert Parity(0b1, 0b1, 0b0) == '0b0', \"Two ones should return 0b0\"\n",
    "    assert Parity(0b1, 0b1, 0b1) == '0b1', \"Three ones should return 0b1\"\n",
    "    assert Parity(0b101, 0b010, 0b001) == '0b110', \"Mixed bits test\"\n",
    "    assert Parity(0b1111, 0b1010, 0b0101) == '0b0', \"4-bit test\"\n",
    "    print('All test cases passed.')"
   ]
  },
  {
   "cell_type": "code",
   "execution_count": 82,
   "id": "6577317c",
   "metadata": {},
   "outputs": [
    {
     "name": "stdout",
     "output_type": "stream",
     "text": [
      "All test cases passed.\n"
     ]
    }
   ],
   "source": [
    "# Run all tests\n",
    "test_parity()"
   ]
  },
  {
   "cell_type": "markdown",
   "id": "39364ef1",
   "metadata": {},
   "source": [
    "### SHA-1 Choose (Ch) Function\n",
    "\n",
    "The `Ch` function implements the SHA-1 'choose' operation, which selects bits from the second or third input based on the bits of the first input. For each bit position, if the corresponding bit in `x` is 1, the result is the bit from `y`; otherwise, it's the bit from `z`. This is expressed as `(x & y) ^ (~x & z)`.\n",
    "\n",
    "Each input should be an integer representing a binary value. The function returns the result as a binary string.\n",
    "\n",
    "#### Example Usage\n",
    "\n",
    "```python\n",
    "result = Ch(0b1111, 0b1010, 0b0101)\n",
    "print(result)  # Output: '0b1010'\n",
    "```\n",
    "\n",
    "In this example, the function chooses bits from `y` where `x` is 1, and from `z` where `x` is 0."
   ]
  },
  {
   "cell_type": "code",
   "execution_count": 83,
   "id": "6a210a55",
   "metadata": {},
   "outputs": [],
   "source": [
    "def Ch(x, y, z):\n",
    "    \"\"\"\n",
    "    SHA-1 choose (Ch) function.\n",
    "\n",
    "    Parameters:\n",
    "        x (int): first value (interpreted as binary).\n",
    "        y (int): second value (interpreted as binary).\n",
    "        z (int): third value (interpreted as binary).\n",
    "\n",
    "    Returns:\n",
    "        str: The result of the choose function as a binary string.\n",
    "    \"\"\"\n",
    "    x = np.uint32(x)\n",
    "    y = np.uint32(y)\n",
    "    z = np.uint32(z)\n",
    "\n",
    "    # SHA-1 choose function: (x & y) ^ (~x & z)\n",
    "    result = (x & y) ^ (~x & z)\n",
    "\n",
    "    return bin(result)"
   ]
  },
  {
   "cell_type": "code",
   "execution_count": 84,
   "id": "b481976b",
   "metadata": {},
   "outputs": [],
   "source": [
    "Ch(0b101, 0b010, 0b001)\n",
    "\n",
    "def test_Ch():\n",
    "    assert Ch(0b0, 0b0, 0b0) == '0b0', \"All zeros should return 0b0\"\n",
    "    assert Ch(0b1, 0b0, 0b0) == '0b0', \"x=1, y=0, z=0 should return 0b0\"\n",
    "    assert Ch(0b1, 0b1, 0b0) == '0b1', \"x=1, y=1, z=0 should return 0b1\"\n",
    "    assert Ch(0b0, 0b1, 0b1) == '0b1', \"x=0, y=1, z=1 should return 0b1\"\n",
    "    assert Ch(0b101, 0b010, 0b001) == '0b0', \"Mixed bits test, testing all false returns\"\n",
    "    assert Ch(0b1111, 0b1010, 0b0101) == '0b1010', \"4-bit test\"\n",
    "    print('All test cases passed.')"
   ]
  },
  {
   "cell_type": "code",
   "execution_count": 85,
   "id": "e3b2d38f",
   "metadata": {},
   "outputs": [
    {
     "name": "stdout",
     "output_type": "stream",
     "text": [
      "All test cases passed.\n"
     ]
    }
   ],
   "source": [
    "# Run all tests\n",
    "test_Ch()"
   ]
  },
  {
   "cell_type": "markdown",
   "id": "272e58d3",
   "metadata": {},
   "source": [
    "### SHA-1 Majority (Maj) Function\n",
    "\n",
    "The `Maj` function implements the SHA-1 'majority' operation, which returns the majority value of each bit position among three inputs. For each bit, if at least two of the three inputs have a 1, the result is 1; otherwise, it's 0. This is expressed as `(x & y) ^ (x & z) ^ (y & z)`.\n",
    "\n",
    "Each input should be an integer representing a binary value. The function returns the result as a binary string.\n",
    "\n",
    "#### Example Usage\n",
    "\n",
    "```python\n",
    "result = Maj(0b1111, 0b1010, 0b0101)\n",
    "print(result)  # Output: '0b1111'\n",
    "```\n",
    "\n",
    "In this example, the function computes the majority for each bit position and returns the result in binary format."
   ]
  },
  {
   "cell_type": "markdown",
   "id": "4a2ea091",
   "metadata": {},
   "source": [
    "#### Code"
   ]
  },
  {
   "cell_type": "code",
   "execution_count": 86,
   "id": "b9a19a8c",
   "metadata": {},
   "outputs": [],
   "source": [
    "def Maj(x, y, z):\n",
    "    \"\"\"\n",
    "    SHA-1 majority (Maj) function.\n",
    "\n",
    "    Parameters:\n",
    "        x (int): first value (interpreted as binary).\n",
    "        y (int): second value (interpreted as binary).\n",
    "        z (int): third value (interpreted as binary).\n",
    "\n",
    "    Returns:\n",
    "        str: The result of the majority function as a binary string.\n",
    "    \"\"\"\n",
    "    x = np.uint32(x)\n",
    "    y = np.uint32(y)\n",
    "    z = np.uint32(z)\n",
    "\n",
    "    # SHA-1 majority function: (x & y) ^ (x & z) ^ (y & z)\n",
    "    result = (x & y) ^ (x & z) ^ (y & z)\n",
    "\n",
    "    return bin(result)"
   ]
  },
  {
   "cell_type": "markdown",
   "id": "776b193f",
   "metadata": {},
   "source": [
    "#### Testing"
   ]
  },
  {
   "cell_type": "code",
   "execution_count": 87,
   "id": "f882afac",
   "metadata": {},
   "outputs": [],
   "source": [
    "def test_Maj():\n",
    "    assert Maj(0b0, 0b0, 0b0) == '0b0', \"All zeros should return 0b0\"\n",
    "    assert Maj(0b1, 0b0, 0b0) == '0b0', \"Only one bit set should return 0b0\"\n",
    "    assert Maj(0b1, 0b1, 0b0) == '0b1', \"Two bits set should return 0b1\"\n",
    "    assert Maj(0b1, 0b1, 0b1) == '0b1', \"All bits set should return 0b1\"\n",
    "    assert Maj(0b101, 0b010, 0b001) == '0b1', \"Mixed bits test\"\n",
    "    assert Maj(0b1111, 0b1010, 0b0101) == '0b1111', \"4-bit test\"\n",
    "    assert Maj(0b111, 0b110, 0b111) == '0b111', \"Example of full bits\"\n",
    "    print('All test cases passed.')"
   ]
  },
  {
   "cell_type": "code",
   "execution_count": 88,
   "id": "863049a2",
   "metadata": {},
   "outputs": [
    {
     "name": "stdout",
     "output_type": "stream",
     "text": [
      "All test cases passed.\n"
     ]
    }
   ],
   "source": [
    "# Run all tests\n",
    "test_Maj()"
   ]
  },
  {
   "cell_type": "markdown",
   "id": "a4268efc",
   "metadata": {},
   "source": [
    "### SHA-1 Sigma0 Function\n",
    "\n",
    "The `Sigma0` function is a bitwise operation used in SHA-1 and similar hash algorithms. It performs a combination of right rotations on the input value and XORs the results. For SHA-1, Sigma0 is typically defined as:\n",
    "\n",
    "`Sigma0(x) = ROTR^2(x) ^ ROTR^13(x) ^ ROTR^22(x)`\n",
    "\n",
    "where `ROTR^n(x)` means rotate the bits of `x` right by `n` positions. This is not the same as a right bitshift as the `n` leftmost bits are placed in order in the rightmost position, and the remaining bits are placed in the leftmost position.\n",
    "\n",
    "Each input should be a 32-bit integer. The function returns the result as a binary string.\n",
    "\n",
    "#### Example Usage\n",
    "\n",
    "```python\n",
    "result = Sigma0(0b11110000111100001111000011110000)\n",
    "print(result)  # Output: binary string\n",
    "```\n",
    "\n",
    "In this example, the function applies the three rotations and XORs the results."
   ]
  },
  {
   "cell_type": "markdown",
   "id": "a368e215",
   "metadata": {},
   "source": [
    "#### Code"
   ]
  },
  {
   "cell_type": "code",
   "execution_count": 89,
   "id": "ea8458f0",
   "metadata": {},
   "outputs": [],
   "source": [
    "def ROTR(x, n):\n",
    "    \"\"\"Right rotate a 32-bit integer x by n bits.\"\"\"\n",
    "    x = np.uint32(x)\n",
    "    return np.uint32((x >> n) | (x << (32 - n)))  # wrap-around\n",
    "\n",
    "def Sigma0(x):\n",
    "    \"\"\"\n",
    "    SHA-1 Sigma0 function.\n",
    "\n",
    "    Parameters:\n",
    "        x (int): 32-bit integer input.\n",
    "\n",
    "    Returns:\n",
    "        str: The result of Sigma0 as a binary string.\n",
    "    \"\"\"\n",
    "    x = np.uint32(x)\n",
    "    result = ROTR(x, 2) ^ ROTR(x, 13) ^ ROTR(x, 22)\n",
    "    return bin(int(result))"
   ]
  },
  {
   "cell_type": "markdown",
   "id": "f0b6e1fe",
   "metadata": {},
   "source": [
    "#### Testing"
   ]
  },
  {
   "cell_type": "code",
   "execution_count": 90,
   "id": "c31df970",
   "metadata": {},
   "outputs": [],
   "source": [
    "def test_Sigma0():\n",
    "    # Test with all zeros\n",
    "    assert Sigma0(0b0) == '0b0', \"All zeros should return 0b0\"\n",
    "    # Test with all ones (32 bits)\n",
    "    assert Sigma0(0xFFFFFFFF) == '0b11111111111111111111111111111111', \"All ones should return all ones (since all rotations are the same)\"\n",
    "    # Test with a pattern\n",
    "    assert isinstance(Sigma0(0b11110000111100001111000011110000), str), \"Should return a binary string\"\n",
    "    print('All test cases passed.')"
   ]
  },
  {
   "cell_type": "code",
   "execution_count": 91,
   "id": "55b9579e",
   "metadata": {},
   "outputs": [
    {
     "name": "stdout",
     "output_type": "stream",
     "text": [
      "All test cases passed.\n"
     ]
    }
   ],
   "source": [
    "# Run all tests\n",
    "test_Sigma0()"
   ]
  },
  {
   "cell_type": "markdown",
   "id": "2bdd9bad",
   "metadata": {},
   "source": [
    "### SHA-1 Sigma1 Function\n",
    "\n",
    "The `Sigma1` function is another bitwise operation used in SHA-1 and works in the exact same way as `Sigma0` but with different bit rotations. It performs a combination of right rotations on the input value and XORs the results. For SHA-1, Sigma1 is typically defined as:\n",
    "\n",
    "`Sigma1(x) = ROTR^6(x) ^ ROTR^11(x) ^ ROTR^25(x)`\n",
    "\n",
    "where `ROTR^n(x)` means rotate the bits of `x` right by `n` positions.\n",
    "\n",
    "Each input should be a 32-bit integer. The function returns the result as a binary string.\n",
    "\n",
    "#### Example Usage\n",
    "\n",
    "```python\n",
    "result = Sigma1(0b11110000111100001111000011110000)\n",
    "print(result)  # Output: binary string\n",
    "```\n",
    "\n",
    "In this example, the function applies the three rotations and XORs the results."
   ]
  },
  {
   "cell_type": "markdown",
   "id": "87a7ca1e",
   "metadata": {},
   "source": [
    "#### Code"
   ]
  },
  {
   "cell_type": "code",
   "execution_count": 92,
   "id": "a1649c5d",
   "metadata": {},
   "outputs": [],
   "source": [
    "def Sigma1(x):\n",
    "    \"\"\"\n",
    "    SHA-1 Sigma1 function.\n",
    "\n",
    "    Parameters:\n",
    "        x (int): 32-bit integer input.\n",
    "\n",
    "    Returns:\n",
    "        str: The result of Sigma1 as a binary string.\n",
    "    \"\"\"\n",
    "    x = np.uint32(x)\n",
    "    result = ROTR(x, 6) ^ ROTR(x, 11) ^ ROTR(x, 25)\n",
    "    return bin(int(result))"
   ]
  },
  {
   "cell_type": "markdown",
   "id": "b4efe0b8",
   "metadata": {},
   "source": [
    "#### Testing"
   ]
  },
  {
   "cell_type": "code",
   "execution_count": 93,
   "id": "32c8cb41",
   "metadata": {},
   "outputs": [],
   "source": [
    "def test_Sigma1():\n",
    "    # Test with all zeros\n",
    "    assert Sigma1(0b0) == '0b0', \"All zeros should return 0b0\"\n",
    "    # Test with all ones (32 bits)\n",
    "    assert Sigma1(0xFFFFFFFF) == '0b11111111111111111111111111111111', \"All ones should return all ones (since all rotations are the same)\"\n",
    "    # Test with a pattern\n",
    "    assert isinstance(Sigma1(0b11110000111100001111000011110000), str), \"Should return a binary string\"\n",
    "    print('All test cases passed.')"
   ]
  },
  {
   "cell_type": "code",
   "execution_count": 94,
   "id": "50128008",
   "metadata": {},
   "outputs": [
    {
     "name": "stdout",
     "output_type": "stream",
     "text": [
      "All test cases passed.\n"
     ]
    }
   ],
   "source": [
    "# Run all tests\n",
    "test_Sigma1()"
   ]
  },
  {
   "cell_type": "markdown",
   "id": "dc0b92f6",
   "metadata": {},
   "source": [
    "### SHA-1 Lower-case sigma0 Function\n",
    "\n",
    "The `sigma0` function is a SHA-1 bitwise operation that makes use of both right rotations and bitshifts and XORs the results. For SHA-1, sigma0 is defined as:\n",
    "\n",
    "`sigma0(x) = ROTR^7(x) ^ ROTR^18(x) ^ SHR^3(x)`\n",
    "\n",
    "where `ROTR^n(x)` means rotate the bits of `x` right by `n` positions,\n",
    "\n",
    "and `SHR^n(x)` means shift the bits of `x` right by `n` postions.\n",
    "\n",
    "Each input should be a 32-bit integer. The function returns the result as a binary string.\n",
    "\n",
    "#### Example Usage\n",
    "\n",
    "```python\n",
    "result = sigma0(0b11110000111100001111000011110000)\n",
    "print(result)  # Output: binary string\n",
    "```\n",
    "\n",
    "In this example, the function applies the two rotations and one shift, and XORs the results."
   ]
  },
  {
   "cell_type": "markdown",
   "id": "483178f0",
   "metadata": {},
   "source": [
    "#### Code"
   ]
  },
  {
   "cell_type": "code",
   "execution_count": 95,
   "id": "b6045823",
   "metadata": {},
   "outputs": [],
   "source": [
    "def SHR(x, n):\n",
    "    \"\"\"Right shift a 32-bit integer x by n bits.\"\"\"\n",
    "    x = np.uint32(x)\n",
    "    return np.uint32(x >> n)"
   ]
  },
  {
   "cell_type": "code",
   "execution_count": 96,
   "id": "f00944b0",
   "metadata": {},
   "outputs": [],
   "source": [
    "def sigma0(x):\n",
    "    \"\"\"\n",
    "    SHA-1 sigma0 function.\n",
    "\n",
    "    Parameters:\n",
    "        x (int): 32-bit integer input.\n",
    "\n",
    "    Returns:\n",
    "        str: The result of sigma0 as a binary string.\n",
    "    \"\"\"\n",
    "    x = np.uint32(x)\n",
    "    result = ROTR(x, 7) ^ ROTR(x, 18) ^ SHR(x, 3)\n",
    "    return bin(int(result))"
   ]
  },
  {
   "cell_type": "markdown",
   "id": "8f55e9fe",
   "metadata": {},
   "source": [
    "#### Testing"
   ]
  },
  {
   "cell_type": "code",
   "execution_count": 97,
   "id": "0c7943c4",
   "metadata": {},
   "outputs": [],
   "source": [
    "def test_sigma0():\n",
    "    # Test with all zeros\n",
    "    assert sigma0(0b0) == '0b0', \"All zeros should return 0b0\"\n",
    "    # Test with all ones (32 bits)\n",
    "    assert sigma0(0xFFFFFFFF) == '0b11111111111111111111111111111', \"All ones should return 29 ones, as 3 bits have been shifted out\"\n",
    "    # Test with a pattern\n",
    "    assert isinstance(sigma0(0b11110000111100001111000011110000), str), \"Should return a binary string\"\n",
    "    print('All test cases passed.')"
   ]
  },
  {
   "cell_type": "code",
   "execution_count": 98,
   "id": "23f4bad0",
   "metadata": {},
   "outputs": [
    {
     "data": {
      "text/plain": [
       "'0b0'"
      ]
     },
     "execution_count": 98,
     "metadata": {},
     "output_type": "execute_result"
    }
   ],
   "source": [
    "sigma0(0b0)"
   ]
  },
  {
   "cell_type": "code",
   "execution_count": 99,
   "id": "48f69522",
   "metadata": {},
   "outputs": [
    {
     "name": "stdout",
     "output_type": "stream",
     "text": [
      "All test cases passed.\n"
     ]
    }
   ],
   "source": [
    "# Run all tests\n",
    "test_sigma0()"
   ]
  },
  {
   "cell_type": "markdown",
   "id": "fd48d53f",
   "metadata": {},
   "source": [
    "### SHA-1 Lower-case sigma1 Function\n",
    "\n",
    "The `sigma1` function is a SHA-1 bitwise operation that makes use of both right rotations and bitshifts and XORs the results, the same as sigma0 but with different bit rotations (ROTR) and a different shift amounts. For SHA-1, sigma is defined as:\n",
    "\n",
    "`sigma0(x) = ROTR^17(x) ^ ROTR^19(x) ^ SHR^10(x)`\n",
    "\n",
    "where `ROTR^n(x)` means rotate the bits of `x` right by `n` positions,\n",
    "\n",
    "and `SHR^n(x)` means shift the bits of `x` right by `n` postions.\n",
    "\n",
    "Each input should be a 32-bit integer. The function returns the result as a binary string.\n",
    "\n",
    "#### Example Usage\n",
    "\n",
    "```python\n",
    "result = sigma0(0b11110000111100001111000011110000)\n",
    "print(result)  # Output: binary string\n",
    "```\n",
    "\n",
    "In this example, the function applies the two rotations and one shift, and XORs the results."
   ]
  },
  {
   "cell_type": "markdown",
   "id": "8158c4fa",
   "metadata": {},
   "source": [
    "#### Code"
   ]
  },
  {
   "cell_type": "code",
   "execution_count": 100,
   "id": "6b33578a",
   "metadata": {},
   "outputs": [],
   "source": [
    "def sigma1(x):\n",
    "    \"\"\"\n",
    "    SHA-1 sigma1 function.\n",
    "\n",
    "    Parameters:\n",
    "        x (int): 32-bit integer input.\n",
    "\n",
    "    Returns:\n",
    "        str: The result of sigma0 as a binary string.\n",
    "    \"\"\"\n",
    "    x = np.uint32(x)\n",
    "    result = ROTR(x, 17) ^ ROTR(x, 19) ^ SHR(x, 10)\n",
    "    return bin(int(result))"
   ]
  },
  {
   "cell_type": "markdown",
   "id": "b92d343a",
   "metadata": {},
   "source": [
    "#### Testing"
   ]
  },
  {
   "cell_type": "code",
   "execution_count": 105,
   "id": "31477f33",
   "metadata": {},
   "outputs": [],
   "source": [
    "def test_sigma1():\n",
    "    # Test with all zeros\n",
    "    assert sigma1(0b0) == '0b0', \"All zeros should return 0b0\"\n",
    "    # Test with all ones (32 bits)\n",
    "    assert sigma1(0xFFFFFFFF) == '0b1111111111111111111111', \"All ones should return 22 ones (since all rotations are the same and 10 out of the 22 bits are shifted out)\"\n",
    "    # Test with a pattern\n",
    "    assert isinstance(sigma1(0b11110000111100001111000011110000), str), \"Should return a binary string\"\n",
    "    print('All test cases passed.')"
   ]
  },
  {
   "cell_type": "code",
   "execution_count": 106,
   "id": "2916659b",
   "metadata": {},
   "outputs": [
    {
     "name": "stdout",
     "output_type": "stream",
     "text": [
      "All test cases passed.\n"
     ]
    }
   ],
   "source": [
    "# Run all tests\n",
    "test_sigma1()"
   ]
  },
  {
   "cell_type": "markdown",
   "id": "3721352d",
   "metadata": {},
   "source": [
    "## Problem 2"
   ]
  },
  {
   "cell_type": "markdown",
   "id": "1692b730",
   "metadata": {},
   "source": [
    "#### Problem 2: Fractional Parts of Cube Roots\n",
    "Use numpy to calculate the constants listed at the bottom of page 11 of the Secure Hash Standard, following the steps below. These are the first 32 bits of the fractional parts of the cube roots of the first 64 prime numbers.\n",
    "\n",
    "- Write a function called primes(n) that generates the first n prime numbers.\n",
    "\n",
    "- Use the function to calculate the cube root of the first 64 primes.\n",
    "\n",
    "- For each cube root, extract the first thirty-two bits of the fractional part.\n",
    "\n",
    "- Display the result in hexadecimal.\n",
    "\n",
    "- Test the results against what is in the Secure Hash Standard."
   ]
  },
  {
   "cell_type": "markdown",
   "id": "376a56d4",
   "metadata": {},
   "source": [
    "#### Description\n",
    "\n",
    "Calculating the first `n` prime numbers is not a simple task, and requires some complexity to design an algorithm with an efficient runtime.\n",
    "\n",
    "##### What is a prime number?\n",
    "\n",
    "A prime number is any positive integer with only two factors: 1 and n.\n",
    "\n",
    "##### Obvious constraints\n",
    "\n",
    "- Any prime number greater than `2` must be odd, as any other even number is divisible by `2`. This halves our search space and saves on memory.\n",
    "- If `n = 0`, return `[]`.\n",
    "- If `n = 1`, return `[2]`, as 2 is the first prime number.\n",
    "- For each prime number we find, multiples of these numbers are not primes (e.g. for `7`, the numbers `[14, 21, 28...]` are not primes).\n",
    "- If `x` is our limit, we only need to check for primes up to and including `SQRT(x)`, as the factors multiplied by these factors to add up to the number have already been checked.\n",
    "- A practical and limited search space must be defined with respect to `n`. Since prime numbers are unpredictable, it is hard to calculate the exact search space, however our search space can be expanded iteratively if too small."
   ]
  },
  {
   "cell_type": "code",
   "execution_count": 180,
   "id": "c79d4a70",
   "metadata": {},
   "outputs": [],
   "source": [
    "\"\"\"\n",
    "Parameters:\n",
    "    n (int): The index of the prime number to estimate.\n",
    "\n",
    "Returns:\n",
    "    int: The estimated value as an unsigned int (positive integer).\n",
    "\"\"\"\n",
    "def estimate_nth_prime(n):\n",
    "    return np.uint32(n * np.log(n))  # Returns a positive integer, equivalent to unsigned"
   ]
  },
  {
   "cell_type": "code",
   "execution_count": 187,
   "id": "1b33fb30",
   "metadata": {},
   "outputs": [],
   "source": [
    "def primes(n):\n",
    "    \n",
    "    if (n < 0):\n",
    "        raise ValueError(\"n must be a non-negative integer.\")\n",
    "    if (n == 0):\n",
    "        return []\n",
    "    if (n == 1):\n",
    "        return [2]\n",
    "    \n",
    "    primes_list = [2]\n",
    "    \n",
    "    # Set practical search space\n",
    "    search_size = estimate_nth_prime(n)\n",
    "    print(search_size)\n",
    "    \n",
    "    # We should define an array of booleans that represent the odd numbers from 3 to search_size.\n",
    "    # is_Prime[0] represents if 3 is prime or not.\n",
    "    array_size = (search_size - 3) // 2 + 1  # Number of odd numbers from 3 to search_size\n",
    "    \n",
    "    # Assume each number is prime until proven otherwise.\n",
    "    is_prime = [True] * array_size  # is_prime[0] for 3, is_prime[1] for 5, etc.\n",
    "\n",
    "    current_i = 0  # Track the current index being processed\n",
    "\n",
    "    while len(primes_list) < n:\n",
    "        if current_i >= len(is_prime):\n",
    "            # Double the search space if we've processed all current indices\n",
    "            search_size *= 2\n",
    "            new_array_size = (search_size - 3) // 2 + 1\n",
    "            old_array_size = len(is_prime)\n",
    "            \n",
    "            # Extend the is_prime list to contain spaces for the new odd numbers in the new range (potential primes)\n",
    "            is_prime.extend([True] * (new_array_size - old_array_size))\n",
    "            \n",
    "            # Now cross out multiples of previous primes in the new range\n",
    "            # Only odd multiples need to be checked, as even multiples are divisible by 2 and therefore not prime\n",
    "            new_start_index = old_array_size\n",
    "            for p in primes_list:\n",
    "                for i in range(new_start_index, len(is_prime)):\n",
    "                    # Calculate candidate number from index\n",
    "                    num = 3 + 2 * i\n",
    "                    if num % p == 0:\n",
    "                        is_prime[i] = False\n",
    "        \n",
    "        if is_prime[current_i]:\n",
    "            prime_candidate = 3 + 2 * current_i  # Map index to actual odd number\n",
    "            primes_list.append(prime_candidate)\n",
    "            # Mark multiples of the found prime as non-prime\n",
    "            for multiple in range(prime_candidate * prime_candidate, search_size + 1, prime_candidate):\n",
    "                if multiple % 2 == 1:  # Only cross out odd multiples\n",
    "                    index = (multiple - 3) // 2\n",
    "                    if index < len(is_prime):\n",
    "                        is_prime[index] = False\n",
    "        \n",
    "        current_i += 1\n",
    "\n",
    "    return primes_list"
   ]
  },
  {
   "cell_type": "code",
   "execution_count": 188,
   "id": "bcfc8ed4",
   "metadata": {},
   "outputs": [
    {
     "name": "stdout",
     "output_type": "stream",
     "text": [
      "266\n"
     ]
    },
    {
     "data": {
      "text/plain": [
       "[2,\n",
       " 3,\n",
       " 5,\n",
       " 7,\n",
       " 11,\n",
       " 13,\n",
       " 17,\n",
       " 19,\n",
       " 23,\n",
       " 29,\n",
       " 31,\n",
       " 37,\n",
       " 41,\n",
       " 43,\n",
       " 47,\n",
       " 53,\n",
       " 59,\n",
       " 61,\n",
       " 67,\n",
       " 71,\n",
       " 73,\n",
       " 79,\n",
       " 83,\n",
       " 89,\n",
       " 97,\n",
       " 101,\n",
       " 103,\n",
       " 107,\n",
       " 109,\n",
       " 113,\n",
       " 127,\n",
       " 131,\n",
       " 137,\n",
       " 139,\n",
       " 149,\n",
       " 151,\n",
       " 157,\n",
       " 163,\n",
       " 167,\n",
       " 173,\n",
       " 179,\n",
       " 181,\n",
       " 191,\n",
       " 193,\n",
       " 197,\n",
       " 199,\n",
       " 211,\n",
       " 223,\n",
       " 227,\n",
       " 229,\n",
       " 233,\n",
       " 239,\n",
       " 241,\n",
       " 251,\n",
       " 257,\n",
       " 263,\n",
       " 269,\n",
       " 271,\n",
       " 277,\n",
       " 281,\n",
       " 283,\n",
       " 293,\n",
       " 307,\n",
       " 311]"
      ]
     },
     "execution_count": 188,
     "metadata": {},
     "output_type": "execute_result"
    }
   ],
   "source": [
    "primes(64)"
   ]
  },
  {
   "cell_type": "code",
   "execution_count": 191,
   "id": "a3d9c618",
   "metadata": {},
   "outputs": [],
   "source": [
    "def test_primes_with_file(n):\n",
    "    with open('test/primes.0000', 'r') as file:\n",
    "        expected_primes = [int(line.strip()) for line in file.readlines()]\n",
    "    \n",
    "    computed_primes = primes(n)\n",
    "    print(\"Computed primes:\", computed_primes)\n",
    "    print(\"Expected primes:\", expected_primes[:n])\n",
    "\n",
    "    assert computed_primes == expected_primes[:n], f\"Expected {expected_primes[:n]}, but got {computed_primes}\"\n",
    "\n",
    "    print(\"All test cases passed.\")"
   ]
  },
  {
   "cell_type": "code",
   "execution_count": 192,
   "id": "9bd33d01",
   "metadata": {},
   "outputs": [
    {
     "name": "stdout",
     "output_type": "stream",
     "text": [
      "59\n",
      "Computed primes: [2, 3, 5, 7, 11, 13, 17, 19, 23, 29, 31, 37, 41, 43, 47, 53, 59, 61, 67, 71]\n",
      "Expected primes: [2, 3, 5, 7, 11, 13, 17, 19, 23, 29, 31, 37, 41, 43, 47, 53, 59, 61, 67, 71]\n",
      "All test cases passed.\n",
      "266\n",
      "Computed primes: [2, 3, 5, 7, 11, 13, 17, 19, 23, 29, 31, 37, 41, 43, 47, 53, 59, 61, 67, 71, 73, 79, 83, 89, 97, 101, 103, 107, 109, 113, 127, 131, 137, 139, 149, 151, 157, 163, 167, 173, 179, 181, 191, 193, 197, 199, 211, 223, 227, 229, 233, 239, 241, 251, 257, 263, 269, 271, 277, 281, 283, 293, 307, 311]\n",
      "Expected primes: [2, 3, 5, 7, 11, 13, 17, 19, 23, 29, 31, 37, 41, 43, 47, 53, 59, 61, 67, 71, 73, 79, 83, 89, 97, 101, 103, 107, 109, 113, 127, 131, 137, 139, 149, 151, 157, 163, 167, 173, 179, 181, 191, 193, 197, 199, 211, 223, 227, 229, 233, 239, 241, 251, 257, 263, 269, 271, 277, 281, 283, 293, 307, 311]\n",
      "All test cases passed.\n",
      "460\n",
      "Computed primes: [2, 3, 5, 7, 11, 13, 17, 19, 23, 29, 31, 37, 41, 43, 47, 53, 59, 61, 67, 71, 73, 79, 83, 89, 97, 101, 103, 107, 109, 113, 127, 131, 137, 139, 149, 151, 157, 163, 167, 173, 179, 181, 191, 193, 197, 199, 211, 223, 227, 229, 233, 239, 241, 251, 257, 263, 269, 271, 277, 281, 283, 293, 307, 311, 313, 317, 331, 337, 347, 349, 353, 359, 367, 373, 379, 383, 389, 397, 401, 409, 419, 421, 431, 433, 439, 443, 449, 457, 461, 463, 467, 479, 487, 491, 499, 503, 509, 521, 523, 541]\n",
      "Expected primes: [2, 3, 5, 7, 11, 13, 17, 19, 23, 29, 31, 37, 41, 43, 47, 53, 59, 61, 67, 71, 73, 79, 83, 89, 97, 101, 103, 107, 109, 113, 127, 131, 137, 139, 149, 151, 157, 163, 167, 173, 179, 181, 191, 193, 197, 199, 211, 223, 227, 229, 233, 239, 241, 251, 257, 263, 269, 271, 277, 281, 283, 293, 307, 311, 313, 317, 331, 337, 347, 349, 353, 359, 367, 373, 379, 383, 389, 397, 401, 409, 419, 421, 431, 433, 439, 443, 449, 457, 461, 463, 467, 479, 487, 491, 499, 503, 509, 521, 523, 541]\n",
      "All test cases passed.\n",
      "6907\n",
      "Computed primes: [2, 3, 5, 7, 11, 13, 17, 19, 23, 29, 31, 37, 41, 43, 47, 53, 59, 61, 67, 71, 73, 79, 83, 89, 97, 101, 103, 107, 109, 113, 127, 131, 137, 139, 149, 151, 157, 163, 167, 173, 179, 181, 191, 193, 197, 199, 211, 223, 227, 229, 233, 239, 241, 251, 257, 263, 269, 271, 277, 281, 283, 293, 307, 311, 313, 317, 331, 337, 347, 349, 353, 359, 367, 373, 379, 383, 389, 397, 401, 409, 419, 421, 431, 433, 439, 443, 449, 457, 461, 463, 467, 479, 487, 491, 499, 503, 509, 521, 523, 541, 547, 557, 563, 569, 571, 577, 587, 593, 599, 601, 607, 613, 617, 619, 631, 641, 643, 647, 653, 659, 661, 673, 677, 683, 691, 701, 709, 719, 727, 733, 739, 743, 751, 757, 761, 769, 773, 787, 797, 809, 811, 821, 823, 827, 829, 839, 853, 857, 859, 863, 877, 881, 883, 887, 907, 911, 919, 929, 937, 941, 947, 953, 967, 971, 977, 983, 991, 997, 1009, 1013, 1019, 1021, 1031, 1033, 1039, 1049, 1051, 1061, 1063, 1069, 1087, 1091, 1093, 1097, 1103, 1109, 1117, 1123, 1129, 1151, 1153, 1163, 1171, 1181, 1187, 1193, 1201, 1213, 1217, 1223, 1229, 1231, 1237, 1249, 1259, 1277, 1279, 1283, 1289, 1291, 1297, 1301, 1303, 1307, 1319, 1321, 1327, 1361, 1367, 1373, 1381, 1399, 1409, 1423, 1427, 1429, 1433, 1439, 1447, 1451, 1453, 1459, 1471, 1481, 1483, 1487, 1489, 1493, 1499, 1511, 1523, 1531, 1543, 1549, 1553, 1559, 1567, 1571, 1579, 1583, 1597, 1601, 1607, 1609, 1613, 1619, 1621, 1627, 1637, 1657, 1663, 1667, 1669, 1693, 1697, 1699, 1709, 1721, 1723, 1733, 1741, 1747, 1753, 1759, 1777, 1783, 1787, 1789, 1801, 1811, 1823, 1831, 1847, 1861, 1867, 1871, 1873, 1877, 1879, 1889, 1901, 1907, 1913, 1931, 1933, 1949, 1951, 1973, 1979, 1987, 1993, 1997, 1999, 2003, 2011, 2017, 2027, 2029, 2039, 2053, 2063, 2069, 2081, 2083, 2087, 2089, 2099, 2111, 2113, 2129, 2131, 2137, 2141, 2143, 2153, 2161, 2179, 2203, 2207, 2213, 2221, 2237, 2239, 2243, 2251, 2267, 2269, 2273, 2281, 2287, 2293, 2297, 2309, 2311, 2333, 2339, 2341, 2347, 2351, 2357, 2371, 2377, 2381, 2383, 2389, 2393, 2399, 2411, 2417, 2423, 2437, 2441, 2447, 2459, 2467, 2473, 2477, 2503, 2521, 2531, 2539, 2543, 2549, 2551, 2557, 2579, 2591, 2593, 2609, 2617, 2621, 2633, 2647, 2657, 2659, 2663, 2671, 2677, 2683, 2687, 2689, 2693, 2699, 2707, 2711, 2713, 2719, 2729, 2731, 2741, 2749, 2753, 2767, 2777, 2789, 2791, 2797, 2801, 2803, 2819, 2833, 2837, 2843, 2851, 2857, 2861, 2879, 2887, 2897, 2903, 2909, 2917, 2927, 2939, 2953, 2957, 2963, 2969, 2971, 2999, 3001, 3011, 3019, 3023, 3037, 3041, 3049, 3061, 3067, 3079, 3083, 3089, 3109, 3119, 3121, 3137, 3163, 3167, 3169, 3181, 3187, 3191, 3203, 3209, 3217, 3221, 3229, 3251, 3253, 3257, 3259, 3271, 3299, 3301, 3307, 3313, 3319, 3323, 3329, 3331, 3343, 3347, 3359, 3361, 3371, 3373, 3389, 3391, 3407, 3413, 3433, 3449, 3457, 3461, 3463, 3467, 3469, 3491, 3499, 3511, 3517, 3527, 3529, 3533, 3539, 3541, 3547, 3557, 3559, 3571, 3581, 3583, 3593, 3607, 3613, 3617, 3623, 3631, 3637, 3643, 3659, 3671, 3673, 3677, 3691, 3697, 3701, 3709, 3719, 3727, 3733, 3739, 3761, 3767, 3769, 3779, 3793, 3797, 3803, 3821, 3823, 3833, 3847, 3851, 3853, 3863, 3877, 3881, 3889, 3907, 3911, 3917, 3919, 3923, 3929, 3931, 3943, 3947, 3967, 3989, 4001, 4003, 4007, 4013, 4019, 4021, 4027, 4049, 4051, 4057, 4073, 4079, 4091, 4093, 4099, 4111, 4127, 4129, 4133, 4139, 4153, 4157, 4159, 4177, 4201, 4211, 4217, 4219, 4229, 4231, 4241, 4243, 4253, 4259, 4261, 4271, 4273, 4283, 4289, 4297, 4327, 4337, 4339, 4349, 4357, 4363, 4373, 4391, 4397, 4409, 4421, 4423, 4441, 4447, 4451, 4457, 4463, 4481, 4483, 4493, 4507, 4513, 4517, 4519, 4523, 4547, 4549, 4561, 4567, 4583, 4591, 4597, 4603, 4621, 4637, 4639, 4643, 4649, 4651, 4657, 4663, 4673, 4679, 4691, 4703, 4721, 4723, 4729, 4733, 4751, 4759, 4783, 4787, 4789, 4793, 4799, 4801, 4813, 4817, 4831, 4861, 4871, 4877, 4889, 4903, 4909, 4919, 4931, 4933, 4937, 4943, 4951, 4957, 4967, 4969, 4973, 4987, 4993, 4999, 5003, 5009, 5011, 5021, 5023, 5039, 5051, 5059, 5077, 5081, 5087, 5099, 5101, 5107, 5113, 5119, 5147, 5153, 5167, 5171, 5179, 5189, 5197, 5209, 5227, 5231, 5233, 5237, 5261, 5273, 5279, 5281, 5297, 5303, 5309, 5323, 5333, 5347, 5351, 5381, 5387, 5393, 5399, 5407, 5413, 5417, 5419, 5431, 5437, 5441, 5443, 5449, 5471, 5477, 5479, 5483, 5501, 5503, 5507, 5519, 5521, 5527, 5531, 5557, 5563, 5569, 5573, 5581, 5591, 5623, 5639, 5641, 5647, 5651, 5653, 5657, 5659, 5669, 5683, 5689, 5693, 5701, 5711, 5717, 5737, 5741, 5743, 5749, 5779, 5783, 5791, 5801, 5807, 5813, 5821, 5827, 5839, 5843, 5849, 5851, 5857, 5861, 5867, 5869, 5879, 5881, 5897, 5903, 5923, 5927, 5939, 5953, 5981, 5987, 6007, 6011, 6029, 6037, 6043, 6047, 6053, 6067, 6073, 6079, 6089, 6091, 6101, 6113, 6121, 6131, 6133, 6143, 6151, 6163, 6173, 6197, 6199, 6203, 6211, 6217, 6221, 6229, 6247, 6257, 6263, 6269, 6271, 6277, 6287, 6299, 6301, 6311, 6317, 6323, 6329, 6337, 6343, 6353, 6359, 6361, 6367, 6373, 6379, 6389, 6397, 6421, 6427, 6449, 6451, 6469, 6473, 6481, 6491, 6521, 6529, 6547, 6551, 6553, 6563, 6569, 6571, 6577, 6581, 6599, 6607, 6619, 6637, 6653, 6659, 6661, 6673, 6679, 6689, 6691, 6701, 6703, 6709, 6719, 6733, 6737, 6761, 6763, 6779, 6781, 6791, 6793, 6803, 6823, 6827, 6829, 6833, 6841, 6857, 6863, 6869, 6871, 6883, 6899, 6907, 6911, 6917, 6947, 6949, 6959, 6961, 6967, 6971, 6977, 6983, 6991, 6997, 7001, 7013, 7019, 7027, 7039, 7043, 7057, 7069, 7079, 7103, 7109, 7121, 7127, 7129, 7151, 7159, 7177, 7187, 7193, 7207, 7211, 7213, 7219, 7229, 7237, 7243, 7247, 7253, 7283, 7297, 7307, 7309, 7321, 7331, 7333, 7349, 7351, 7369, 7393, 7411, 7417, 7433, 7451, 7457, 7459, 7477, 7481, 7487, 7489, 7499, 7507, 7517, 7523, 7529, 7537, 7541, 7547, 7549, 7559, 7561, 7573, 7577, 7583, 7589, 7591, 7603, 7607, 7621, 7639, 7643, 7649, 7669, 7673, 7681, 7687, 7691, 7699, 7703, 7717, 7723, 7727, 7741, 7753, 7757, 7759, 7789, 7793, 7817, 7823, 7829, 7841, 7853, 7867, 7873, 7877, 7879, 7883, 7901, 7907, 7919]\n",
      "Expected primes: [2, 3, 5, 7, 11, 13, 17, 19, 23, 29, 31, 37, 41, 43, 47, 53, 59, 61, 67, 71, 73, 79, 83, 89, 97, 101, 103, 107, 109, 113, 127, 131, 137, 139, 149, 151, 157, 163, 167, 173, 179, 181, 191, 193, 197, 199, 211, 223, 227, 229, 233, 239, 241, 251, 257, 263, 269, 271, 277, 281, 283, 293, 307, 311, 313, 317, 331, 337, 347, 349, 353, 359, 367, 373, 379, 383, 389, 397, 401, 409, 419, 421, 431, 433, 439, 443, 449, 457, 461, 463, 467, 479, 487, 491, 499, 503, 509, 521, 523, 541, 547, 557, 563, 569, 571, 577, 587, 593, 599, 601, 607, 613, 617, 619, 631, 641, 643, 647, 653, 659, 661, 673, 677, 683, 691, 701, 709, 719, 727, 733, 739, 743, 751, 757, 761, 769, 773, 787, 797, 809, 811, 821, 823, 827, 829, 839, 853, 857, 859, 863, 877, 881, 883, 887, 907, 911, 919, 929, 937, 941, 947, 953, 967, 971, 977, 983, 991, 997, 1009, 1013, 1019, 1021, 1031, 1033, 1039, 1049, 1051, 1061, 1063, 1069, 1087, 1091, 1093, 1097, 1103, 1109, 1117, 1123, 1129, 1151, 1153, 1163, 1171, 1181, 1187, 1193, 1201, 1213, 1217, 1223, 1229, 1231, 1237, 1249, 1259, 1277, 1279, 1283, 1289, 1291, 1297, 1301, 1303, 1307, 1319, 1321, 1327, 1361, 1367, 1373, 1381, 1399, 1409, 1423, 1427, 1429, 1433, 1439, 1447, 1451, 1453, 1459, 1471, 1481, 1483, 1487, 1489, 1493, 1499, 1511, 1523, 1531, 1543, 1549, 1553, 1559, 1567, 1571, 1579, 1583, 1597, 1601, 1607, 1609, 1613, 1619, 1621, 1627, 1637, 1657, 1663, 1667, 1669, 1693, 1697, 1699, 1709, 1721, 1723, 1733, 1741, 1747, 1753, 1759, 1777, 1783, 1787, 1789, 1801, 1811, 1823, 1831, 1847, 1861, 1867, 1871, 1873, 1877, 1879, 1889, 1901, 1907, 1913, 1931, 1933, 1949, 1951, 1973, 1979, 1987, 1993, 1997, 1999, 2003, 2011, 2017, 2027, 2029, 2039, 2053, 2063, 2069, 2081, 2083, 2087, 2089, 2099, 2111, 2113, 2129, 2131, 2137, 2141, 2143, 2153, 2161, 2179, 2203, 2207, 2213, 2221, 2237, 2239, 2243, 2251, 2267, 2269, 2273, 2281, 2287, 2293, 2297, 2309, 2311, 2333, 2339, 2341, 2347, 2351, 2357, 2371, 2377, 2381, 2383, 2389, 2393, 2399, 2411, 2417, 2423, 2437, 2441, 2447, 2459, 2467, 2473, 2477, 2503, 2521, 2531, 2539, 2543, 2549, 2551, 2557, 2579, 2591, 2593, 2609, 2617, 2621, 2633, 2647, 2657, 2659, 2663, 2671, 2677, 2683, 2687, 2689, 2693, 2699, 2707, 2711, 2713, 2719, 2729, 2731, 2741, 2749, 2753, 2767, 2777, 2789, 2791, 2797, 2801, 2803, 2819, 2833, 2837, 2843, 2851, 2857, 2861, 2879, 2887, 2897, 2903, 2909, 2917, 2927, 2939, 2953, 2957, 2963, 2969, 2971, 2999, 3001, 3011, 3019, 3023, 3037, 3041, 3049, 3061, 3067, 3079, 3083, 3089, 3109, 3119, 3121, 3137, 3163, 3167, 3169, 3181, 3187, 3191, 3203, 3209, 3217, 3221, 3229, 3251, 3253, 3257, 3259, 3271, 3299, 3301, 3307, 3313, 3319, 3323, 3329, 3331, 3343, 3347, 3359, 3361, 3371, 3373, 3389, 3391, 3407, 3413, 3433, 3449, 3457, 3461, 3463, 3467, 3469, 3491, 3499, 3511, 3517, 3527, 3529, 3533, 3539, 3541, 3547, 3557, 3559, 3571, 3581, 3583, 3593, 3607, 3613, 3617, 3623, 3631, 3637, 3643, 3659, 3671, 3673, 3677, 3691, 3697, 3701, 3709, 3719, 3727, 3733, 3739, 3761, 3767, 3769, 3779, 3793, 3797, 3803, 3821, 3823, 3833, 3847, 3851, 3853, 3863, 3877, 3881, 3889, 3907, 3911, 3917, 3919, 3923, 3929, 3931, 3943, 3947, 3967, 3989, 4001, 4003, 4007, 4013, 4019, 4021, 4027, 4049, 4051, 4057, 4073, 4079, 4091, 4093, 4099, 4111, 4127, 4129, 4133, 4139, 4153, 4157, 4159, 4177, 4201, 4211, 4217, 4219, 4229, 4231, 4241, 4243, 4253, 4259, 4261, 4271, 4273, 4283, 4289, 4297, 4327, 4337, 4339, 4349, 4357, 4363, 4373, 4391, 4397, 4409, 4421, 4423, 4441, 4447, 4451, 4457, 4463, 4481, 4483, 4493, 4507, 4513, 4517, 4519, 4523, 4547, 4549, 4561, 4567, 4583, 4591, 4597, 4603, 4621, 4637, 4639, 4643, 4649, 4651, 4657, 4663, 4673, 4679, 4691, 4703, 4721, 4723, 4729, 4733, 4751, 4759, 4783, 4787, 4789, 4793, 4799, 4801, 4813, 4817, 4831, 4861, 4871, 4877, 4889, 4903, 4909, 4919, 4931, 4933, 4937, 4943, 4951, 4957, 4967, 4969, 4973, 4987, 4993, 4999, 5003, 5009, 5011, 5021, 5023, 5039, 5051, 5059, 5077, 5081, 5087, 5099, 5101, 5107, 5113, 5119, 5147, 5153, 5167, 5171, 5179, 5189, 5197, 5209, 5227, 5231, 5233, 5237, 5261, 5273, 5279, 5281, 5297, 5303, 5309, 5323, 5333, 5347, 5351, 5381, 5387, 5393, 5399, 5407, 5413, 5417, 5419, 5431, 5437, 5441, 5443, 5449, 5471, 5477, 5479, 5483, 5501, 5503, 5507, 5519, 5521, 5527, 5531, 5557, 5563, 5569, 5573, 5581, 5591, 5623, 5639, 5641, 5647, 5651, 5653, 5657, 5659, 5669, 5683, 5689, 5693, 5701, 5711, 5717, 5737, 5741, 5743, 5749, 5779, 5783, 5791, 5801, 5807, 5813, 5821, 5827, 5839, 5843, 5849, 5851, 5857, 5861, 5867, 5869, 5879, 5881, 5897, 5903, 5923, 5927, 5939, 5953, 5981, 5987, 6007, 6011, 6029, 6037, 6043, 6047, 6053, 6067, 6073, 6079, 6089, 6091, 6101, 6113, 6121, 6131, 6133, 6143, 6151, 6163, 6173, 6197, 6199, 6203, 6211, 6217, 6221, 6229, 6247, 6257, 6263, 6269, 6271, 6277, 6287, 6299, 6301, 6311, 6317, 6323, 6329, 6337, 6343, 6353, 6359, 6361, 6367, 6373, 6379, 6389, 6397, 6421, 6427, 6449, 6451, 6469, 6473, 6481, 6491, 6521, 6529, 6547, 6551, 6553, 6563, 6569, 6571, 6577, 6581, 6599, 6607, 6619, 6637, 6653, 6659, 6661, 6673, 6679, 6689, 6691, 6701, 6703, 6709, 6719, 6733, 6737, 6761, 6763, 6779, 6781, 6791, 6793, 6803, 6823, 6827, 6829, 6833, 6841, 6857, 6863, 6869, 6871, 6883, 6899, 6907, 6911, 6917, 6947, 6949, 6959, 6961, 6967, 6971, 6977, 6983, 6991, 6997, 7001, 7013, 7019, 7027, 7039, 7043, 7057, 7069, 7079, 7103, 7109, 7121, 7127, 7129, 7151, 7159, 7177, 7187, 7193, 7207, 7211, 7213, 7219, 7229, 7237, 7243, 7247, 7253, 7283, 7297, 7307, 7309, 7321, 7331, 7333, 7349, 7351, 7369, 7393, 7411, 7417, 7433, 7451, 7457, 7459, 7477, 7481, 7487, 7489, 7499, 7507, 7517, 7523, 7529, 7537, 7541, 7547, 7549, 7559, 7561, 7573, 7577, 7583, 7589, 7591, 7603, 7607, 7621, 7639, 7643, 7649, 7669, 7673, 7681, 7687, 7691, 7699, 7703, 7717, 7723, 7727, 7741, 7753, 7757, 7759, 7789, 7793, 7817, 7823, 7829, 7841, 7853, 7867, 7873, 7877, 7879, 7883, 7901, 7907, 7919]\n",
      "All test cases passed.\n"
     ]
    }
   ],
   "source": [
    "test_primes_with_file(20)\n",
    "test_primes_with_file(64)\n",
    "test_primes_with_file(100)\n",
    "test_primes_with_file(1000)"
   ]
  },
  {
   "cell_type": "markdown",
   "id": "40ff2c4f",
   "metadata": {},
   "source": [
    "## Problem 3"
   ]
  },
  {
   "cell_type": "markdown",
   "id": "9862fb12",
   "metadata": {},
   "source": [
    "## Problem 4"
   ]
  },
  {
   "cell_type": "markdown",
   "id": "07124713",
   "metadata": {},
   "source": [
    "## Problem 5"
   ]
  },
  {
   "cell_type": "markdown",
   "id": "487275f1",
   "metadata": {},
   "source": [
    "## End"
   ]
  }
 ],
 "metadata": {
  "kernelspec": {
   "display_name": "base",
   "language": "python",
   "name": "python3"
  },
  "language_info": {
   "codemirror_mode": {
    "name": "ipython",
    "version": 3
   },
   "file_extension": ".py",
   "mimetype": "text/x-python",
   "name": "python",
   "nbconvert_exporter": "python",
   "pygments_lexer": "ipython3",
   "version": "3.12.7"
  }
 },
 "nbformat": 4,
 "nbformat_minor": 5
}
