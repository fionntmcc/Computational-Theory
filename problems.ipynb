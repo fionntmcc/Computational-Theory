{
 "cells": [
  {
   "cell_type": "markdown",
   "id": "f365caba",
   "metadata": {},
   "source": [
    "# Computational Theory Assignment"
   ]
  },
  {
   "cell_type": "code",
   "execution_count": 1,
   "id": "675e7884",
   "metadata": {},
   "outputs": [],
   "source": [
    "# Necessary imports\n",
    "\n",
    "import numpy as np"
   ]
  },
  {
   "cell_type": "markdown",
   "id": "07e5e9dc",
   "metadata": {},
   "source": [
    "## Problem 1"
   ]
  },
  {
   "cell_type": "markdown",
   "id": "bd64edb9",
   "metadata": {},
   "source": [
    "### SHA-1 Parity Function\n",
    "\n",
    "The `Parity` function implements the SHA-1 Parity operation, which performs a bitwise XOR across three input values. This is commonly used in cryptographic hash functions to mix bits and increase unpredictability.\n",
    "\n",
    "Each input should be an integer representing a binary value. The function returns the result as a binary string.\n",
    "\n",
    "#### Example Usage\n",
    "\n",
    "```python\n",
    "result = Parity(0b1111, 0b1010, 0b0101)\n",
    "print(result)  # Output: '0b0'\n",
    "```\n",
    "\n",
    "In this example, the function computes the XOR of the three binary numbers and returns the result in binary format."
   ]
  },
  {
   "cell_type": "markdown",
   "id": "ebf869aa",
   "metadata": {},
   "source": [
    "#### Code"
   ]
  },
  {
   "cell_type": "code",
   "execution_count": 2,
   "id": "712bffc3",
   "metadata": {},
   "outputs": [],
   "source": [
    "def Parity(x, y, z):\n",
    "    \"\"\"\n",
    "    SHA-1 Parity function.\n",
    "\n",
    "    Parameters:\n",
    "        x (int): first value (interpreted as binary).\n",
    "        y (int): second value (interpreted as binary).\n",
    "        z (int): third value (interpreted as binary).\n",
    "\n",
    "    Returns:\n",
    "        str: The result of the parity as a binary string.\n",
    "    \"\"\"\n",
    "    x = np.uint32(x)\n",
    "    y = np.uint32(y)\n",
    "    z = np.uint32(z)\n",
    "    \n",
    "    # SHA-1 Parity function = bitwise XOR of each bit position\n",
    "    result = x ^ y ^ z   # ^ is the bitwise XOR operator in Python\n",
    "\n",
    "    return bin(result)\n"
   ]
  },
  {
   "cell_type": "markdown",
   "id": "e91869e5",
   "metadata": {},
   "source": [
    "#### Testing"
   ]
  },
  {
   "cell_type": "code",
   "execution_count": 3,
   "id": "9df3a1be",
   "metadata": {},
   "outputs": [],
   "source": [
    "def test_parity():\n",
    "    assert Parity(0b0, 0b0, 0b0) == '0b0', \"All zeros should return 0b0\"\n",
    "    assert Parity(0b1, 0b0, 0b0) == '0b1', \"Single one should return 0b1\"\n",
    "    assert Parity(0b1, 0b1, 0b0) == '0b0', \"Two ones should return 0b0\"\n",
    "    assert Parity(0b1, 0b1, 0b1) == '0b1', \"Three ones should return 0b1\"\n",
    "    assert Parity(0b101, 0b010, 0b001) == '0b110', \"Mixed bits test\"\n",
    "    assert Parity(0b1111, 0b1010, 0b0101) == '0b0', \"4-bit test\"\n",
    "    print('All test cases passed.')"
   ]
  },
  {
   "cell_type": "code",
   "execution_count": 4,
   "id": "6577317c",
   "metadata": {},
   "outputs": [
    {
     "name": "stdout",
     "output_type": "stream",
     "text": [
      "All test cases passed.\n"
     ]
    }
   ],
   "source": [
    "# Run all tests\n",
    "test_parity()"
   ]
  },
  {
   "cell_type": "markdown",
   "id": "39364ef1",
   "metadata": {},
   "source": [
    "### SHA-1 Choose (Ch) Function\n",
    "\n",
    "The `Ch` function implements the SHA-1 'choose' operation, which selects bits from the second or third input based on the bits of the first input. For each bit position, if the corresponding bit in `x` is 1, the result is the bit from `y`; otherwise, it's the bit from `z`. This is expressed as `(x & y) ^ (~x & z)`.\n",
    "\n",
    "Each input should be an integer representing a binary value. The function returns the result as a binary string.\n",
    "\n",
    "#### Example Usage\n",
    "\n",
    "```python\n",
    "result = Ch(0b1111, 0b1010, 0b0101)\n",
    "print(result)  # Output: '0b1010'\n",
    "```\n",
    "\n",
    "In this example, the function chooses bits from `y` where `x` is 1, and from `z` where `x` is 0."
   ]
  },
  {
   "cell_type": "code",
   "execution_count": 5,
   "id": "6a210a55",
   "metadata": {},
   "outputs": [],
   "source": [
    "def Ch(x, y, z):\n",
    "    \"\"\"\n",
    "    SHA-1 choose (Ch) function.\n",
    "\n",
    "    Parameters:\n",
    "        x (int): first value (interpreted as binary).\n",
    "        y (int): second value (interpreted as binary).\n",
    "        z (int): third value (interpreted as binary).\n",
    "\n",
    "    Returns:\n",
    "        str: The result of the choose function as a binary string.\n",
    "    \"\"\"\n",
    "    x = np.uint32(x)\n",
    "    y = np.uint32(y)\n",
    "    z = np.uint32(z)\n",
    "\n",
    "    # SHA-1 choose function: (x & y) ^ (~x & z)\n",
    "    result = (x & y) ^ (~x & z)\n",
    "\n",
    "    return bin(result)"
   ]
  },
  {
   "cell_type": "code",
   "execution_count": 6,
   "id": "b481976b",
   "metadata": {},
   "outputs": [],
   "source": [
    "Ch(0b101, 0b010, 0b001)\n",
    "\n",
    "def test_Ch():\n",
    "    assert Ch(0b0, 0b0, 0b0) == '0b0', \"All zeros should return 0b0\"\n",
    "    assert Ch(0b1, 0b0, 0b0) == '0b0', \"x=1, y=0, z=0 should return 0b0\"\n",
    "    assert Ch(0b1, 0b1, 0b0) == '0b1', \"x=1, y=1, z=0 should return 0b1\"\n",
    "    assert Ch(0b0, 0b1, 0b1) == '0b1', \"x=0, y=1, z=1 should return 0b1\"\n",
    "    assert Ch(0b101, 0b010, 0b001) == '0b0', \"Mixed bits test, testing all false returns\"\n",
    "    assert Ch(0b1111, 0b1010, 0b0101) == '0b1010', \"4-bit test\"\n",
    "    print('All test cases passed.')"
   ]
  },
  {
   "cell_type": "code",
   "execution_count": 7,
   "id": "e3b2d38f",
   "metadata": {},
   "outputs": [
    {
     "name": "stdout",
     "output_type": "stream",
     "text": [
      "All test cases passed.\n"
     ]
    }
   ],
   "source": [
    "# Run all tests\n",
    "test_Ch()"
   ]
  },
  {
   "cell_type": "markdown",
   "id": "272e58d3",
   "metadata": {},
   "source": [
    "### SHA-1 Majority (Maj) Function\n",
    "\n",
    "The `Maj` function implements the SHA-1 'majority' operation, which returns the majority value of each bit position among three inputs. For each bit, if at least two of the three inputs have a 1, the result is 1; otherwise, it's 0. This is expressed as `(x & y) ^ (x & z) ^ (y & z)`.\n",
    "\n",
    "Each input should be an integer representing a binary value. The function returns the result as a binary string.\n",
    "\n",
    "#### Example Usage\n",
    "\n",
    "```python\n",
    "result = Maj(0b1111, 0b1010, 0b0101)\n",
    "print(result)  # Output: '0b1111'\n",
    "```\n",
    "\n",
    "In this example, the function computes the majority for each bit position and returns the result in binary format."
   ]
  },
  {
   "cell_type": "markdown",
   "id": "4a2ea091",
   "metadata": {},
   "source": [
    "#### Code"
   ]
  },
  {
   "cell_type": "code",
   "execution_count": 8,
   "id": "b9a19a8c",
   "metadata": {},
   "outputs": [],
   "source": [
    "def Maj(x, y, z):\n",
    "    \"\"\"\n",
    "    SHA-1 majority (Maj) function.\n",
    "\n",
    "    Parameters:\n",
    "        x (int): first value (interpreted as binary).\n",
    "        y (int): second value (interpreted as binary).\n",
    "        z (int): third value (interpreted as binary).\n",
    "\n",
    "    Returns:\n",
    "        str: The result of the majority function as a binary string.\n",
    "    \"\"\"\n",
    "    x = np.uint32(x)\n",
    "    y = np.uint32(y)\n",
    "    z = np.uint32(z)\n",
    "\n",
    "    # SHA-1 majority function: (x & y) ^ (x & z) ^ (y & z)\n",
    "    result = (x & y) ^ (x & z) ^ (y & z)\n",
    "\n",
    "    return bin(result)"
   ]
  },
  {
   "cell_type": "markdown",
   "id": "776b193f",
   "metadata": {},
   "source": [
    "#### Testing"
   ]
  },
  {
   "cell_type": "code",
   "execution_count": 9,
   "id": "f882afac",
   "metadata": {},
   "outputs": [],
   "source": [
    "def test_Maj():\n",
    "    assert Maj(0b0, 0b0, 0b0) == '0b0', \"All zeros should return 0b0\"\n",
    "    assert Maj(0b1, 0b0, 0b0) == '0b0', \"Only one bit set should return 0b0\"\n",
    "    assert Maj(0b1, 0b1, 0b0) == '0b1', \"Two bits set should return 0b1\"\n",
    "    assert Maj(0b1, 0b1, 0b1) == '0b1', \"All bits set should return 0b1\"\n",
    "    assert Maj(0b101, 0b010, 0b001) == '0b1', \"Mixed bits test\"\n",
    "    assert Maj(0b1111, 0b1010, 0b0101) == '0b1111', \"4-bit test\"\n",
    "    assert Maj(0b111, 0b110, 0b111) == '0b111', \"Example of full bits\"\n",
    "    print('All test cases passed.')"
   ]
  },
  {
   "cell_type": "code",
   "execution_count": 10,
   "id": "863049a2",
   "metadata": {},
   "outputs": [
    {
     "name": "stdout",
     "output_type": "stream",
     "text": [
      "All test cases passed.\n"
     ]
    }
   ],
   "source": [
    "# Run all tests\n",
    "test_Maj()"
   ]
  },
  {
   "cell_type": "markdown",
   "id": "a4268efc",
   "metadata": {},
   "source": [
    "### SHA-1 Sigma0 Function\n",
    "\n",
    "The `Sigma0` function is a bitwise operation used in SHA-1 and similar hash algorithms. It performs a combination of right rotations on the input value and XORs the results. For SHA-1, Sigma0 is typically defined as:\n",
    "\n",
    "`Sigma0(x) = ROTR^2(x) ^ ROTR^13(x) ^ ROTR^22(x)`\n",
    "\n",
    "where `ROTR^n(x)` means rotate the bits of `x` right by `n` positions. This is not the same as a right bitshift as the `n` leftmost bits are placed in order in the rightmost position, and the remaining bits are placed in the leftmost position.\n",
    "\n",
    "Each input should be a 32-bit integer. The function returns the result as a binary string.\n",
    "\n",
    "#### Example Usage\n",
    "\n",
    "```python\n",
    "result = Sigma0(0b11110000111100001111000011110000)\n",
    "print(result)  # Output: binary string\n",
    "```\n",
    "\n",
    "In this example, the function applies the three rotations and XORs the results."
   ]
  },
  {
   "cell_type": "markdown",
   "id": "a368e215",
   "metadata": {},
   "source": [
    "#### Code"
   ]
  },
  {
   "cell_type": "code",
   "execution_count": 11,
   "id": "ea8458f0",
   "metadata": {},
   "outputs": [],
   "source": [
    "def ROTR(x, n):\n",
    "    \"\"\"Right rotate a 32-bit integer x by n bits.\"\"\"\n",
    "    x = np.uint32(x)\n",
    "    return np.uint32((x >> n) | (x << (32 - n)))  # wrap-around\n",
    "\n",
    "def Sigma0(x):\n",
    "    \"\"\"\n",
    "    SHA-1 Sigma0 function.\n",
    "\n",
    "    Parameters:\n",
    "        x (int): 32-bit integer input.\n",
    "\n",
    "    Returns:\n",
    "        str: The result of Sigma0 as a binary string.\n",
    "    \"\"\"\n",
    "    x = np.uint32(x)\n",
    "    result = ROTR(x, 2) ^ ROTR(x, 13) ^ ROTR(x, 22)\n",
    "    return bin(int(result))"
   ]
  },
  {
   "cell_type": "markdown",
   "id": "f0b6e1fe",
   "metadata": {},
   "source": [
    "#### Testing"
   ]
  },
  {
   "cell_type": "code",
   "execution_count": 12,
   "id": "c31df970",
   "metadata": {},
   "outputs": [],
   "source": [
    "def test_Sigma0():\n",
    "    # Test with all zeros\n",
    "    assert Sigma0(0b0) == '0b0', \"All zeros should return 0b0\"\n",
    "    # Test with all ones (32 bits)\n",
    "    assert Sigma0(0xFFFFFFFF) == '0b11111111111111111111111111111111', \"All ones should return all ones (since all rotations are the same)\"\n",
    "    # Test with a pattern\n",
    "    assert isinstance(Sigma0(0b11110000111100001111000011110000), str), \"Should return a binary string\"\n",
    "    print('All test cases passed.')"
   ]
  },
  {
   "cell_type": "code",
   "execution_count": 13,
   "id": "55b9579e",
   "metadata": {},
   "outputs": [
    {
     "name": "stdout",
     "output_type": "stream",
     "text": [
      "All test cases passed.\n"
     ]
    }
   ],
   "source": [
    "# Run all tests\n",
    "test_Sigma0()"
   ]
  },
  {
   "cell_type": "markdown",
   "id": "2bdd9bad",
   "metadata": {},
   "source": [
    "### SHA-1 Sigma1 Function"
   ]
  },
  {
   "cell_type": "markdown",
   "id": "87a7ca1e",
   "metadata": {},
   "source": [
    "#### Code"
   ]
  },
  {
   "cell_type": "code",
   "execution_count": 14,
   "id": "a1649c5d",
   "metadata": {},
   "outputs": [],
   "source": [
    "def Sigma1(x):\n",
    "    \"\"\"\n",
    "    SHA-1 Sigma1 function.\n",
    "\n",
    "    Parameters:\n",
    "        x (int): 32-bit integer input.\n",
    "\n",
    "    Returns:\n",
    "        str: The result of Sigma1 as a binary string.\n",
    "    \"\"\"\n",
    "    x = np.uint32(x)\n",
    "    result = ROTR(x, 6) ^ ROTR(x, 11) ^ ROTR(x, 25)\n",
    "    return bin(int(result))\n",
    "\n",
    "def test_Sigma1():\n",
    "    # Test with all zeros\n",
    "    assert Sigma1(0b0) == '0b0', \"All zeros should return 0b0\"\n",
    "    # Test with all ones (32 bits)\n",
    "    assert Sigma1(0xFFFFFFFF) == '0b11111111111111111111111111111111', \"All ones should return all ones (since all rotations are the same)\"\n",
    "    # Test with a pattern\n",
    "    assert isinstance(Sigma1(0b11110000111100001111000011110000), str), \"Should return a binary string\"\n",
    "    print('All test cases passed.')"
   ]
  },
  {
   "cell_type": "code",
   "execution_count": 15,
   "id": "50128008",
   "metadata": {},
   "outputs": [
    {
     "name": "stdout",
     "output_type": "stream",
     "text": [
      "All test cases passed.\n"
     ]
    }
   ],
   "source": [
    "# Run all tests\n",
    "test_Sigma1()"
   ]
  },
  {
   "cell_type": "markdown",
   "id": "3721352d",
   "metadata": {},
   "source": [
    "## Problem 2"
   ]
  },
  {
   "cell_type": "markdown",
   "id": "40ff2c4f",
   "metadata": {},
   "source": [
    "## Problem 3"
   ]
  },
  {
   "cell_type": "markdown",
   "id": "9862fb12",
   "metadata": {},
   "source": [
    "## Problem 4"
   ]
  },
  {
   "cell_type": "markdown",
   "id": "07124713",
   "metadata": {},
   "source": [
    "## Problem 5"
   ]
  },
  {
   "cell_type": "markdown",
   "id": "487275f1",
   "metadata": {},
   "source": [
    "## End"
   ]
  }
 ],
 "metadata": {
  "kernelspec": {
   "display_name": "base",
   "language": "python",
   "name": "python3"
  },
  "language_info": {
   "codemirror_mode": {
    "name": "ipython",
    "version": 3
   },
   "file_extension": ".py",
   "mimetype": "text/x-python",
   "name": "python",
   "nbconvert_exporter": "python",
   "pygments_lexer": "ipython3",
   "version": "3.12.7"
  }
 },
 "nbformat": 4,
 "nbformat_minor": 5
}
