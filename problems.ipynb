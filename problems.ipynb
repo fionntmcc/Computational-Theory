{
 "cells": [
  {
   "cell_type": "markdown",
   "id": "f365caba",
   "metadata": {},
   "source": [
    "# Computational Theory Assignment"
   ]
  },
  {
   "cell_type": "code",
   "execution_count": null,
   "id": "675e7884",
   "metadata": {},
   "outputs": [],
   "source": [
    "# Necessary imports\n",
    "\n",
    "import numpy as np"
   ]
  },
  {
   "cell_type": "markdown",
   "id": "07e5e9dc",
   "metadata": {},
   "source": [
    "## Problem 1"
   ]
  },
  {
   "cell_type": "markdown",
   "id": "bd64edb9",
   "metadata": {},
   "source": [
    "### SHA-1 Parity Function\n",
    "\n",
    "The `Parity` function implements the SHA-1 Parity operation, which performs a bitwise XOR across three input values. This is commonly used in cryptographic hash functions to mix bits and increase unpredictability.\n",
    "\n",
    "Each input should be an integer representing a binary value. The function returns the result as a binary string.\n",
    "\n",
    "#### Example Usage\n",
    "\n",
    "```python\n",
    "result = Parity(0b1111, 0b1010, 0b0101)\n",
    "print(result)  # Output: '0b0'\n",
    "```\n",
    "\n",
    "In this example, the function computes the XOR of the three binary numbers and returns the result in binary format."
   ]
  },
  {
   "cell_type": "markdown",
   "id": "ebf869aa",
   "metadata": {},
   "source": [
    "#### Code"
   ]
  },
  {
   "cell_type": "code",
   "execution_count": null,
   "id": "712bffc3",
   "metadata": {},
   "outputs": [],
   "source": [
    "def Parity(x, y, z):\n",
    "    \"\"\"\n",
    "    SHA-1 Parity function.\n",
    "\n",
    "    Parameters:\n",
    "        x (int): first value (interpreted as binary).\n",
    "        y (int): second value (interpreted as binary).\n",
    "        z (int): third value (interpreted as binary).\n",
    "\n",
    "    Returns:\n",
    "        str: The result of the parity as a binary string.\n",
    "    \"\"\"\n",
    "    x = np.uint32(x)\n",
    "    y = np.uint32(y)\n",
    "    z = np.uint32(z)\n",
    "    \n",
    "    # SHA-1 Parity function = bitwise XOR of each bit position\n",
    "    result = x ^ y ^ z   # ^ is the bitwise XOR operator in Python\n",
    "\n",
    "    return bin(result)\n"
   ]
  },
  {
   "cell_type": "markdown",
   "id": "e91869e5",
   "metadata": {},
   "source": [
    "#### Testing"
   ]
  },
  {
   "cell_type": "code",
   "execution_count": null,
   "id": "9df3a1be",
   "metadata": {},
   "outputs": [],
   "source": [
    "def test_parity():\n",
    "    assert Parity(0b0, 0b0, 0b0) == '0b0', \"All zeros should return 0b0\"\n",
    "    assert Parity(0b1, 0b0, 0b0) == '0b1', \"Single one should return 0b1\"\n",
    "    assert Parity(0b1, 0b1, 0b0) == '0b0', \"Two ones should return 0b0\"\n",
    "    assert Parity(0b1, 0b1, 0b1) == '0b1', \"Three ones should return 0b1\"\n",
    "    assert Parity(0b101, 0b010, 0b001) == '0b110', \"Mixed bits test\"\n",
    "    assert Parity(0b1111, 0b1010, 0b0101) == '0b0', \"4-bit test\"\n",
    "    print('All test cases passed.')"
   ]
  },
  {
   "cell_type": "code",
   "execution_count": null,
   "id": "6577317c",
   "metadata": {},
   "outputs": [
    {
     "name": "stdout",
     "output_type": "stream",
     "text": [
      "All test cases passed.\n"
     ]
    }
   ],
   "source": [
    "# Run all tests\n",
    "test_parity()"
   ]
  },
  {
   "cell_type": "markdown",
   "id": "39364ef1",
   "metadata": {},
   "source": [
    "### SHA-1 Choose (Ch) Function\n",
    "\n",
    "The `Ch` function implements the SHA-1 'choose' operation, which selects bits from the second or third input based on the bits of the first input. For each bit position, if the corresponding bit in `x` is 1, the result is the bit from `y`; otherwise, it's the bit from `z`. This is expressed as `(x & y) ^ (~x & z)`.\n",
    "\n",
    "Each input should be an integer representing a binary value. The function returns the result as a binary string.\n",
    "\n",
    "#### Example Usage\n",
    "\n",
    "```python\n",
    "result = Ch(0b1111, 0b1010, 0b0101)\n",
    "print(result)  # Output: '0b1010'\n",
    "```\n",
    "\n",
    "In this example, the function chooses bits from `y` where `x` is 1, and from `z` where `x` is 0."
   ]
  },
  {
   "cell_type": "code",
   "execution_count": null,
   "id": "6a210a55",
   "metadata": {},
   "outputs": [],
   "source": [
    "def Ch(x, y, z):\n",
    "    \"\"\"\n",
    "    SHA-1 choose (Ch) function.\n",
    "\n",
    "    Parameters:\n",
    "        x (int): first value (interpreted as binary).\n",
    "        y (int): second value (interpreted as binary).\n",
    "        z (int): third value (interpreted as binary).\n",
    "\n",
    "    Returns:\n",
    "        str: The result of the choose function as a binary string.\n",
    "    \"\"\"\n",
    "    x = np.uint32(x)\n",
    "    y = np.uint32(y)\n",
    "    z = np.uint32(z)\n",
    "\n",
    "    # SHA-1 choose function: (x & y) ^ (~x & z)\n",
    "    result = (x & y) ^ (~x & z)\n",
    "\n",
    "    return bin(result)"
   ]
  },
  {
   "cell_type": "code",
   "execution_count": null,
   "id": "b481976b",
   "metadata": {},
   "outputs": [],
   "source": [
    "def test_Ch():\n",
    "    assert Ch(0b0, 0b0, 0b0) == '0b0', \"All zeros should return 0b0\"\n",
    "    assert Ch(0b1, 0b0, 0b0) == '0b0', \"x=1, y=0, z=0 should return 0b0\"\n",
    "    assert Ch(0b1, 0b1, 0b0) == '0b1', \"x=1, y=1, z=0 should return 0b1\"\n",
    "    assert Ch(0b0, 0b1, 0b1) == '0b1', \"x=0, y=1, z=1 should return 0b1\"\n",
    "    assert Ch(0b101, 0b010, 0b001) == '0b001', \"Mixed bits test\"\n",
    "    assert Ch(0b1111, 0b1010, 0b0101) == '0b1010', \"4-bit test\"\n",
    "    print('All test cases passed.')"
   ]
  },
  {
   "cell_type": "code",
   "execution_count": null,
   "id": "e3b2d38f",
   "metadata": {},
   "outputs": [
    {
     "name": "stdout",
     "output_type": "stream",
     "text": [
      "All test cases passed.\n"
     ]
    }
   ],
   "source": [
    "# Run all tests\n",
    "test_Ch()"
   ]
  },
  {
   "cell_type": "markdown",
   "id": "272e58d3",
   "metadata": {},
   "source": [
    "### SHA-1 Majority (Maj) Function\n",
    "\n",
    "The `Maj` function implements the SHA-1 'majority' operation, which returns the majority value of each bit position among three inputs. For each bit, if at least two of the three inputs have a 1, the result is 1; otherwise, it's 0. This is expressed as `(x & y) ^ (x & z) ^ (y & z)`.\n",
    "\n",
    "Each input should be an integer representing a binary value. The function returns the result as a binary string.\n",
    "\n",
    "#### Example Usage\n",
    "\n",
    "```python\n",
    "result = Maj(0b1111, 0b1010, 0b0101)\n",
    "print(result)  # Output: '0b1111'\n",
    "```\n",
    "\n",
    "In this example, the function computes the majority for each bit position and returns the result in binary format."
   ]
  },
  {
   "cell_type": "markdown",
   "id": "4a2ea091",
   "metadata": {},
   "source": [
    "#### Code"
   ]
  },
  {
   "cell_type": "code",
   "execution_count": null,
   "id": "b9a19a8c",
   "metadata": {},
   "outputs": [],
   "source": [
    "def Maj(x, y, z):\n",
    "    \"\"\"\n",
    "    SHA-1 majority (Maj) function.\n",
    "\n",
    "    Parameters:\n",
    "        x (int): first value (interpreted as binary).\n",
    "        y (int): second value (interpreted as binary).\n",
    "        z (int): third value (interpreted as binary).\n",
    "\n",
    "    Returns:\n",
    "        str: The result of the majority function as a binary string.\n",
    "    \"\"\"\n",
    "    x = np.uint32(x)\n",
    "    y = np.uint32(y)\n",
    "    z = np.uint32(z)\n",
    "\n",
    "    # SHA-1 majority function: (x & y) ^ (x & z) ^ (y & z)\n",
    "    result = (x & y) ^ (x & z) ^ (y & z)\n",
    "\n",
    "    return bin(result)"
   ]
  },
  {
   "cell_type": "markdown",
   "id": "776b193f",
   "metadata": {},
   "source": [
    "#### Testing"
   ]
  },
  {
   "cell_type": "code",
   "execution_count": null,
   "id": "f882afac",
   "metadata": {},
   "outputs": [],
   "source": [
    "def test_Maj():\n",
    "    assert Maj(0b0, 0b0, 0b0) == '0b0', \"All zeros should return 0b0\"\n",
    "    assert Maj(0b1, 0b0, 0b0) == '0b0', \"Only one bit set should return 0b0\"\n",
    "    assert Maj(0b1, 0b1, 0b0) == '0b1', \"Two bits set should return 0b1\"\n",
    "    assert Maj(0b1, 0b1, 0b1) == '0b1', \"All bits set should return 0b1\"\n",
    "    assert Maj(0b101, 0b010, 0b001) == '0b1', \"Mixed bits test\"\n",
    "    assert Maj(0b1111, 0b1010, 0b0101) == '0b1111', \"4-bit test\"\n",
    "    assert Maj(0b111, 0b110, 0b111) == '0b111', \"Example of full bits\"\n",
    "    print('All test cases passed.')"
   ]
  },
  {
   "cell_type": "code",
   "execution_count": null,
   "id": "863049a2",
   "metadata": {},
   "outputs": [
    {
     "name": "stdout",
     "output_type": "stream",
     "text": [
      "All test cases passed.\n"
     ]
    }
   ],
   "source": [
    "# Run all tests\n",
    "test_Maj()"
   ]
  },
  {
   "cell_type": "markdown",
   "id": "3721352d",
   "metadata": {},
   "source": [
    "## Problem 2"
   ]
  },
  {
   "cell_type": "markdown",
   "id": "40ff2c4f",
   "metadata": {},
   "source": [
    "## Problem 3"
   ]
  },
  {
   "cell_type": "markdown",
   "id": "9862fb12",
   "metadata": {},
   "source": [
    "## Problem 4"
   ]
  },
  {
   "cell_type": "markdown",
   "id": "07124713",
   "metadata": {},
   "source": [
    "## Problem 5"
   ]
  },
  {
   "cell_type": "markdown",
   "id": "487275f1",
   "metadata": {},
   "source": [
    "## End"
   ]
  }
 ],
 "metadata": {
  "language_info": {
   "name": "python"
  }
 },
 "nbformat": 4,
 "nbformat_minor": 5
}
