{
 "cells": [
  {
   "cell_type": "markdown",
   "id": "f365caba",
   "metadata": {},
   "source": [
    "# Computational Theory Assignment"
   ]
  },
  {
   "cell_type": "code",
   "execution_count": 40,
   "id": "675e7884",
   "metadata": {},
   "outputs": [],
   "source": [
    "# Necessary imports\n",
    "\n",
    "import numpy as np"
   ]
  },
  {
   "cell_type": "markdown",
   "id": "07e5e9dc",
   "metadata": {},
   "source": [
    "## Problem 1"
   ]
  },
  {
   "cell_type": "markdown",
   "id": "bd64edb9",
   "metadata": {},
   "source": [
    "### SHA-1 Parity Function\n",
    "\n",
    "The `Parity` function, as defined in **Section 4.1.1** of the Secure Hash Standard (FIPS 180-4), implements a fundamental SHA-1 bitwise operation. It performs a bitwise XOR (exclusive OR) across three 32-bit input values, expressed as `x ^ y ^ z`.\n",
    "\n",
    "**Mathematical Properties:**\n",
    "- XOR is **associative**: `(x ^ y) ^ z = x ^ (y ^ z)`\n",
    "- XOR is **commutative**: `x ^ y = y ^ x`\n",
    "- These properties mean the order of operations doesn't affect the result\n",
    "\n",
    "**Cryptographic Purpose:**  \n",
    "The Parity function provides bit mixing in rounds 20-39 and 60-79 of the SHA-1 compression function. It ensures each output bit depends on the corresponding input bits from all three operands, creating diffusion in the hash computation.\n",
    "\n",
    "**Technical Details:**\n",
    "- **Input**: Three 32-bit integers (masked with `0xFFFFFFFF` to ensure 32-bit operation)\n",
    "- **Output**: A 32-bit unsigned integer\n",
    "- **Operation**: Bitwise XOR - returns 1 if an odd number of input bits are 1, otherwise 0\n",
    "- **Python Implementation**: Uses `&` for masking and `^` for XOR\n",
    "\n",
    "**How It Works - Truth Table Example:**\n",
    "```\n",
    "x | y | z | Parity(x,y,z)\n",
    "--|---|---|------------\n",
    "0 | 0 | 0 |     0      (zero 1s)\n",
    "0 | 0 | 1 |     1      (one 1)\n",
    "0 | 1 | 0 |     1      (one 1)\n",
    "0 | 1 | 1 |     0      (two 1s)\n",
    "1 | 0 | 0 |     1      (one 1)\n",
    "1 | 0 | 1 |     0      (two 1s)\n",
    "1 | 1 | 0 |     0      (two 1s)\n",
    "1 | 1 | 1 |     1      (three 1s)\n",
    "\n",
    "#### Example Usage\n",
    "\n",
    "```python\n",
    "result = Parity(0b1111, 0b1010, 0b0101)\n",
    "print(result)  # Output: 0\n",
    "# Explanation: 1111 ^ 1010 = 0101, then 0101 ^ 0101 = 0000 (0 in decimal)\n",
    "```\n",
    "\n",
    "In this example, the function computes the XOR of three binary numbers and returns the integer result."
   ]
  },
  {
   "cell_type": "markdown",
   "id": "ebf869aa",
   "metadata": {},
   "source": [
    "#### Code"
   ]
  },
  {
   "cell_type": "code",
   "execution_count": 41,
   "id": "712bffc3",
   "metadata": {},
   "outputs": [],
   "source": [
    "def Parity(x, y, z):\n",
    "    \"\"\"\n",
    "    SHA-1 Parity function.\n",
    "\n",
    "    Parameters:\n",
    "        x (int): first value (interpreted as binary).\n",
    "        y (int): second value (interpreted as binary).\n",
    "        z (int): third value (interpreted as binary).\n",
    "\n",
    "    Returns:\n",
    "        int: The result of the parity as a 32-bit unsigned int.\n",
    "    \"\"\"\n",
    "    x = x & 0xFFFFFFFF\n",
    "    y = y & 0xFFFFFFFF\n",
    "    z = z & 0xFFFFFFFF\n",
    "    \n",
    "    # SHA-1 Parity function = bitwise XOR of each bit position\n",
    "    result = x ^ y ^ z   # ^ is the bitwise XOR operator in Python\n",
    "\n",
    "    return int(result)"
   ]
  },
  {
   "cell_type": "markdown",
   "id": "e91869e5",
   "metadata": {},
   "source": [
    "#### Testing"
   ]
  },
  {
   "cell_type": "code",
   "execution_count": 42,
   "id": "9df3a1be",
   "metadata": {},
   "outputs": [
    {
     "name": "stdout",
     "output_type": "stream",
     "text": [
      "0\n"
     ]
    }
   ],
   "source": [
    "print(Parity(0x00000000, 0x00000000, 0x00000000))\n",
    "def test_parity():\n",
    "    assert Parity(0x00000000, 0x00000000, 0x00000000) == 0, \"All zeros should return 0\"\n",
    "    assert Parity(0x00000001, 0x00000000, 0x00000000) == 1, \"Single one should return 1\"\n",
    "    assert Parity(0x00000001, 0x00000001, 0x00000000) == 0, \"Two ones should return 0\"\n",
    "    assert Parity(0x00000001, 0x00000001, 0x00000001) == 1, \"Three ones should return 1\"\n",
    "    assert Parity(0x00000005, 0x00000002, 0x00000001) == 6, \"Mixed bits test\"\n",
    "    assert Parity(0x0000000F, 0x0000000A, 0x00000005) == 0, \"4-bit test\"\n",
    "    print('All test cases passed.')"
   ]
  },
  {
   "cell_type": "code",
   "execution_count": 43,
   "id": "6577317c",
   "metadata": {},
   "outputs": [
    {
     "name": "stdout",
     "output_type": "stream",
     "text": [
      "All test cases passed.\n"
     ]
    }
   ],
   "source": [
    "# Run all tests\n",
    "test_parity()"
   ]
  },
  {
   "cell_type": "markdown",
   "id": "39364ef1",
   "metadata": {},
   "source": [
    "### SHA-1 Choose (Ch) Function\n",
    "\n",
    "The `Ch` function, defined in **Section 4.1.1** of the Secure Hash Standard, implements the SHA-1 \"choose\" operation. This function conditionally selects bits: for each bit position, if the corresponding bit in `x` is 1, the result takes the bit from `y`; otherwise, it takes the bit from `z`.\n",
    "\n",
    "**Formula:** `Ch(x, y, z) = (x & y) ^ (~x & z)`  \n",
    "**Alternative expression:** `(x AND y) XOR (NOT x AND z)`\n",
    "\n",
    "**How It Works:**\n",
    "- Think of `x` as a selector or mask\n",
    "- Where `x` has a 1-bit: choose the corresponding bit from `y`\n",
    "- Where `x` has a 0-bit: choose the corresponding bit from `z`\n",
    "- This creates a conditional bit selection mechanism\n",
    "\n",
    "**Cryptographic Purpose:**  \n",
    "The Ch function provides **non-linearity** in rounds 0-19 of SHA-1's compression function. Non-linear functions are crucial for cryptographic security because they prevent attackers from using linear algebra to reverse or predict hash values. The conditional selection based on `x` creates complex dependencies between input bits.\n",
    "\n",
    "**Technical Details:**\n",
    "- **Input**: Three 32-bit integers\n",
    "- **Output**: A 32-bit unsigned integer  \n",
    "- **Important**: The bitwise NOT (`~x`) in Python produces negative numbers, so we must mask with `0xFFFFFFFF` to get proper 32-bit behavior: `(~x & 0xFFFFFFFF)`\n",
    "\n",
    "**Truth Table**\n",
    "```\n",
    "x | y | z | (x & y) │ (~x & z) │ Ch(x,y,z)\n",
    "--|---|---|---------|----------|----------\n",
    "0 | 0 | 0 |    0    |    0     |     0    \n",
    "0 | 0 | 1 |    0    |    1     |     1    \n",
    "0 | 1 | 0 |    0    |    0     |     0    \n",
    "0 | 1 | 1 |    0    |    1     |     1    \n",
    "1 | 0 | 0 |    0    |    0     |     0    \n",
    "1 | 0 | 1 |    0    |    0     |     0    \n",
    "1 | 1 | 0 |    1    |    0     |     1    \n",
    "1 | 1 | 1 |    1    |    0     |     1    \n",
    "```\n",
    "\n",
    "#### Example Usage\n",
    "\n",
    "```python\n",
    "result = Ch(0b1111, 0b1010, 0b0101)\n",
    "print(result)  # Output: 10 (binary: 0b1010)\n",
    "# Since all bits in x are 1, we select all bits from y (0b1010)\n",
    "```\n",
    "\n",
    "In this example, `x=0b1111` acts as a selector that chooses all bits from `y`."
   ]
  },
  {
   "cell_type": "code",
   "execution_count": 44,
   "id": "6a210a55",
   "metadata": {},
   "outputs": [],
   "source": [
    "def Ch(x, y, z):\n",
    "    \"\"\"\n",
    "    SHA-1 choose (Ch) function.\n",
    "\n",
    "    Parameters:\n",
    "        x (int): first value (interpreted as binary).\n",
    "        y (int): second value (interpreted as binary).\n",
    "        z (int): third value (interpreted as binary).\n",
    "\n",
    "    Returns:\n",
    "        int: The result of the choose function as a 32-bit unsigned int.\n",
    "    \"\"\"\n",
    "    x = x & 0xFFFFFFFF\n",
    "    y = y & 0xFFFFFFFF\n",
    "    z = z & 0xFFFFFFFF\n",
    "\n",
    "    # SHA-1 choose function: (x & y) ^ (~x & z)\n",
    "    result = (x & y) ^ ((~x & 0xFFFFFFFF) & z)\n",
    "\n",
    "    return result"
   ]
  },
  {
   "cell_type": "code",
   "execution_count": 45,
   "id": "b481976b",
   "metadata": {},
   "outputs": [],
   "source": [
    "Ch(0b101, 0b010, 0b001)\n",
    "\n",
    "def test_Ch():\n",
    "    assert Ch(0b0, 0b0, 0b0) == 0, \"All zeros should return 0\"\n",
    "    assert Ch(0b1, 0b0, 0b0) == 0, \"x=1, y=0, z=0 should return 0\"\n",
    "    assert Ch(0b1, 0b1, 0b0) == 1, \"x=1, y=1, z=0 should return 1\"\n",
    "    assert Ch(0b0, 0b1, 0b1) == 1, \"x=0, y=1, z=1 should return 1\"\n",
    "    assert Ch(0b101, 0b010, 0b001) == 0, \"Mixed bits test, testing all false returns\"\n",
    "    assert Ch(0b1111, 0b1010, 0b0101) == 10, \"4-bit test\"\n",
    "    print('All test cases passed.')"
   ]
  },
  {
   "cell_type": "code",
   "execution_count": 46,
   "id": "e3b2d38f",
   "metadata": {},
   "outputs": [
    {
     "name": "stdout",
     "output_type": "stream",
     "text": [
      "All test cases passed.\n"
     ]
    }
   ],
   "source": [
    "# Run all tests\n",
    "test_Ch()"
   ]
  },
  {
   "cell_type": "markdown",
   "id": "272e58d3",
   "metadata": {},
   "source": [
    "### SHA-1 Majority (Maj) Function\n",
    "\n",
    "The `Maj` function, defined in **Section 4.1.1** of the Secure Hash Standard, implements the SHA-1 \"majority\" operation. For each bit position, it returns the majority value among three inputs: if at least two of the three inputs have a 1-bit, the result is 1; otherwise, the result is 0.\n",
    "\n",
    "**Formula:** `Maj(x, y, z) = (x & y) ^ (x & z) ^ (y & z)`  \n",
    "**Alternative formula:** `(x & y) | (x & z) | (y & z)` (equivalent but different form)\n",
    "\n",
    "**Truth Table**\n",
    "```\n",
    "x | y | z | Maj(x,y,z)\n",
    "--|---|---|------------\n",
    "0 | 0 | 0 |     0      \n",
    "0 | 0 | 1 |     0      \n",
    "0 | 1 | 0 |     0      \n",
    "0 | 1 | 1 |     1      \n",
    "1 | 0 | 0 |     0      \n",
    "1 | 0 | 1 |     1      \n",
    "1 | 1 | 0 |     1      \n",
    "1 | 1 | 1 |     1      \n",
    "```\n",
    "\n",
    "**Cryptographic Purpose:**  \n",
    "The Maj function is used in rounds 40-59 of SHA-1's compression function. It provides another form of **non-linearity** and ensures that the output depends on agreement between multiple input values. This creates more complex mixing of bits compared to simple XOR operations, enhancing resistance to cryptanalysis.\n",
    "\n",
    "**Technical Details:**\n",
    "- **Input**: Three 32-bit integers (each masked with `0xFFFFFFFF`)\n",
    "- **Output**: A 32-bit unsigned integer\n",
    "- **Operation**: Applied independently to each of the 32 bit positions\n",
    "- **Property**: More \"democratic\" than Ch - all three inputs have equal influence\n",
    "\n",
    "#### Example Usage\n",
    "\n",
    "```python\n",
    "result = Maj(0b1111, 0b1010, 0b0101)\n",
    "print(result)  # Output: 15 (binary: 0b1111)\n",
    "# For each bit position, at least two inputs have a 1, so result is all 1s\n",
    "```\n",
    "\n",
    "This example demonstrates how Maj returns 1 for each bit position where the majority of inputs are 1."
   ]
  },
  {
   "cell_type": "markdown",
   "id": "4a2ea091",
   "metadata": {},
   "source": [
    "#### Code"
   ]
  },
  {
   "cell_type": "code",
   "execution_count": 47,
   "id": "b9a19a8c",
   "metadata": {},
   "outputs": [],
   "source": [
    "def Maj(x, y, z):\n",
    "    \"\"\"\n",
    "    SHA-1 majority (Maj) function.\n",
    "\n",
    "    Parameters:\n",
    "        x (int): first value (interpreted as binary).\n",
    "        y (int): second value (interpreted as binary).\n",
    "        z (int): third value (interpreted as binary).\n",
    "\n",
    "    Returns:\n",
    "        int: The result of the majority function as a 32-bit unsigned int.\n",
    "    \"\"\"\n",
    "    x = x & 0xFFFFFFFF\n",
    "    y = y & 0xFFFFFFFF\n",
    "    z = z & 0xFFFFFFFF\n",
    "\n",
    "    result = (x & y) ^ (x & z) ^ (y & z)\n",
    "\n",
    "    return result"
   ]
  },
  {
   "cell_type": "markdown",
   "id": "776b193f",
   "metadata": {},
   "source": [
    "#### Testing"
   ]
  },
  {
   "cell_type": "code",
   "execution_count": 48,
   "id": "f882afac",
   "metadata": {},
   "outputs": [],
   "source": [
    "def test_Maj():\n",
    "    assert Maj(0b0, 0b0, 0b0) == 0, \"All zeros should return 0\"\n",
    "    assert Maj(0b1, 0b0, 0b0) == 0, \"Only one bit set should return 0\"\n",
    "    assert Maj(0b1, 0b1, 0b0) == 1, \"Two bits set should return 1\"\n",
    "    assert Maj(0b1, 0b1, 0b1) == 1, \"All bits set should return 1\"\n",
    "    assert Maj(0b101, 0b010, 0b001) == 1, \"Mixed bits test\"\n",
    "    assert Maj(0b1111, 0b1010, 0b0101) == 15, \"4-bit test\"\n",
    "    assert Maj(0b111, 0b110, 0b111) == 7, \"Example of full bits\"\n",
    "    print('All test cases passed.')"
   ]
  },
  {
   "cell_type": "code",
   "execution_count": 49,
   "id": "863049a2",
   "metadata": {},
   "outputs": [
    {
     "name": "stdout",
     "output_type": "stream",
     "text": [
      "All test cases passed.\n"
     ]
    }
   ],
   "source": [
    "# Run all tests\n",
    "test_Maj()"
   ]
  },
  {
   "cell_type": "markdown",
   "id": "a4268efc",
   "metadata": {},
   "source": [
    "### SHA-1 Sigma0 Function\n",
    "\n",
    "The `Sigma0` function, as defined in Section 4.1.2 of the Secure Hash Standard is a bitwise operation used in SHA-1 and similar hash algorithms. It performs a combination of right rotations on the input value and XORs the results. \n",
    "\n",
    "XOR is associative and communicative, meaning the order in which the results are calculated does not matter. For instance, `(a ^ b) ^ c == (b ^ c) ^ a`. \n",
    "\n",
    "For SHA-1, Sigma0 is typically defined as:\n",
    "\n",
    "`Sigma0(x) = ROTR^2(x) ^ ROTR^13(x) ^ ROTR^22(x)`\n",
    "\n",
    "where `ROTR^n(x)` means rotate the bits of `x` right by `n` positions. This is not the same as a right bitshift as the `n` leftmost bits are placed in order in the rightmost position, and the remaining bits are placed in the leftmost position.\n",
    "\n",
    "Each input should be a 32-bit integer. The function returns the result as a binary string.\n",
    "\n",
    "#### Example Usage\n",
    "\n",
    "```python\n",
    "result = Sigma0(0b11110000111100001111000011110000)\n",
    "print(result)  # Output: binary string\n",
    "```\n",
    "\n",
    "In this example, the function applies the three rotations and XORs the results."
   ]
  },
  {
   "cell_type": "markdown",
   "id": "a368e215",
   "metadata": {},
   "source": [
    "#### Code"
   ]
  },
  {
   "cell_type": "code",
   "execution_count": 50,
   "id": "ea8458f0",
   "metadata": {},
   "outputs": [],
   "source": [
    "def ROTR(x, n):\n",
    "    \"\"\"Right rotate a 32-bit integer x by n bits.\"\"\"\n",
    "    x = np.uint32(x)\n",
    "    return np.uint32((x >> n) | (x << (32 - n)))  # wrap-around\n",
    "\n",
    "def Sigma0(x):\n",
    "    \"\"\"\n",
    "    SHA-1 Sigma0 function.\n",
    "\n",
    "    Parameters:\n",
    "        x (int): 32-bit integer input.\n",
    "\n",
    "    Returns:\n",
    "        str: The result of Sigma0 as a binary string.\n",
    "    \"\"\"\n",
    "    x = np.uint32(x)\n",
    "    result = ROTR(x, 2) ^ ROTR(x, 13) ^ ROTR(x, 22)\n",
    "    return bin(int(result))"
   ]
  },
  {
   "cell_type": "markdown",
   "id": "f0b6e1fe",
   "metadata": {},
   "source": [
    "#### Testing"
   ]
  },
  {
   "cell_type": "code",
   "execution_count": 51,
   "id": "c31df970",
   "metadata": {},
   "outputs": [],
   "source": [
    "def test_Sigma0():\n",
    "    # Test with all zeros\n",
    "    assert Sigma0(0b0) == '0b0', \"All zeros should return 0b0\"\n",
    "    # Test with all ones (32 bits)\n",
    "    assert Sigma0(0xFFFFFFFF) == '0b11111111111111111111111111111111', \"All ones should return all ones (since all rotations are the same)\"\n",
    "    # Test with a pattern\n",
    "    assert isinstance(Sigma0(0b11110000111100001111000011110000), str), \"Should return a binary string\"\n",
    "    print('All test cases passed.')"
   ]
  },
  {
   "cell_type": "code",
   "execution_count": 52,
   "id": "55b9579e",
   "metadata": {},
   "outputs": [
    {
     "name": "stdout",
     "output_type": "stream",
     "text": [
      "All test cases passed.\n"
     ]
    }
   ],
   "source": [
    "# Run all tests\n",
    "test_Sigma0()"
   ]
  },
  {
   "cell_type": "markdown",
   "id": "2bdd9bad",
   "metadata": {},
   "source": [
    "### SHA-1 Sigma1 Function\n",
    "\n",
    "The `Sigma1` function, as defined in Section 4.1.2 of the Secure Hash Standard is another bitwise operation used in SHA-1 and works in the exact same way as `Sigma0` defined above, but with different right bit rotation values. It performs a combination of right rotations on the input value and XORs the results. \n",
    "\n",
    "XOR is associative and communicative, meaning the order in which the results are calculated does not matter. For instance, `(a ^ b) ^ c == (b ^ c) ^ a`.\n",
    "\n",
    "For SHA-1, Sigma1 is typically defined as:\n",
    "\n",
    "`Sigma1(x) = ROTR^6(x) ^ ROTR^11(x) ^ ROTR^25(x)`\n",
    "\n",
    "where `ROTR^n(x)` means rotate the bits of `x` right by `n` positions.\n",
    "\n",
    "Each input should be a 32-bit integer. The function returns the result as a binary string.\n",
    "\n",
    "#### Example Usage\n",
    "\n",
    "```python\n",
    "result = Sigma1(0b11110000111100001111000011110000)\n",
    "print(result)  # Output: binary string\n",
    "```\n",
    "\n",
    "In this example, the function applies the three rotations and XORs the results."
   ]
  },
  {
   "cell_type": "markdown",
   "id": "87a7ca1e",
   "metadata": {},
   "source": [
    "#### Code"
   ]
  },
  {
   "cell_type": "code",
   "execution_count": 53,
   "id": "a1649c5d",
   "metadata": {},
   "outputs": [],
   "source": [
    "def Sigma1(x):\n",
    "    \"\"\"\n",
    "    SHA-1 Sigma1 function.\n",
    "\n",
    "    Parameters:\n",
    "        x (int): 32-bit integer input.\n",
    "\n",
    "    Returns:\n",
    "        int: The result of Sigma1 as a 32-bit unsigned int.\n",
    "    \"\"\"\n",
    "    x = x & 0xFFFFFFFF\n",
    "    result = ROTR(x, 6) ^ ROTR(x, 11) ^ ROTR(x, 25)\n",
    "    return result"
   ]
  },
  {
   "cell_type": "markdown",
   "id": "b4efe0b8",
   "metadata": {},
   "source": [
    "#### Testing"
   ]
  },
  {
   "cell_type": "code",
   "execution_count": 54,
   "id": "32c8cb41",
   "metadata": {},
   "outputs": [],
   "source": [
    "def test_Sigma1():\n",
    "    # Test with all zeros\n",
    "    assert Sigma1(0b0) == 0, \"All zeros should return 0\"\n",
    "    # Test with all ones (32 bits)\n",
    "    assert Sigma1(0xFFFFFFFF) == 0xFFFFFFFF, \"All ones should return all ones (since all rotations are the same)\"\n",
    "    # Test with a pattern\n",
    "    assert isinstance(Sigma1(0b11110000111100001111000011110000), (int, np.uint32)), \"Should return an int or uint32\"\n",
    "    print('All test cases passed.')"
   ]
  },
  {
   "cell_type": "code",
   "execution_count": 55,
   "id": "50128008",
   "metadata": {},
   "outputs": [
    {
     "name": "stdout",
     "output_type": "stream",
     "text": [
      "All test cases passed.\n"
     ]
    }
   ],
   "source": [
    "# Run all tests\n",
    "test_Sigma1()"
   ]
  },
  {
   "cell_type": "markdown",
   "id": "dc0b92f6",
   "metadata": {},
   "source": [
    "### SHA-1 Lower-case sigma0 Function\n",
    "\n",
    "The `sigma0` function, as defined in Section 4.1.2 of the Secure Hash Standard is a SHA-1 bitwise operation that makes use of two right rotation operation and one bitshift operation and XORs the results.\n",
    "\n",
    "A bitshift to the right of `n` on a 32-bit integer `x` (`SHR^n(x)`) moves all bits `x` bits to the right, and places the rightmost `x` bits in-order into the leftmost `x` bits of the integer.\n",
    "\n",
    "XOR is associative and communicative, meaning the order in which the results are calculated does not matter. For instance, `(a ^ b) ^ c == (b ^ c) ^ a`.\n",
    "\n",
    "For SHA-1, sigma0 is defined as:\n",
    "\n",
    "`sigma0(x) = ROTR^7(x) ^ ROTR^18(x) ^ SHR^3(x)`\n",
    "\n",
    "where `ROTR^n(x)` means rotate the bits of `x` right by `n` positions,\n",
    "\n",
    "and `SHR^n(x)` means shift the bits of `x` right by `n` postions.\n",
    "\n",
    "Each input should be a 32-bit integer. The function returns the result as a binary string.\n",
    "\n",
    "#### Example Usage\n",
    "\n",
    "```python\n",
    "result = sigma0(0b11110000111100001111000011110000)\n",
    "print(result)  # Output: binary string\n",
    "```\n",
    "\n",
    "In this example, the function applies the two rotations and one shift, and XORs the results."
   ]
  },
  {
   "cell_type": "markdown",
   "id": "483178f0",
   "metadata": {},
   "source": [
    "#### Code"
   ]
  },
  {
   "cell_type": "code",
   "execution_count": 56,
   "id": "b6045823",
   "metadata": {},
   "outputs": [],
   "source": [
    "def ROTR(x, n):\n",
    "    \"\"\"Rotate a 32-bit integer x right by n bits.\"\"\"\n",
    "    x = x & 0xFFFFFFFF\n",
    "    return ((x >> n) | (x << (32 - n))) & 0xFFFFFFFF\n",
    "\n",
    "def SHR(x, n):\n",
    "    \"\"\"Right shift a 32-bit integer x by n bits.\"\"\"\n",
    "    x = x & 0xFFFFFFFF\n",
    "    return (x >> n) & 0xFFFFFFFF"
   ]
  },
  {
   "cell_type": "code",
   "execution_count": 57,
   "id": "f00944b0",
   "metadata": {},
   "outputs": [],
   "source": [
    "def sigma0(x):\n",
    "    \"\"\"\n",
    "    SHA-1 sigma0 function.\n",
    "\n",
    "    Parameters:\n",
    "        x (int): 32-bit integer input.\n",
    "\n",
    "    Returns:\n",
    "        int: The result of sigma0 as a 32-bit unsigned int.\n",
    "    \"\"\"\n",
    "    x = x & 0xFFFFFFFF\n",
    "    result = ROTR(x, 7) ^ ROTR(x, 18) ^ SHR(x, 3)\n",
    "    return result"
   ]
  },
  {
   "cell_type": "markdown",
   "id": "8f55e9fe",
   "metadata": {},
   "source": [
    "#### Testing"
   ]
  },
  {
   "cell_type": "code",
   "execution_count": 58,
   "id": "0c7943c4",
   "metadata": {},
   "outputs": [],
   "source": [
    "def test_sigma0():\n",
    "    # Test with all zeros\n",
    "    assert sigma0(0b0) == 0, \"All zeros should return 0\"\n",
    "    # Test with all ones (32 bits)\n",
    "    assert sigma0(0xFFFFFFFF) == 0x1FFFFFFF, \"All ones should return 29 ones, as 3 bits have been shifted out\"\n",
    "    # Test with a pattern\n",
    "    assert isinstance(sigma0(0b11110000111100001111000011110000), (int, np.uint32)), \"Should return an int or uint32\"\n",
    "    print('All test cases passed.')"
   ]
  },
  {
   "cell_type": "code",
   "execution_count": 59,
   "id": "48f69522",
   "metadata": {},
   "outputs": [
    {
     "name": "stdout",
     "output_type": "stream",
     "text": [
      "All test cases passed.\n"
     ]
    }
   ],
   "source": [
    "# Run all tests\n",
    "test_sigma0()"
   ]
  },
  {
   "cell_type": "markdown",
   "id": "fd48d53f",
   "metadata": {},
   "source": [
    "### SHA-1 Lower-case sigma1 Function\n",
    "\n",
    "The `sigma1` function, as defined in Section 4.1.2 of the Secure Hash Standard is a SHA-1 bitwise operation that makes use of both right rotations and bitshifts and XORs the results, the same as sigma0 but with different bit rotations (ROTR) and a different shift amounts. For SHA-1, sigma is defined as:\n",
    "\n",
    "`sigma0(x) = ROTR^17(x) ^ ROTR^19(x) ^ SHR^10(x)`\n",
    "\n",
    "where `ROTR^n(x)` means rotate the bits of `x` right by `n` positions,\n",
    "\n",
    "and `SHR^n(x)` means shift the bits of `x` right by `n` postions.\n",
    "\n",
    "XOR is associative and communicative, meaning the order in which the results are calculated does not matter. For instance, `(a ^ b) ^ c == (b ^ c) ^ a`.\n",
    "\n",
    "Each input should be a 32-bit integer. The function returns the result as a binary string.\n",
    "\n",
    "#### Example Usage\n",
    "\n",
    "```python\n",
    "result = sigma0(0b11110000111100001111000011110000)\n",
    "print(result)  # Output: binary string\n",
    "```\n",
    "\n",
    "In this example, the function applies the two rotations and one shift, and XORs the results."
   ]
  },
  {
   "cell_type": "markdown",
   "id": "8158c4fa",
   "metadata": {},
   "source": [
    "#### Code"
   ]
  },
  {
   "cell_type": "code",
   "execution_count": 60,
   "id": "6b33578a",
   "metadata": {},
   "outputs": [],
   "source": [
    "def sigma1(x):\n",
    "    \"\"\"\n",
    "    SHA-1 sigma1 function.\n",
    "\n",
    "    Parameters:\n",
    "        x (int): 32-bit integer input.\n",
    "\n",
    "    Returns:\n",
    "        int: The result of sigma1 as a 32-bit unsigned int.\n",
    "    \"\"\"\n",
    "    x = x & 0xFFFFFFFF\n",
    "    result = ROTR(x, 17) ^ ROTR(x, 19) ^ SHR(x, 10)\n",
    "    return result"
   ]
  },
  {
   "cell_type": "markdown",
   "id": "b92d343a",
   "metadata": {},
   "source": [
    "#### Testing"
   ]
  },
  {
   "cell_type": "code",
   "execution_count": 61,
   "id": "31477f33",
   "metadata": {},
   "outputs": [],
   "source": [
    "def test_sigma1():\n",
    "    # Test with all zeros\n",
    "    assert sigma1(0b0) == 0, \"All zeros should return 0\"\n",
    "    # Test with all ones (32 bits)\n",
    "    assert sigma1(0xFFFFFFFF) == 0x003FFFFF, \"All ones should return 22 ones (since all rotations are the same and 10 out of the 22 bits are shifted out)\"\n",
    "    # Test with a pattern\n",
    "    assert isinstance(sigma1(0b11110000111100001111000011110000), (int, np.uint32)), \"Should return an int or uint32\"\n",
    "    print('All test cases passed.')"
   ]
  },
  {
   "cell_type": "code",
   "execution_count": 62,
   "id": "2916659b",
   "metadata": {},
   "outputs": [
    {
     "name": "stdout",
     "output_type": "stream",
     "text": [
      "All test cases passed.\n"
     ]
    }
   ],
   "source": [
    "# Run all tests\n",
    "test_sigma1()"
   ]
  },
  {
   "cell_type": "markdown",
   "id": "3721352d",
   "metadata": {},
   "source": [
    "## Problem 2"
   ]
  },
  {
   "cell_type": "markdown",
   "id": "1692b730",
   "metadata": {},
   "source": [
    "#### Problem 2: Fractional Parts of Cube Roots"
   ]
  },
  {
   "cell_type": "markdown",
   "id": "fde5963e",
   "metadata": {},
   "source": [
    "#### Description\n",
    "\n",
    "The goal of problem 2 is to calculate the 64 words (constant 32-bit values, expressed as 8-character hexadecimals) defined on page 11 of the Secure Hash Standard.\n",
    "\n",
    "These constants are the first 32 bits of the fractional portion of the cube root of the first 64 prime numbers.\n",
    "\n",
    "In order to calculate these constants, one must:\n",
    "1) Calculate the first 64 prime numbers.\n",
    "2) Calculate the cube root of each prime.\n",
    "3) Extract the first 32 bits of the fractional portion of these prime numbers.\n",
    "4) Represent the 32-bit words in hexadecimal.\n",
    "\n",
    "A more in-depth analyis of each portion of the problem is defined below:\n",
    "\n",
    "##### Calculating Prime Numbers\n",
    "\n",
    "A prime number is any positive integer with only two factors: 1 and n.\n",
    "\n",
    "The problem requires the calculation of the first `n` primes.\n",
    "\n",
    "Rules can be extrapolated to guide the solution based on this definition:\n",
    "\n",
    "- Any prime number greater than `2` must be odd, as any other even number is divisible by `2`. This halves our search space and saves on memory.\n",
    "- If `n = 0`, return `[]`.\n",
    "- If `n = 1`, return `[2]`, as `2` is the first prime number.\n",
    "- For each prime number found, multiples of these numbers are not primes (e.g. for `7`, the numbers `[14, 21, 28...]` are not primes). In addition, even multiples of these primes do not need to be checked as they are divisible by 2 (e.g. `[14, 28, 42...]`).\n",
    "- If `x` is our limit, we only need to check for primes up to and including `SQRT(x)`, as the factors multiplied by these factors to add up to the number have already been checked.\n",
    "\n",
    "##### Additional Refinements\n",
    "\n",
    "To save on memory, we can represent the search space (i.e. the potential prime numbers) as a boolean array `is_prime`. Since positive even numbers excluding `2` are not prime, the array `is_prime` only needs to represent the odd numbers greater than `2` and less than or equal to the search space. \n",
    "\n",
    "`is_prime` at each index is initialised to `True`, as each of these numbers is a candidate, and must be proven not to be prime. `is_prime[0]` represents the prime state of the number `3`, `is_prime[1]` represents the prime state of the number `5`, and so on. Therefore, to calculate the value of the number `candidate` represented at any index `i` of `is_prime` is defined as `candidate = 3 + 2 * i`.\n",
    "\n",
    "Prime numbers are difficult to calculate due to their unpredictable nature. Therefore, defining a function to calculate a search space that is guaranteed to contain the first `n` primes with respect to `n` without the search space being too large is quite difficult.\n",
    "\n",
    "However, with some online research, a practical calculation to estimate the rough value of the `n`th prime is `n * ln(n)`. This is a rough estimate, and is often too small of a search space, however the search space can be doubled if `n` primes are not found.\n",
    "\n",
    "##### Calculating Cube Roots\n",
    "\n",
    "`numpy` has built-in functionality to calculate the cube roots of each value in a `numpy` array. This function is extremely efficient, making use of vectorised operations. \n",
    "\n",
    "`np.cbrt(primes(64))` returns a new `numpy` array with the cube roots of the first 64 prime numbers.\n",
    "\n",
    "##### Extracting 32-bit Fractionals\n",
    "\n",
    "Once the cube roots have been calculated, the fractional portion of each cube root must be extracted and converted to a `32-bit` representation.\n",
    "\n",
    "The fractional portion of a number is the part after the decimal point. For example, if the cube root is `2.7123`, the fractional portion is `0.7123`. This can be calculated by subtracting the floor of the number from the number itself: `fractional_part = cube_root - floor(cube_root)`.\n",
    "\n",
    "To extract the first 32 bits of this fractional portion, the fractional value must be scaled to the range of a 32-bit unsigned integer. This is achieved by multiplying the fractional portion by `2^32` (or `1 << 32`), which shifts the significant bits into the integer range.\n",
    "\n",
    "The result is then floored to remove any remaining fractional component and cast to an unsigned 32-bit integer (`np.uint32`). This gives us exactly 32 bits of the fractional portion.\n",
    "\n",
    "The complete process can be summarized as:\n",
    "1. Extract fractional parts: `fractional_parts = cube_roots - np.floor(cube_roots)`\n",
    "2. Scale to `32-bit` range: `bits = np.floor(fractional_parts * (1 << 32)).astype(np.uint32)`\n",
    "3. Convert to hexadecimal: `hex_values = [f\"{b:08x}\" for b in bits]`\n",
    "\n",
    "##### Converting to Hexadecimal\n",
    "\n",
    "Finally, each 32-bit value is converted to its hexadecimal representation using Python's format string `f\"{b:08x}\"`, which produces an 8-character lowercase hexadecimal string (since 32 bits = 8 hex digits).\n",
    "\n",
    "#### Description of testing\n",
    "\n",
    "To test the `primes(n)` function, I gathered a [file](./test/primes.0000) with the first `100,000` prime numbers from a public GitHub repository by user `srmalins` at repository [https://github.com/srmalins/primelists/tree/master](https://github.com/srmalins/primelists/tree/master), and wrote a test to compare the values to those returned by the function.\n",
    "\n",
    "To test the `get_sha1_constants()` function, I extracted the 64 hex values defined in the Secure Hash Standard to a text [file](./test/sha1_constants.txt), and wrote a text to compare the values returned by the function."
   ]
  },
  {
   "cell_type": "code",
   "execution_count": 63,
   "id": "c79d4a70",
   "metadata": {},
   "outputs": [],
   "source": [
    "\"\"\"\n",
    "Parameters:\n",
    "    n (int): The index of the prime number to estimate.\n",
    "\n",
    "Returns:\n",
    "    int: The estimated value as an unsigned int (positive integer).\n",
    "\"\"\"\n",
    "def estimate_nth_prime(n):\n",
    "    return np.uint32(n * np.log(n))  # Returns a positive integer, equivalent to unsigned"
   ]
  },
  {
   "cell_type": "code",
   "execution_count": 64,
   "id": "1b33fb30",
   "metadata": {},
   "outputs": [],
   "source": [
    "def primes(n):\n",
    "    \n",
    "    if (n < 0):\n",
    "        raise ValueError(\"n must be a non-negative integer.\")\n",
    "    if (n == 0):\n",
    "        return []\n",
    "    if (n == 1):\n",
    "        return [2]\n",
    "    \n",
    "    primes_list = [2]\n",
    "    \n",
    "    # Set practical search space\n",
    "    search_size = estimate_nth_prime(n)\n",
    "    \n",
    "    # We should define an array of booleans that represent the odd numbers from 3 to search_size.\n",
    "    # is_Prime[0] represents if 3 is prime or not.\n",
    "    array_size = (search_size - 3) // 2 + 1  # Number of odd numbers from 3 to search_size\n",
    "    \n",
    "    # Assume each number is prime until proven otherwise.\n",
    "    is_prime = [True] * array_size  # is_prime[0] for 3, is_prime[1] for 5, etc.\n",
    "\n",
    "    current_i = 0  # Track the current index being processed\n",
    "\n",
    "    while len(primes_list) < n:\n",
    "        if current_i >= len(is_prime):\n",
    "            # Double the search space if we've processed all current indices\n",
    "            search_size *= 2\n",
    "            new_array_size = (search_size - 3) // 2 + 1\n",
    "            old_array_size = len(is_prime)\n",
    "            \n",
    "            # Extend the is_prime list to contain spaces for the new odd numbers in the new range (potential primes)\n",
    "            is_prime.extend([True] * (new_array_size - old_array_size))\n",
    "            \n",
    "            # Now cross out multiples of previous primes in the new range\n",
    "            # Only odd multiples need to be checked, as even multiples are divisible by 2 and therefore not prime\n",
    "            new_start_index = old_array_size\n",
    "            for p in primes_list:\n",
    "                for i in range(new_start_index, len(is_prime)):\n",
    "                    # Calculate candidate number from index\n",
    "                    num = 3 + 2 * i\n",
    "                    if num % p == 0:\n",
    "                        is_prime[i] = False\n",
    "        \n",
    "        if is_prime[current_i]:\n",
    "            prime_candidate = 3 + 2 * current_i  # Map index to actual odd number\n",
    "            primes_list.append(prime_candidate)\n",
    "            # Mark multiples of the found prime as non-prime\n",
    "            for multiple in range(prime_candidate * prime_candidate, search_size + 1, prime_candidate):\n",
    "                if multiple % 2 == 1:  # Only cross out odd multiples\n",
    "                    index = (multiple - 3) // 2\n",
    "                    if index < len(is_prime):\n",
    "                        is_prime[index] = False\n",
    "        \n",
    "        current_i += 1\n",
    "\n",
    "    return primes_list"
   ]
  },
  {
   "cell_type": "code",
   "execution_count": 65,
   "id": "1fdbd492",
   "metadata": {},
   "outputs": [],
   "source": [
    "def get_sha1_constants():\n",
    "    cube_roots = np.cbrt(primes(64))\n",
    "    fractional_parts = cube_roots - np.floor(cube_roots)\n",
    "    bits = np.floor(fractional_parts * (1 << 32)).astype(np.uint32)\n",
    "    hex_values = [f\"{b:08x}\" for b in bits]\n",
    "    return hex_values"
   ]
  },
  {
   "cell_type": "code",
   "execution_count": 66,
   "id": "a3d9c618",
   "metadata": {},
   "outputs": [],
   "source": [
    "def test_primes_with_file(n):\n",
    "    with open('test/primes.0000', 'r') as file:\n",
    "        expected_primes = [int(line.strip()) for line in file.readlines()]\n",
    "    \n",
    "    computed_primes = primes(n)\n",
    "    print(\"Computed primes:\", computed_primes)\n",
    "    print(\"Expected primes:\", expected_primes[:n])\n",
    "\n",
    "    assert computed_primes == expected_primes[:n], f\"Expected {expected_primes[:n]}, but got {computed_primes}\"\n",
    "\n",
    "    print(\"All test cases passed.\")"
   ]
  },
  {
   "cell_type": "code",
   "execution_count": 67,
   "id": "4430eba4",
   "metadata": {},
   "outputs": [],
   "source": [
    "def test_sha1_constants_from_file():\n",
    "    with open('test/sha1_constants.txt', 'r') as file:\n",
    "        expected_constants = [line.strip() for line in file.readlines() if line.strip()]\n",
    "    computed_constants = get_sha1_constants()\n",
    "    print(\"Computed constants:\", computed_constants)\n",
    "    print(\"Expected constants:\", expected_constants)\n",
    "    assert computed_constants == expected_constants, f\"Expected {expected_constants}, but got {computed_constants}\"\n",
    "    print(\"All test cases passed.\")"
   ]
  },
  {
   "cell_type": "code",
   "execution_count": 68,
   "id": "9bd33d01",
   "metadata": {},
   "outputs": [
    {
     "name": "stdout",
     "output_type": "stream",
     "text": [
      "Computed primes: [2, 3, 5, 7, 11, 13, 17, 19, 23, 29, 31, 37, 41, 43, 47, 53, 59, 61, 67, 71]\n",
      "Expected primes: [2, 3, 5, 7, 11, 13, 17, 19, 23, 29, 31, 37, 41, 43, 47, 53, 59, 61, 67, 71]\n",
      "All test cases passed.\n",
      "Computed primes: [2, 3, 5, 7, 11, 13, 17, 19, 23, 29, 31, 37, 41, 43, 47, 53, 59, 61, 67, 71, 73, 79, 83, 89, 97, 101, 103, 107, 109, 113, 127, 131, 137, 139, 149, 151, 157, 163, 167, 173, 179, 181, 191, 193, 197, 199, 211, 223, 227, 229, 233, 239, 241, 251, 257, 263, 269, 271, 277, 281, 283, 293, 307, 311]\n",
      "Expected primes: [2, 3, 5, 7, 11, 13, 17, 19, 23, 29, 31, 37, 41, 43, 47, 53, 59, 61, 67, 71, 73, 79, 83, 89, 97, 101, 103, 107, 109, 113, 127, 131, 137, 139, 149, 151, 157, 163, 167, 173, 179, 181, 191, 193, 197, 199, 211, 223, 227, 229, 233, 239, 241, 251, 257, 263, 269, 271, 277, 281, 283, 293, 307, 311]\n",
      "All test cases passed.\n",
      "Computed primes: [2, 3, 5, 7, 11, 13, 17, 19, 23, 29, 31, 37, 41, 43, 47, 53, 59, 61, 67, 71, 73, 79, 83, 89, 97, 101, 103, 107, 109, 113, 127, 131, 137, 139, 149, 151, 157, 163, 167, 173, 179, 181, 191, 193, 197, 199, 211, 223, 227, 229, 233, 239, 241, 251, 257, 263, 269, 271, 277, 281, 283, 293, 307, 311, 313, 317, 331, 337, 347, 349, 353, 359, 367, 373, 379, 383, 389, 397, 401, 409, 419, 421, 431, 433, 439, 443, 449, 457, 461, 463, 467, 479, 487, 491, 499, 503, 509, 521, 523, 541]\n",
      "Expected primes: [2, 3, 5, 7, 11, 13, 17, 19, 23, 29, 31, 37, 41, 43, 47, 53, 59, 61, 67, 71, 73, 79, 83, 89, 97, 101, 103, 107, 109, 113, 127, 131, 137, 139, 149, 151, 157, 163, 167, 173, 179, 181, 191, 193, 197, 199, 211, 223, 227, 229, 233, 239, 241, 251, 257, 263, 269, 271, 277, 281, 283, 293, 307, 311, 313, 317, 331, 337, 347, 349, 353, 359, 367, 373, 379, 383, 389, 397, 401, 409, 419, 421, 431, 433, 439, 443, 449, 457, 461, 463, 467, 479, 487, 491, 499, 503, 509, 521, 523, 541]\n",
      "All test cases passed.\n",
      "Computed primes: [2, 3, 5, 7, 11, 13, 17, 19, 23, 29, 31, 37, 41, 43, 47, 53, 59, 61, 67, 71, 73, 79, 83, 89, 97, 101, 103, 107, 109, 113, 127, 131, 137, 139, 149, 151, 157, 163, 167, 173, 179, 181, 191, 193, 197, 199, 211, 223, 227, 229, 233, 239, 241, 251, 257, 263, 269, 271, 277, 281, 283, 293, 307, 311]\n",
      "Expected primes: [2, 3, 5, 7, 11, 13, 17, 19, 23, 29, 31, 37, 41, 43, 47, 53, 59, 61, 67, 71, 73, 79, 83, 89, 97, 101, 103, 107, 109, 113, 127, 131, 137, 139, 149, 151, 157, 163, 167, 173, 179, 181, 191, 193, 197, 199, 211, 223, 227, 229, 233, 239, 241, 251, 257, 263, 269, 271, 277, 281, 283, 293, 307, 311]\n",
      "All test cases passed.\n",
      "Computed primes: [2, 3, 5, 7, 11, 13, 17, 19, 23, 29, 31, 37, 41, 43, 47, 53, 59, 61, 67, 71, 73, 79, 83, 89, 97, 101, 103, 107, 109, 113, 127, 131, 137, 139, 149, 151, 157, 163, 167, 173, 179, 181, 191, 193, 197, 199, 211, 223, 227, 229, 233, 239, 241, 251, 257, 263, 269, 271, 277, 281, 283, 293, 307, 311, 313, 317, 331, 337, 347, 349, 353, 359, 367, 373, 379, 383, 389, 397, 401, 409, 419, 421, 431, 433, 439, 443, 449, 457, 461, 463, 467, 479, 487, 491, 499, 503, 509, 521, 523, 541]\n",
      "Expected primes: [2, 3, 5, 7, 11, 13, 17, 19, 23, 29, 31, 37, 41, 43, 47, 53, 59, 61, 67, 71, 73, 79, 83, 89, 97, 101, 103, 107, 109, 113, 127, 131, 137, 139, 149, 151, 157, 163, 167, 173, 179, 181, 191, 193, 197, 199, 211, 223, 227, 229, 233, 239, 241, 251, 257, 263, 269, 271, 277, 281, 283, 293, 307, 311, 313, 317, 331, 337, 347, 349, 353, 359, 367, 373, 379, 383, 389, 397, 401, 409, 419, 421, 431, 433, 439, 443, 449, 457, 461, 463, 467, 479, 487, 491, 499, 503, 509, 521, 523, 541]\n",
      "All test cases passed.\n",
      "Computed primes: [2, 3, 5, 7, 11, 13, 17, 19, 23, 29, 31, 37, 41, 43, 47, 53, 59, 61, 67, 71, 73, 79, 83, 89, 97, 101, 103, 107, 109, 113, 127, 131, 137, 139, 149, 151, 157, 163, 167, 173, 179, 181, 191, 193, 197, 199, 211, 223, 227, 229, 233, 239, 241, 251, 257, 263, 269, 271, 277, 281, 283, 293, 307, 311, 313, 317, 331, 337, 347, 349, 353, 359, 367, 373, 379, 383, 389, 397, 401, 409, 419, 421, 431, 433, 439, 443, 449, 457, 461, 463, 467, 479, 487, 491, 499, 503, 509, 521, 523, 541, 547, 557, 563, 569, 571, 577, 587, 593, 599, 601, 607, 613, 617, 619, 631, 641, 643, 647, 653, 659, 661, 673, 677, 683, 691, 701, 709, 719, 727, 733, 739, 743, 751, 757, 761, 769, 773, 787, 797, 809, 811, 821, 823, 827, 829, 839, 853, 857, 859, 863, 877, 881, 883, 887, 907, 911, 919, 929, 937, 941, 947, 953, 967, 971, 977, 983, 991, 997, 1009, 1013, 1019, 1021, 1031, 1033, 1039, 1049, 1051, 1061, 1063, 1069, 1087, 1091, 1093, 1097, 1103, 1109, 1117, 1123, 1129, 1151, 1153, 1163, 1171, 1181, 1187, 1193, 1201, 1213, 1217, 1223, 1229, 1231, 1237, 1249, 1259, 1277, 1279, 1283, 1289, 1291, 1297, 1301, 1303, 1307, 1319, 1321, 1327, 1361, 1367, 1373, 1381, 1399, 1409, 1423, 1427, 1429, 1433, 1439, 1447, 1451, 1453, 1459, 1471, 1481, 1483, 1487, 1489, 1493, 1499, 1511, 1523, 1531, 1543, 1549, 1553, 1559, 1567, 1571, 1579, 1583, 1597, 1601, 1607, 1609, 1613, 1619, 1621, 1627, 1637, 1657, 1663, 1667, 1669, 1693, 1697, 1699, 1709, 1721, 1723, 1733, 1741, 1747, 1753, 1759, 1777, 1783, 1787, 1789, 1801, 1811, 1823, 1831, 1847, 1861, 1867, 1871, 1873, 1877, 1879, 1889, 1901, 1907, 1913, 1931, 1933, 1949, 1951, 1973, 1979, 1987, 1993, 1997, 1999, 2003, 2011, 2017, 2027, 2029, 2039, 2053, 2063, 2069, 2081, 2083, 2087, 2089, 2099, 2111, 2113, 2129, 2131, 2137, 2141, 2143, 2153, 2161, 2179, 2203, 2207, 2213, 2221, 2237, 2239, 2243, 2251, 2267, 2269, 2273, 2281, 2287, 2293, 2297, 2309, 2311, 2333, 2339, 2341, 2347, 2351, 2357, 2371, 2377, 2381, 2383, 2389, 2393, 2399, 2411, 2417, 2423, 2437, 2441, 2447, 2459, 2467, 2473, 2477, 2503, 2521, 2531, 2539, 2543, 2549, 2551, 2557, 2579, 2591, 2593, 2609, 2617, 2621, 2633, 2647, 2657, 2659, 2663, 2671, 2677, 2683, 2687, 2689, 2693, 2699, 2707, 2711, 2713, 2719, 2729, 2731, 2741, 2749, 2753, 2767, 2777, 2789, 2791, 2797, 2801, 2803, 2819, 2833, 2837, 2843, 2851, 2857, 2861, 2879, 2887, 2897, 2903, 2909, 2917, 2927, 2939, 2953, 2957, 2963, 2969, 2971, 2999, 3001, 3011, 3019, 3023, 3037, 3041, 3049, 3061, 3067, 3079, 3083, 3089, 3109, 3119, 3121, 3137, 3163, 3167, 3169, 3181, 3187, 3191, 3203, 3209, 3217, 3221, 3229, 3251, 3253, 3257, 3259, 3271, 3299, 3301, 3307, 3313, 3319, 3323, 3329, 3331, 3343, 3347, 3359, 3361, 3371, 3373, 3389, 3391, 3407, 3413, 3433, 3449, 3457, 3461, 3463, 3467, 3469, 3491, 3499, 3511, 3517, 3527, 3529, 3533, 3539, 3541, 3547, 3557, 3559, 3571, 3581, 3583, 3593, 3607, 3613, 3617, 3623, 3631, 3637, 3643, 3659, 3671, 3673, 3677, 3691, 3697, 3701, 3709, 3719, 3727, 3733, 3739, 3761, 3767, 3769, 3779, 3793, 3797, 3803, 3821, 3823, 3833, 3847, 3851, 3853, 3863, 3877, 3881, 3889, 3907, 3911, 3917, 3919, 3923, 3929, 3931, 3943, 3947, 3967, 3989, 4001, 4003, 4007, 4013, 4019, 4021, 4027, 4049, 4051, 4057, 4073, 4079, 4091, 4093, 4099, 4111, 4127, 4129, 4133, 4139, 4153, 4157, 4159, 4177, 4201, 4211, 4217, 4219, 4229, 4231, 4241, 4243, 4253, 4259, 4261, 4271, 4273, 4283, 4289, 4297, 4327, 4337, 4339, 4349, 4357, 4363, 4373, 4391, 4397, 4409, 4421, 4423, 4441, 4447, 4451, 4457, 4463, 4481, 4483, 4493, 4507, 4513, 4517, 4519, 4523, 4547, 4549, 4561, 4567, 4583, 4591, 4597, 4603, 4621, 4637, 4639, 4643, 4649, 4651, 4657, 4663, 4673, 4679, 4691, 4703, 4721, 4723, 4729, 4733, 4751, 4759, 4783, 4787, 4789, 4793, 4799, 4801, 4813, 4817, 4831, 4861, 4871, 4877, 4889, 4903, 4909, 4919, 4931, 4933, 4937, 4943, 4951, 4957, 4967, 4969, 4973, 4987, 4993, 4999, 5003, 5009, 5011, 5021, 5023, 5039, 5051, 5059, 5077, 5081, 5087, 5099, 5101, 5107, 5113, 5119, 5147, 5153, 5167, 5171, 5179, 5189, 5197, 5209, 5227, 5231, 5233, 5237, 5261, 5273, 5279, 5281, 5297, 5303, 5309, 5323, 5333, 5347, 5351, 5381, 5387, 5393, 5399, 5407, 5413, 5417, 5419, 5431, 5437, 5441, 5443, 5449, 5471, 5477, 5479, 5483, 5501, 5503, 5507, 5519, 5521, 5527, 5531, 5557, 5563, 5569, 5573, 5581, 5591, 5623, 5639, 5641, 5647, 5651, 5653, 5657, 5659, 5669, 5683, 5689, 5693, 5701, 5711, 5717, 5737, 5741, 5743, 5749, 5779, 5783, 5791, 5801, 5807, 5813, 5821, 5827, 5839, 5843, 5849, 5851, 5857, 5861, 5867, 5869, 5879, 5881, 5897, 5903, 5923, 5927, 5939, 5953, 5981, 5987, 6007, 6011, 6029, 6037, 6043, 6047, 6053, 6067, 6073, 6079, 6089, 6091, 6101, 6113, 6121, 6131, 6133, 6143, 6151, 6163, 6173, 6197, 6199, 6203, 6211, 6217, 6221, 6229, 6247, 6257, 6263, 6269, 6271, 6277, 6287, 6299, 6301, 6311, 6317, 6323, 6329, 6337, 6343, 6353, 6359, 6361, 6367, 6373, 6379, 6389, 6397, 6421, 6427, 6449, 6451, 6469, 6473, 6481, 6491, 6521, 6529, 6547, 6551, 6553, 6563, 6569, 6571, 6577, 6581, 6599, 6607, 6619, 6637, 6653, 6659, 6661, 6673, 6679, 6689, 6691, 6701, 6703, 6709, 6719, 6733, 6737, 6761, 6763, 6779, 6781, 6791, 6793, 6803, 6823, 6827, 6829, 6833, 6841, 6857, 6863, 6869, 6871, 6883, 6899, 6907, 6911, 6917, 6947, 6949, 6959, 6961, 6967, 6971, 6977, 6983, 6991, 6997, 7001, 7013, 7019, 7027, 7039, 7043, 7057, 7069, 7079, 7103, 7109, 7121, 7127, 7129, 7151, 7159, 7177, 7187, 7193, 7207, 7211, 7213, 7219, 7229, 7237, 7243, 7247, 7253, 7283, 7297, 7307, 7309, 7321, 7331, 7333, 7349, 7351, 7369, 7393, 7411, 7417, 7433, 7451, 7457, 7459, 7477, 7481, 7487, 7489, 7499, 7507, 7517, 7523, 7529, 7537, 7541, 7547, 7549, 7559, 7561, 7573, 7577, 7583, 7589, 7591, 7603, 7607, 7621, 7639, 7643, 7649, 7669, 7673, 7681, 7687, 7691, 7699, 7703, 7717, 7723, 7727, 7741, 7753, 7757, 7759, 7789, 7793, 7817, 7823, 7829, 7841, 7853, 7867, 7873, 7877, 7879, 7883, 7901, 7907, 7919]\n",
      "Expected primes: [2, 3, 5, 7, 11, 13, 17, 19, 23, 29, 31, 37, 41, 43, 47, 53, 59, 61, 67, 71, 73, 79, 83, 89, 97, 101, 103, 107, 109, 113, 127, 131, 137, 139, 149, 151, 157, 163, 167, 173, 179, 181, 191, 193, 197, 199, 211, 223, 227, 229, 233, 239, 241, 251, 257, 263, 269, 271, 277, 281, 283, 293, 307, 311, 313, 317, 331, 337, 347, 349, 353, 359, 367, 373, 379, 383, 389, 397, 401, 409, 419, 421, 431, 433, 439, 443, 449, 457, 461, 463, 467, 479, 487, 491, 499, 503, 509, 521, 523, 541, 547, 557, 563, 569, 571, 577, 587, 593, 599, 601, 607, 613, 617, 619, 631, 641, 643, 647, 653, 659, 661, 673, 677, 683, 691, 701, 709, 719, 727, 733, 739, 743, 751, 757, 761, 769, 773, 787, 797, 809, 811, 821, 823, 827, 829, 839, 853, 857, 859, 863, 877, 881, 883, 887, 907, 911, 919, 929, 937, 941, 947, 953, 967, 971, 977, 983, 991, 997, 1009, 1013, 1019, 1021, 1031, 1033, 1039, 1049, 1051, 1061, 1063, 1069, 1087, 1091, 1093, 1097, 1103, 1109, 1117, 1123, 1129, 1151, 1153, 1163, 1171, 1181, 1187, 1193, 1201, 1213, 1217, 1223, 1229, 1231, 1237, 1249, 1259, 1277, 1279, 1283, 1289, 1291, 1297, 1301, 1303, 1307, 1319, 1321, 1327, 1361, 1367, 1373, 1381, 1399, 1409, 1423, 1427, 1429, 1433, 1439, 1447, 1451, 1453, 1459, 1471, 1481, 1483, 1487, 1489, 1493, 1499, 1511, 1523, 1531, 1543, 1549, 1553, 1559, 1567, 1571, 1579, 1583, 1597, 1601, 1607, 1609, 1613, 1619, 1621, 1627, 1637, 1657, 1663, 1667, 1669, 1693, 1697, 1699, 1709, 1721, 1723, 1733, 1741, 1747, 1753, 1759, 1777, 1783, 1787, 1789, 1801, 1811, 1823, 1831, 1847, 1861, 1867, 1871, 1873, 1877, 1879, 1889, 1901, 1907, 1913, 1931, 1933, 1949, 1951, 1973, 1979, 1987, 1993, 1997, 1999, 2003, 2011, 2017, 2027, 2029, 2039, 2053, 2063, 2069, 2081, 2083, 2087, 2089, 2099, 2111, 2113, 2129, 2131, 2137, 2141, 2143, 2153, 2161, 2179, 2203, 2207, 2213, 2221, 2237, 2239, 2243, 2251, 2267, 2269, 2273, 2281, 2287, 2293, 2297, 2309, 2311, 2333, 2339, 2341, 2347, 2351, 2357, 2371, 2377, 2381, 2383, 2389, 2393, 2399, 2411, 2417, 2423, 2437, 2441, 2447, 2459, 2467, 2473, 2477, 2503, 2521, 2531, 2539, 2543, 2549, 2551, 2557, 2579, 2591, 2593, 2609, 2617, 2621, 2633, 2647, 2657, 2659, 2663, 2671, 2677, 2683, 2687, 2689, 2693, 2699, 2707, 2711, 2713, 2719, 2729, 2731, 2741, 2749, 2753, 2767, 2777, 2789, 2791, 2797, 2801, 2803, 2819, 2833, 2837, 2843, 2851, 2857, 2861, 2879, 2887, 2897, 2903, 2909, 2917, 2927, 2939, 2953, 2957, 2963, 2969, 2971, 2999, 3001, 3011, 3019, 3023, 3037, 3041, 3049, 3061, 3067, 3079, 3083, 3089, 3109, 3119, 3121, 3137, 3163, 3167, 3169, 3181, 3187, 3191, 3203, 3209, 3217, 3221, 3229, 3251, 3253, 3257, 3259, 3271, 3299, 3301, 3307, 3313, 3319, 3323, 3329, 3331, 3343, 3347, 3359, 3361, 3371, 3373, 3389, 3391, 3407, 3413, 3433, 3449, 3457, 3461, 3463, 3467, 3469, 3491, 3499, 3511, 3517, 3527, 3529, 3533, 3539, 3541, 3547, 3557, 3559, 3571, 3581, 3583, 3593, 3607, 3613, 3617, 3623, 3631, 3637, 3643, 3659, 3671, 3673, 3677, 3691, 3697, 3701, 3709, 3719, 3727, 3733, 3739, 3761, 3767, 3769, 3779, 3793, 3797, 3803, 3821, 3823, 3833, 3847, 3851, 3853, 3863, 3877, 3881, 3889, 3907, 3911, 3917, 3919, 3923, 3929, 3931, 3943, 3947, 3967, 3989, 4001, 4003, 4007, 4013, 4019, 4021, 4027, 4049, 4051, 4057, 4073, 4079, 4091, 4093, 4099, 4111, 4127, 4129, 4133, 4139, 4153, 4157, 4159, 4177, 4201, 4211, 4217, 4219, 4229, 4231, 4241, 4243, 4253, 4259, 4261, 4271, 4273, 4283, 4289, 4297, 4327, 4337, 4339, 4349, 4357, 4363, 4373, 4391, 4397, 4409, 4421, 4423, 4441, 4447, 4451, 4457, 4463, 4481, 4483, 4493, 4507, 4513, 4517, 4519, 4523, 4547, 4549, 4561, 4567, 4583, 4591, 4597, 4603, 4621, 4637, 4639, 4643, 4649, 4651, 4657, 4663, 4673, 4679, 4691, 4703, 4721, 4723, 4729, 4733, 4751, 4759, 4783, 4787, 4789, 4793, 4799, 4801, 4813, 4817, 4831, 4861, 4871, 4877, 4889, 4903, 4909, 4919, 4931, 4933, 4937, 4943, 4951, 4957, 4967, 4969, 4973, 4987, 4993, 4999, 5003, 5009, 5011, 5021, 5023, 5039, 5051, 5059, 5077, 5081, 5087, 5099, 5101, 5107, 5113, 5119, 5147, 5153, 5167, 5171, 5179, 5189, 5197, 5209, 5227, 5231, 5233, 5237, 5261, 5273, 5279, 5281, 5297, 5303, 5309, 5323, 5333, 5347, 5351, 5381, 5387, 5393, 5399, 5407, 5413, 5417, 5419, 5431, 5437, 5441, 5443, 5449, 5471, 5477, 5479, 5483, 5501, 5503, 5507, 5519, 5521, 5527, 5531, 5557, 5563, 5569, 5573, 5581, 5591, 5623, 5639, 5641, 5647, 5651, 5653, 5657, 5659, 5669, 5683, 5689, 5693, 5701, 5711, 5717, 5737, 5741, 5743, 5749, 5779, 5783, 5791, 5801, 5807, 5813, 5821, 5827, 5839, 5843, 5849, 5851, 5857, 5861, 5867, 5869, 5879, 5881, 5897, 5903, 5923, 5927, 5939, 5953, 5981, 5987, 6007, 6011, 6029, 6037, 6043, 6047, 6053, 6067, 6073, 6079, 6089, 6091, 6101, 6113, 6121, 6131, 6133, 6143, 6151, 6163, 6173, 6197, 6199, 6203, 6211, 6217, 6221, 6229, 6247, 6257, 6263, 6269, 6271, 6277, 6287, 6299, 6301, 6311, 6317, 6323, 6329, 6337, 6343, 6353, 6359, 6361, 6367, 6373, 6379, 6389, 6397, 6421, 6427, 6449, 6451, 6469, 6473, 6481, 6491, 6521, 6529, 6547, 6551, 6553, 6563, 6569, 6571, 6577, 6581, 6599, 6607, 6619, 6637, 6653, 6659, 6661, 6673, 6679, 6689, 6691, 6701, 6703, 6709, 6719, 6733, 6737, 6761, 6763, 6779, 6781, 6791, 6793, 6803, 6823, 6827, 6829, 6833, 6841, 6857, 6863, 6869, 6871, 6883, 6899, 6907, 6911, 6917, 6947, 6949, 6959, 6961, 6967, 6971, 6977, 6983, 6991, 6997, 7001, 7013, 7019, 7027, 7039, 7043, 7057, 7069, 7079, 7103, 7109, 7121, 7127, 7129, 7151, 7159, 7177, 7187, 7193, 7207, 7211, 7213, 7219, 7229, 7237, 7243, 7247, 7253, 7283, 7297, 7307, 7309, 7321, 7331, 7333, 7349, 7351, 7369, 7393, 7411, 7417, 7433, 7451, 7457, 7459, 7477, 7481, 7487, 7489, 7499, 7507, 7517, 7523, 7529, 7537, 7541, 7547, 7549, 7559, 7561, 7573, 7577, 7583, 7589, 7591, 7603, 7607, 7621, 7639, 7643, 7649, 7669, 7673, 7681, 7687, 7691, 7699, 7703, 7717, 7723, 7727, 7741, 7753, 7757, 7759, 7789, 7793, 7817, 7823, 7829, 7841, 7853, 7867, 7873, 7877, 7879, 7883, 7901, 7907, 7919]\n",
      "All test cases passed.\n",
      "Computed primes: [2, 3, 5, 7, 11, 13, 17, 19, 23, 29, 31, 37, 41, 43, 47, 53, 59, 61, 67, 71, 73, 79, 83, 89, 97, 101, 103, 107, 109, 113, 127, 131, 137, 139, 149, 151, 157, 163, 167, 173, 179, 181, 191, 193, 197, 199, 211, 223, 227, 229, 233, 239, 241, 251, 257, 263, 269, 271, 277, 281, 283, 293, 307, 311, 313, 317, 331, 337, 347, 349, 353, 359, 367, 373, 379, 383, 389, 397, 401, 409, 419, 421, 431, 433, 439, 443, 449, 457, 461, 463, 467, 479, 487, 491, 499, 503, 509, 521, 523, 541, 547, 557, 563, 569, 571, 577, 587, 593, 599, 601, 607, 613, 617, 619, 631, 641, 643, 647, 653, 659, 661, 673, 677, 683, 691, 701, 709, 719, 727, 733, 739, 743, 751, 757, 761, 769, 773, 787, 797, 809, 811, 821, 823, 827, 829, 839, 853, 857, 859, 863, 877, 881, 883, 887, 907, 911, 919, 929, 937, 941, 947, 953, 967, 971, 977, 983, 991, 997, 1009, 1013, 1019, 1021, 1031, 1033, 1039, 1049, 1051, 1061, 1063, 1069, 1087, 1091, 1093, 1097, 1103, 1109, 1117, 1123, 1129, 1151, 1153, 1163, 1171, 1181, 1187, 1193, 1201, 1213, 1217, 1223, 1229, 1231, 1237, 1249, 1259, 1277, 1279, 1283, 1289, 1291, 1297, 1301, 1303, 1307, 1319, 1321, 1327, 1361, 1367, 1373, 1381, 1399, 1409, 1423, 1427, 1429, 1433, 1439, 1447, 1451, 1453, 1459, 1471, 1481, 1483, 1487, 1489, 1493, 1499, 1511, 1523, 1531, 1543, 1549, 1553, 1559, 1567, 1571, 1579, 1583, 1597, 1601, 1607, 1609, 1613, 1619, 1621, 1627, 1637, 1657, 1663, 1667, 1669, 1693, 1697, 1699, 1709, 1721, 1723, 1733, 1741, 1747, 1753, 1759, 1777, 1783, 1787, 1789, 1801, 1811, 1823, 1831, 1847, 1861, 1867, 1871, 1873, 1877, 1879, 1889, 1901, 1907, 1913, 1931, 1933, 1949, 1951, 1973, 1979, 1987, 1993, 1997, 1999, 2003, 2011, 2017, 2027, 2029, 2039, 2053, 2063, 2069, 2081, 2083, 2087, 2089, 2099, 2111, 2113, 2129, 2131, 2137, 2141, 2143, 2153, 2161, 2179, 2203, 2207, 2213, 2221, 2237, 2239, 2243, 2251, 2267, 2269, 2273, 2281, 2287, 2293, 2297, 2309, 2311, 2333, 2339, 2341, 2347, 2351, 2357, 2371, 2377, 2381, 2383, 2389, 2393, 2399, 2411, 2417, 2423, 2437, 2441, 2447, 2459, 2467, 2473, 2477, 2503, 2521, 2531, 2539, 2543, 2549, 2551, 2557, 2579, 2591, 2593, 2609, 2617, 2621, 2633, 2647, 2657, 2659, 2663, 2671, 2677, 2683, 2687, 2689, 2693, 2699, 2707, 2711, 2713, 2719, 2729, 2731, 2741, 2749, 2753, 2767, 2777, 2789, 2791, 2797, 2801, 2803, 2819, 2833, 2837, 2843, 2851, 2857, 2861, 2879, 2887, 2897, 2903, 2909, 2917, 2927, 2939, 2953, 2957, 2963, 2969, 2971, 2999, 3001, 3011, 3019, 3023, 3037, 3041, 3049, 3061, 3067, 3079, 3083, 3089, 3109, 3119, 3121, 3137, 3163, 3167, 3169, 3181, 3187, 3191, 3203, 3209, 3217, 3221, 3229, 3251, 3253, 3257, 3259, 3271, 3299, 3301, 3307, 3313, 3319, 3323, 3329, 3331, 3343, 3347, 3359, 3361, 3371, 3373, 3389, 3391, 3407, 3413, 3433, 3449, 3457, 3461, 3463, 3467, 3469, 3491, 3499, 3511, 3517, 3527, 3529, 3533, 3539, 3541, 3547, 3557, 3559, 3571, 3581, 3583, 3593, 3607, 3613, 3617, 3623, 3631, 3637, 3643, 3659, 3671, 3673, 3677, 3691, 3697, 3701, 3709, 3719, 3727, 3733, 3739, 3761, 3767, 3769, 3779, 3793, 3797, 3803, 3821, 3823, 3833, 3847, 3851, 3853, 3863, 3877, 3881, 3889, 3907, 3911, 3917, 3919, 3923, 3929, 3931, 3943, 3947, 3967, 3989, 4001, 4003, 4007, 4013, 4019, 4021, 4027, 4049, 4051, 4057, 4073, 4079, 4091, 4093, 4099, 4111, 4127, 4129, 4133, 4139, 4153, 4157, 4159, 4177, 4201, 4211, 4217, 4219, 4229, 4231, 4241, 4243, 4253, 4259, 4261, 4271, 4273, 4283, 4289, 4297, 4327, 4337, 4339, 4349, 4357, 4363, 4373, 4391, 4397, 4409, 4421, 4423, 4441, 4447, 4451, 4457, 4463, 4481, 4483, 4493, 4507, 4513, 4517, 4519, 4523, 4547, 4549, 4561, 4567, 4583, 4591, 4597, 4603, 4621, 4637, 4639, 4643, 4649, 4651, 4657, 4663, 4673, 4679, 4691, 4703, 4721, 4723, 4729, 4733, 4751, 4759, 4783, 4787, 4789, 4793, 4799, 4801, 4813, 4817, 4831, 4861, 4871, 4877, 4889, 4903, 4909, 4919, 4931, 4933, 4937, 4943, 4951, 4957, 4967, 4969, 4973, 4987, 4993, 4999, 5003, 5009, 5011, 5021, 5023, 5039, 5051, 5059, 5077, 5081, 5087, 5099, 5101, 5107, 5113, 5119, 5147, 5153, 5167, 5171, 5179, 5189, 5197, 5209, 5227, 5231, 5233, 5237, 5261, 5273, 5279, 5281, 5297, 5303, 5309, 5323, 5333, 5347, 5351, 5381, 5387, 5393, 5399, 5407, 5413, 5417, 5419, 5431, 5437, 5441, 5443, 5449, 5471, 5477, 5479, 5483, 5501, 5503, 5507, 5519, 5521, 5527, 5531, 5557, 5563, 5569, 5573, 5581, 5591, 5623, 5639, 5641, 5647, 5651, 5653, 5657, 5659, 5669, 5683, 5689, 5693, 5701, 5711, 5717, 5737, 5741, 5743, 5749, 5779, 5783, 5791, 5801, 5807, 5813, 5821, 5827, 5839, 5843, 5849, 5851, 5857, 5861, 5867, 5869, 5879, 5881, 5897, 5903, 5923, 5927, 5939, 5953, 5981, 5987, 6007, 6011, 6029, 6037, 6043, 6047, 6053, 6067, 6073, 6079, 6089, 6091, 6101, 6113, 6121, 6131, 6133, 6143, 6151, 6163, 6173, 6197, 6199, 6203, 6211, 6217, 6221, 6229, 6247, 6257, 6263, 6269, 6271, 6277, 6287, 6299, 6301, 6311, 6317, 6323, 6329, 6337, 6343, 6353, 6359, 6361, 6367, 6373, 6379, 6389, 6397, 6421, 6427, 6449, 6451, 6469, 6473, 6481, 6491, 6521, 6529, 6547, 6551, 6553, 6563, 6569, 6571, 6577, 6581, 6599, 6607, 6619, 6637, 6653, 6659, 6661, 6673, 6679, 6689, 6691, 6701, 6703, 6709, 6719, 6733, 6737, 6761, 6763, 6779, 6781, 6791, 6793, 6803, 6823, 6827, 6829, 6833, 6841, 6857, 6863, 6869, 6871, 6883, 6899, 6907, 6911, 6917, 6947, 6949, 6959, 6961, 6967, 6971, 6977, 6983, 6991, 6997, 7001, 7013, 7019, 7027, 7039, 7043, 7057, 7069, 7079, 7103, 7109, 7121, 7127, 7129, 7151, 7159, 7177, 7187, 7193, 7207, 7211, 7213, 7219, 7229, 7237, 7243, 7247, 7253, 7283, 7297, 7307, 7309, 7321, 7331, 7333, 7349, 7351, 7369, 7393, 7411, 7417, 7433, 7451, 7457, 7459, 7477, 7481, 7487, 7489, 7499, 7507, 7517, 7523, 7529, 7537, 7541, 7547, 7549, 7559, 7561, 7573, 7577, 7583, 7589, 7591, 7603, 7607, 7621, 7639, 7643, 7649, 7669, 7673, 7681, 7687, 7691, 7699, 7703, 7717, 7723, 7727, 7741, 7753, 7757, 7759, 7789, 7793, 7817, 7823, 7829, 7841, 7853, 7867, 7873, 7877, 7879, 7883, 7901, 7907, 7919]\n",
      "Expected primes: [2, 3, 5, 7, 11, 13, 17, 19, 23, 29, 31, 37, 41, 43, 47, 53, 59, 61, 67, 71, 73, 79, 83, 89, 97, 101, 103, 107, 109, 113, 127, 131, 137, 139, 149, 151, 157, 163, 167, 173, 179, 181, 191, 193, 197, 199, 211, 223, 227, 229, 233, 239, 241, 251, 257, 263, 269, 271, 277, 281, 283, 293, 307, 311, 313, 317, 331, 337, 347, 349, 353, 359, 367, 373, 379, 383, 389, 397, 401, 409, 419, 421, 431, 433, 439, 443, 449, 457, 461, 463, 467, 479, 487, 491, 499, 503, 509, 521, 523, 541, 547, 557, 563, 569, 571, 577, 587, 593, 599, 601, 607, 613, 617, 619, 631, 641, 643, 647, 653, 659, 661, 673, 677, 683, 691, 701, 709, 719, 727, 733, 739, 743, 751, 757, 761, 769, 773, 787, 797, 809, 811, 821, 823, 827, 829, 839, 853, 857, 859, 863, 877, 881, 883, 887, 907, 911, 919, 929, 937, 941, 947, 953, 967, 971, 977, 983, 991, 997, 1009, 1013, 1019, 1021, 1031, 1033, 1039, 1049, 1051, 1061, 1063, 1069, 1087, 1091, 1093, 1097, 1103, 1109, 1117, 1123, 1129, 1151, 1153, 1163, 1171, 1181, 1187, 1193, 1201, 1213, 1217, 1223, 1229, 1231, 1237, 1249, 1259, 1277, 1279, 1283, 1289, 1291, 1297, 1301, 1303, 1307, 1319, 1321, 1327, 1361, 1367, 1373, 1381, 1399, 1409, 1423, 1427, 1429, 1433, 1439, 1447, 1451, 1453, 1459, 1471, 1481, 1483, 1487, 1489, 1493, 1499, 1511, 1523, 1531, 1543, 1549, 1553, 1559, 1567, 1571, 1579, 1583, 1597, 1601, 1607, 1609, 1613, 1619, 1621, 1627, 1637, 1657, 1663, 1667, 1669, 1693, 1697, 1699, 1709, 1721, 1723, 1733, 1741, 1747, 1753, 1759, 1777, 1783, 1787, 1789, 1801, 1811, 1823, 1831, 1847, 1861, 1867, 1871, 1873, 1877, 1879, 1889, 1901, 1907, 1913, 1931, 1933, 1949, 1951, 1973, 1979, 1987, 1993, 1997, 1999, 2003, 2011, 2017, 2027, 2029, 2039, 2053, 2063, 2069, 2081, 2083, 2087, 2089, 2099, 2111, 2113, 2129, 2131, 2137, 2141, 2143, 2153, 2161, 2179, 2203, 2207, 2213, 2221, 2237, 2239, 2243, 2251, 2267, 2269, 2273, 2281, 2287, 2293, 2297, 2309, 2311, 2333, 2339, 2341, 2347, 2351, 2357, 2371, 2377, 2381, 2383, 2389, 2393, 2399, 2411, 2417, 2423, 2437, 2441, 2447, 2459, 2467, 2473, 2477, 2503, 2521, 2531, 2539, 2543, 2549, 2551, 2557, 2579, 2591, 2593, 2609, 2617, 2621, 2633, 2647, 2657, 2659, 2663, 2671, 2677, 2683, 2687, 2689, 2693, 2699, 2707, 2711, 2713, 2719, 2729, 2731, 2741, 2749, 2753, 2767, 2777, 2789, 2791, 2797, 2801, 2803, 2819, 2833, 2837, 2843, 2851, 2857, 2861, 2879, 2887, 2897, 2903, 2909, 2917, 2927, 2939, 2953, 2957, 2963, 2969, 2971, 2999, 3001, 3011, 3019, 3023, 3037, 3041, 3049, 3061, 3067, 3079, 3083, 3089, 3109, 3119, 3121, 3137, 3163, 3167, 3169, 3181, 3187, 3191, 3203, 3209, 3217, 3221, 3229, 3251, 3253, 3257, 3259, 3271, 3299, 3301, 3307, 3313, 3319, 3323, 3329, 3331, 3343, 3347, 3359, 3361, 3371, 3373, 3389, 3391, 3407, 3413, 3433, 3449, 3457, 3461, 3463, 3467, 3469, 3491, 3499, 3511, 3517, 3527, 3529, 3533, 3539, 3541, 3547, 3557, 3559, 3571, 3581, 3583, 3593, 3607, 3613, 3617, 3623, 3631, 3637, 3643, 3659, 3671, 3673, 3677, 3691, 3697, 3701, 3709, 3719, 3727, 3733, 3739, 3761, 3767, 3769, 3779, 3793, 3797, 3803, 3821, 3823, 3833, 3847, 3851, 3853, 3863, 3877, 3881, 3889, 3907, 3911, 3917, 3919, 3923, 3929, 3931, 3943, 3947, 3967, 3989, 4001, 4003, 4007, 4013, 4019, 4021, 4027, 4049, 4051, 4057, 4073, 4079, 4091, 4093, 4099, 4111, 4127, 4129, 4133, 4139, 4153, 4157, 4159, 4177, 4201, 4211, 4217, 4219, 4229, 4231, 4241, 4243, 4253, 4259, 4261, 4271, 4273, 4283, 4289, 4297, 4327, 4337, 4339, 4349, 4357, 4363, 4373, 4391, 4397, 4409, 4421, 4423, 4441, 4447, 4451, 4457, 4463, 4481, 4483, 4493, 4507, 4513, 4517, 4519, 4523, 4547, 4549, 4561, 4567, 4583, 4591, 4597, 4603, 4621, 4637, 4639, 4643, 4649, 4651, 4657, 4663, 4673, 4679, 4691, 4703, 4721, 4723, 4729, 4733, 4751, 4759, 4783, 4787, 4789, 4793, 4799, 4801, 4813, 4817, 4831, 4861, 4871, 4877, 4889, 4903, 4909, 4919, 4931, 4933, 4937, 4943, 4951, 4957, 4967, 4969, 4973, 4987, 4993, 4999, 5003, 5009, 5011, 5021, 5023, 5039, 5051, 5059, 5077, 5081, 5087, 5099, 5101, 5107, 5113, 5119, 5147, 5153, 5167, 5171, 5179, 5189, 5197, 5209, 5227, 5231, 5233, 5237, 5261, 5273, 5279, 5281, 5297, 5303, 5309, 5323, 5333, 5347, 5351, 5381, 5387, 5393, 5399, 5407, 5413, 5417, 5419, 5431, 5437, 5441, 5443, 5449, 5471, 5477, 5479, 5483, 5501, 5503, 5507, 5519, 5521, 5527, 5531, 5557, 5563, 5569, 5573, 5581, 5591, 5623, 5639, 5641, 5647, 5651, 5653, 5657, 5659, 5669, 5683, 5689, 5693, 5701, 5711, 5717, 5737, 5741, 5743, 5749, 5779, 5783, 5791, 5801, 5807, 5813, 5821, 5827, 5839, 5843, 5849, 5851, 5857, 5861, 5867, 5869, 5879, 5881, 5897, 5903, 5923, 5927, 5939, 5953, 5981, 5987, 6007, 6011, 6029, 6037, 6043, 6047, 6053, 6067, 6073, 6079, 6089, 6091, 6101, 6113, 6121, 6131, 6133, 6143, 6151, 6163, 6173, 6197, 6199, 6203, 6211, 6217, 6221, 6229, 6247, 6257, 6263, 6269, 6271, 6277, 6287, 6299, 6301, 6311, 6317, 6323, 6329, 6337, 6343, 6353, 6359, 6361, 6367, 6373, 6379, 6389, 6397, 6421, 6427, 6449, 6451, 6469, 6473, 6481, 6491, 6521, 6529, 6547, 6551, 6553, 6563, 6569, 6571, 6577, 6581, 6599, 6607, 6619, 6637, 6653, 6659, 6661, 6673, 6679, 6689, 6691, 6701, 6703, 6709, 6719, 6733, 6737, 6761, 6763, 6779, 6781, 6791, 6793, 6803, 6823, 6827, 6829, 6833, 6841, 6857, 6863, 6869, 6871, 6883, 6899, 6907, 6911, 6917, 6947, 6949, 6959, 6961, 6967, 6971, 6977, 6983, 6991, 6997, 7001, 7013, 7019, 7027, 7039, 7043, 7057, 7069, 7079, 7103, 7109, 7121, 7127, 7129, 7151, 7159, 7177, 7187, 7193, 7207, 7211, 7213, 7219, 7229, 7237, 7243, 7247, 7253, 7283, 7297, 7307, 7309, 7321, 7331, 7333, 7349, 7351, 7369, 7393, 7411, 7417, 7433, 7451, 7457, 7459, 7477, 7481, 7487, 7489, 7499, 7507, 7517, 7523, 7529, 7537, 7541, 7547, 7549, 7559, 7561, 7573, 7577, 7583, 7589, 7591, 7603, 7607, 7621, 7639, 7643, 7649, 7669, 7673, 7681, 7687, 7691, 7699, 7703, 7717, 7723, 7727, 7741, 7753, 7757, 7759, 7789, 7793, 7817, 7823, 7829, 7841, 7853, 7867, 7873, 7877, 7879, 7883, 7901, 7907, 7919]\n",
      "All test cases passed.\n"
     ]
    }
   ],
   "source": [
    "test_primes_with_file(20)\n",
    "test_primes_with_file(64)\n",
    "test_primes_with_file(100)\n",
    "test_primes_with_file(1000)"
   ]
  },
  {
   "cell_type": "code",
   "execution_count": 69,
   "id": "767816ab",
   "metadata": {},
   "outputs": [
    {
     "name": "stdout",
     "output_type": "stream",
     "text": [
      "Computed constants: ['428a2f98', '71374491', 'b5c0fbcf', 'e9b5dba5', '3956c25b', '59f111f1', '923f82a4', 'ab1c5ed5', 'd807aa98', '12835b01', '243185be', '550c7dc3', '72be5d74', '80deb1fe', '9bdc06a7', 'c19bf174', 'e49b69c1', 'efbe4786', '0fc19dc6', '240ca1cc', '2de92c6f', '4a7484aa', '5cb0a9dc', '76f988da', '983e5152', 'a831c66d', 'b00327c8', 'bf597fc7', 'c6e00bf3', 'd5a79147', '06ca6351', '14292967', '27b70a85', '2e1b2138', '4d2c6dfc', '53380d13', '650a7354', '766a0abb', '81c2c92e', '92722c85', 'a2bfe8a1', 'a81a664b', 'c24b8b70', 'c76c51a3', 'd192e819', 'd6990624', 'f40e3585', '106aa070', '19a4c116', '1e376c08', '2748774c', '34b0bcb5', '391c0cb3', '4ed8aa4a', '5b9cca4f', '682e6ff3', '748f82ee', '78a5636f', '84c87814', '8cc70208', '90befffa', 'a4506ceb', 'bef9a3f7', 'c67178f2']\n",
      "Expected constants: ['428a2f98', '71374491', 'b5c0fbcf', 'e9b5dba5', '3956c25b', '59f111f1', '923f82a4', 'ab1c5ed5', 'd807aa98', '12835b01', '243185be', '550c7dc3', '72be5d74', '80deb1fe', '9bdc06a7', 'c19bf174', 'e49b69c1', 'efbe4786', '0fc19dc6', '240ca1cc', '2de92c6f', '4a7484aa', '5cb0a9dc', '76f988da', '983e5152', 'a831c66d', 'b00327c8', 'bf597fc7', 'c6e00bf3', 'd5a79147', '06ca6351', '14292967', '27b70a85', '2e1b2138', '4d2c6dfc', '53380d13', '650a7354', '766a0abb', '81c2c92e', '92722c85', 'a2bfe8a1', 'a81a664b', 'c24b8b70', 'c76c51a3', 'd192e819', 'd6990624', 'f40e3585', '106aa070', '19a4c116', '1e376c08', '2748774c', '34b0bcb5', '391c0cb3', '4ed8aa4a', '5b9cca4f', '682e6ff3', '748f82ee', '78a5636f', '84c87814', '8cc70208', '90befffa', 'a4506ceb', 'bef9a3f7', 'c67178f2']\n",
      "All test cases passed.\n"
     ]
    }
   ],
   "source": [
    "test_sha1_constants_from_file()"
   ]
  },
  {
   "cell_type": "markdown",
   "id": "40ff2c4f",
   "metadata": {},
   "source": [
    "## Problem 3"
   ]
  },
  {
   "cell_type": "markdown",
   "id": "6a666421",
   "metadata": {},
   "source": [
    "Write a generator function block_parse(msg) that processes messages according to section 5.1.1 and 5.2.1 of the Secure Hash Standard. The function should accept a bytes object called msg. At each iteration, it should yield the next 512-bit block of msg as a bytes object. Ensure that the final block (or final two blocks) include the required padding of msg as specified in the standard. Test the generator with messages of different lengths to confirm proper padding and block output."
   ]
  },
  {
   "cell_type": "markdown",
   "id": "e9ef2f28",
   "metadata": {},
   "source": [
    "#### Solution Description\n",
    "\n",
    "The `block_parse` function implements SHA-1 message preprocessing according to sections 5.1.1 and 5.2.1 of the Secure Hash Standard. It takes a message as bytes and yields 512-bit (64-byte) blocks with proper padding to ensure the total message length is a multiple of 512 bits.\n",
    "\n",
    "##### Key Components\n",
    "\n",
    "1. **Message Processing**: The function first yields complete 512-bit blocks from the original message without modification. A generator function is a method that incrementally returns or yields its response to the caller.\n",
    "\n",
    "2. **Padding Logic**: For the remaining bytes (less than 64), it applies SHA-1 padding:\n",
    "   - Appends a '1' bit (0x80 byte) immediately after the message\n",
    "   - Pads with zeros until the total length (excluding the 64-bit length field) is congruent to 448 bits modulo 512 bits\n",
    "   - Appends the original message length in bits as a 64-bit big-endian integer\n",
    "\n",
    "3. **Two-Block Handling**: If adding the '1' bit would make the current block exceed 448 bits (56 bytes), the function creates two final blocks:\n",
    "   - First block: remaining message + '1' bit + zeros to fill 512 bits\n",
    "   - Second block: 448 bits of zeros + 64-bit length field\n",
    "\n",
    "##### Implementation Details\n",
    "\n",
    "- **Generator Design**: Uses `yield` to return blocks, making it memory-efficient for large messages\n",
    "- **Length Calculation**: Message length is computed as `len(msg) * 8` to get bits (conversion from bytes to bits)\n",
    "- **Boundary Conditions**: Handles edge cases like empty messages, messages that fit exactly in one block, and messages requiring multiple blocks\n",
    "- **Testing**: Comprehensive tests verify correct padding for various message lengths including boundary cases\n",
    "\n",
    "##### Example\n",
    "\n",
    "For a 3-byte message \"abc\":\n",
    "- Original: 24 bits\n",
    "- Padded: \"abc\" + 0x80 + 53 zeros + 64-bit length (24)\n",
    "- Result: One 64-byte block\n",
    "\n",
    "For a 56-byte message:\n",
    "- First block: 56 bytes of message\n",
    "- Second block: 0x80 + 55 zeros + 64-bit length (448)\n",
    "- Result: Two 64-byte blocks\n",
    "\n",
    "This ensures SHA-1 can process messages of any length by standardizing them into 512-bit blocks."
   ]
  },
  {
   "cell_type": "code",
   "execution_count": 70,
   "id": "ffbe867c",
   "metadata": {},
   "outputs": [],
   "source": [
    "def block_parse(msg):\n",
    "    # Get the original message length in bits\n",
    "    msg_len_bits = len(msg) * 8\n",
    "    \n",
    "    # Yield complete 512-bit blocks from the original message\n",
    "    block_size = 64  # 512 bits = 64 bytes\n",
    "    offset = 0\n",
    "    \n",
    "    while offset + block_size <= len(msg):\n",
    "        yield msg[offset:offset + block_size]\n",
    "        offset += block_size\n",
    "    \n",
    "    # Process the remaining bytes (less than 64 bytes)\n",
    "    remaining = msg[offset:]\n",
    "    \n",
    "    # Start building the final block(s) with padding\n",
    "    # Step 1: Append the '1' bit (0x80 = 10000000 in binary)\n",
    "    padded = remaining + b'\\x80'\n",
    "    \n",
    "    # Step 2: Calculate how many zero bytes we need\n",
    "    # We need to leave room for the 8-byte (64-bit) length field\n",
    "    # Total length should be a multiple of 64 bytes\n",
    "    \n",
    "    # If we have room for the length in the current block\n",
    "    if len(padded) <= 56:  # 56 bytes message + padding + 8 bytes length = 64 bytes\n",
    "        # Pad with zeros until we have 56 bytes\n",
    "        padded += b'\\x00' * (56 - len(padded))\n",
    "        # Append the message length as a 64-bit big-endian integer\n",
    "        padded += msg_len_bits.to_bytes(8, byteorder='big')\n",
    "        yield padded\n",
    "    else:\n",
    "        # First block: pad the current data to 64 bytes\n",
    "        padded += b'\\x00' * (64 - len(padded))\n",
    "        yield padded\n",
    "        \n",
    "        # Second block: 56 bytes of zeros + 8 bytes of length\n",
    "        final_block = b'\\x00' * 56\n",
    "        final_block += msg_len_bits.to_bytes(8, byteorder='big')\n",
    "        yield final_block\n"
   ]
  },
  {
   "cell_type": "markdown",
   "id": "88f8d58d",
   "metadata": {},
   "source": [
    "#### Testing"
   ]
  },
  {
   "cell_type": "code",
   "execution_count": 71,
   "id": "0d4beb05",
   "metadata": {},
   "outputs": [],
   "source": [
    "def test_block_parse():\n",
    "    \"\"\"Test the block_parse generator with various message lengths.\"\"\"\n",
    "    \n",
    "    # Test 1: Empty message\n",
    "    print(\"Test 1: Empty message\")\n",
    "    blocks = list(block_parse(b''))\n",
    "    assert len(blocks) == 1, \"Empty message should produce 1 block\"\n",
    "    assert len(blocks[0]) == 64, \"Block should be 64 bytes\"\n",
    "    assert blocks[0][0] == 0x80, \"First byte should be padding bit\"\n",
    "    print(f\"  Blocks: {len(blocks)}, Last 8 bytes (length): {blocks[0][-8:].hex()}\")\n",
    "    \n",
    "    # Test 2: Short message (3 bytes = \"abc\")\n",
    "    print(\"\\nTest 2: Short message 'abc'\")\n",
    "    blocks = list(block_parse(b'abc'))\n",
    "    assert len(blocks) == 1, \"Short message should produce 1 block\"\n",
    "    assert len(blocks[0]) == 64, \"Block should be 64 bytes\"\n",
    "    assert blocks[0][:3] == b'abc', \"Should start with original message\"\n",
    "    assert blocks[0][3] == 0x80, \"Fourth byte should be padding bit\"\n",
    "    msg_len = int.from_bytes(blocks[0][-8:], byteorder='big')\n",
    "    assert msg_len == 24, \"Message length should be 24 bits (3 bytes)\"\n",
    "    print(f\"  Blocks: {len(blocks)}, Message length in bits: {msg_len}\")\n",
    "    \n",
    "    # Test 3: Message that fits exactly in one block minus padding (55 bytes)\n",
    "    print(\"\\nTest 3: 55-byte message\")\n",
    "    msg = b'a' * 55\n",
    "    blocks = list(block_parse(msg))\n",
    "    assert len(blocks) == 1, \"55-byte message should fit in 1 block with padding\"\n",
    "    assert len(blocks[0]) == 64\n",
    "    msg_len = int.from_bytes(blocks[0][-8:], byteorder='big')\n",
    "    assert msg_len == 55 * 8, \"Message length should be 440 bits\"\n",
    "    print(f\"  Blocks: {len(blocks)}, Message length in bits: {msg_len}\")\n",
    "    \n",
    "    # Test 4: Message that requires exactly 2 blocks (56 bytes)\n",
    "    print(\"\\nTest 4: 56-byte message (boundary case)\")\n",
    "    msg = b'a' * 56\n",
    "    blocks = list(block_parse(msg))\n",
    "    assert len(blocks) == 2, \"56-byte message should require 2 blocks\"\n",
    "    assert len(blocks[0]) == 64 and len(blocks[1]) == 64\n",
    "    msg_len = int.from_bytes(blocks[1][-8:], byteorder='big')\n",
    "    assert msg_len == 56 * 8, \"Message length should be 448 bits\"\n",
    "    print(f\"  Blocks: {len(blocks)}, Message length in bits: {msg_len}\")\n",
    "    \n",
    "    # Test 5: Message longer than one block (100 bytes)\n",
    "    print(\"\\nTest 5: 100-byte message\")\n",
    "    msg = b'a' * 100\n",
    "    blocks = list(block_parse(msg))\n",
    "    assert len(blocks) == 2, \"100-byte message should produce 2 blocks\"\n",
    "    assert all(len(block) == 64 for block in blocks), \"All blocks should be 64 bytes\"\n",
    "    msg_len = int.from_bytes(blocks[-1][-8:], byteorder='big')\n",
    "    assert msg_len == 100 * 8, \"Message length should be 800 bits\"\n",
    "    print(f\"  Blocks: {len(blocks)}, Message length in bits: {msg_len}\")\n",
    "    \n",
    "    # Test 6: Large message (200 bytes)\n",
    "    print(\"\\nTest 6: 200-byte message\")\n",
    "    msg = b'x' * 200\n",
    "    blocks = list(block_parse(msg))\n",
    "    expected_blocks = 4  # 3 full blocks + 1 partial with padding\n",
    "    assert len(blocks) == expected_blocks, f\"200-byte message should produce {expected_blocks} blocks\"\n",
    "    assert all(len(block) == 64 for block in blocks), \"All blocks should be 64 bytes\"\n",
    "    msg_len = int.from_bytes(blocks[-1][-8:], byteorder='big')\n",
    "    assert msg_len == 200 * 8, \"Message length should be 1600 bits\"\n",
    "    print(f\"  Blocks: {len(blocks)}, Message length in bits: {msg_len}\")\n",
    "    \n",
    "    print(\"\\nAll tests passed.\")"
   ]
  },
  {
   "cell_type": "code",
   "execution_count": 72,
   "id": "80fc3ecf",
   "metadata": {},
   "outputs": [
    {
     "name": "stdout",
     "output_type": "stream",
     "text": [
      "Test 1: Empty message\n",
      "  Blocks: 1, Last 8 bytes (length): 0000000000000000\n",
      "\n",
      "Test 2: Short message 'abc'\n",
      "  Blocks: 1, Message length in bits: 24\n",
      "\n",
      "Test 3: 55-byte message\n",
      "  Blocks: 1, Message length in bits: 440\n",
      "\n",
      "Test 4: 56-byte message (boundary case)\n",
      "  Blocks: 2, Message length in bits: 448\n",
      "\n",
      "Test 5: 100-byte message\n",
      "  Blocks: 2, Message length in bits: 800\n",
      "\n",
      "Test 6: 200-byte message\n",
      "  Blocks: 4, Message length in bits: 1600\n",
      "\n",
      "All tests passed.\n"
     ]
    }
   ],
   "source": [
    "test_block_parse()"
   ]
  },
  {
   "cell_type": "markdown",
   "id": "07124713",
   "metadata": {},
   "source": [
    "## Problem 4"
   ]
  },
  {
   "cell_type": "markdown",
   "id": "b085a6f3",
   "metadata": {},
   "source": [
    "## Problem 4: SHA-1 Hash Implementation\n",
    "\n",
    "### Description\n",
    "\n",
    "The SHA-1 algorithm defined in Section 6.1 of the Secure Hash Standard processes the input message through the following steps:\n",
    "\n",
    "1. **Preprocessing**: Pad the message and parse it into 512-bit blocks using the `block_parse` function from Problem 3, described in Section 6.1.1.\n",
    "\n",
    "2. **Initialise Hash Values**: Start with the initial hash values defined in Section 5.3.1 of the Secure Hash Standard, described in Section 6.1.1:\n",
    "   - H0 = 0x67452301\n",
    "   - H1 = 0xEFCDAB89  \n",
    "   - H2 = 0x98BADCFE\n",
    "   - H3 = 0x10325476\n",
    "   - H4 = 0xC3D2E1F0\n",
    "\n",
    "3. **Process Each Block**: The processing algorithm is defined in Section 6.1.2. For each 512-bit block:\n",
    "   - Break the block into sixteen words (32-bit integers) W[0..15]\n",
    "   - Extend to 80 words using: W[t] = sigma1(W[t-2]) + W[t-7] + sigma0(W[t-15]) + W[t-16] for t = 16 to 79\n",
    "   - Initialize working variables: a = H0, b = H1, c = H2, d = H3, e = H4\n",
    "   - For t = 0 to 79:\n",
    "     - Select the appropriate function and constant based on t:\n",
    "       - 0 ≤ t ≤ 19: f = Ch(b, c, d), K = 0x5A827999\n",
    "       - 20 ≤ t ≤ 39: f = Parity(b, c, d), K = 0x6ED9EBA1\n",
    "       - 40 ≤ t ≤ 59: f = Maj(b, c, d), K = 0x8F1BBCDC\n",
    "       - 60 ≤ t ≤ 79: f = Parity(b, c, d), K = 0xCA62C1D6\n",
    "     - T = ROTL(a, 5) + f + e + K + W[t]\n",
    "     - e = d, d = c, c = ROTL(b, 30), b = a, a = T\n",
    "   - Update hash values: H0 += a, H1 += b, H2 += c, H3 += d, H4 += e\n",
    "\n",
    "4. **Output**: Concatenate H0, H1, H2, H3, H4 as words and return as hex string."
   ]
  },
  {
   "cell_type": "markdown",
   "id": "ca2e3560",
   "metadata": {},
   "source": [
    "### Code"
   ]
  },
  {
   "cell_type": "code",
   "execution_count": 73,
   "id": "814484e7",
   "metadata": {},
   "outputs": [],
   "source": [
    "def ROTL(x, n):\n",
    "    \"\"\"Rotate left by n bits (32-bit).\"\"\"\n",
    "    return ((x << n) | (x >> (32 - n))) & 0xFFFFFFFF"
   ]
  },
  {
   "cell_type": "code",
   "execution_count": 74,
   "id": "9a4378b1",
   "metadata": {},
   "outputs": [],
   "source": [
    "def sha1_hash(message):\n",
    "    \"\"\"\n",
    "    Compute the SHA-1 hash of a message.\n",
    "    \n",
    "    Parameters:\n",
    "        message (bytes): The input message to hash.\n",
    "        \n",
    "    Returns:\n",
    "        str: The 160-bit SHA-1 hash as a 40-character hexadecimal string.\n",
    "    \"\"\"\n",
    "    # Get the padded blocks\n",
    "    blocks = list(block_parse(message))\n",
    "    \n",
    "    # Initial hash values\n",
    "    H = [\n",
    "        0x67452301,\n",
    "        0xEFCDAB89,\n",
    "        0x98BADCFE,\n",
    "        0x10325476,\n",
    "        0xC3D2E1F0\n",
    "    ]\n",
    "    \n",
    "    # Process each block\n",
    "    for block in blocks:\n",
    "        # Break block into 16 32-bit big-endian words\n",
    "        W = []\n",
    "        for i in range(16):\n",
    "            word = int.from_bytes(block[i*4:(i+1)*4], byteorder='big')\n",
    "            W.append(word)\n",
    "        \n",
    "        # Extend to 80 words\n",
    "        for t in range(16, 80):\n",
    "            W.append((sigma1(W[t-2]) + W[t-7] + sigma0(W[t-15]) + W[t-16]) & 0xFFFFFFFF)\n",
    "        \n",
    "        # Initialize working variables\n",
    "        a, b, c, d, e = H\n",
    "        \n",
    "        # Main loop\n",
    "        for t in range(80):\n",
    "            if t < 20:\n",
    "                f = Ch(b, c, d)\n",
    "                K = 0x5A827999\n",
    "            elif t < 40:\n",
    "                f = Parity(b, c, d)\n",
    "                K = 0x6ED9EBA1\n",
    "            elif t < 60:\n",
    "                f = Maj(b, c, d)\n",
    "                K = 0x8F1BBCDC\n",
    "            else:\n",
    "                f = Parity(b, c, d)\n",
    "                K = 0xCA62C1D6\n",
    "            \n",
    "            T = (ROTL(a, 5) + f + e + K + W[t]) & 0xFFFFFFFF\n",
    "            e = d\n",
    "            d = c\n",
    "            c = ROTL(b, 30)\n",
    "            b = a\n",
    "            a = T\n",
    "        \n",
    "        # Update hash values\n",
    "        H[0] = (H[0] + a) & 0xFFFFFFFF\n",
    "        H[1] = (H[1] + b) & 0xFFFFFFFF\n",
    "        H[2] = (H[2] + c) & 0xFFFFFFFF\n",
    "        H[3] = (H[3] + d) & 0xFFFFFFFF\n",
    "        H[4] = (H[4] + e) & 0xFFFFFFFF\n",
    "    \n",
    "    # Produce final hash\n",
    "    hash_bytes = b''\n",
    "    for h in H:\n",
    "        hash_bytes += int(h).to_bytes(4, byteorder='big')\n",
    "    \n",
    "    return hash_bytes.hex()"
   ]
  },
  {
   "cell_type": "markdown",
   "id": "9ab02845",
   "metadata": {},
   "source": [
    "##### Testing"
   ]
  },
  {
   "cell_type": "code",
   "execution_count": 75,
   "id": "98dd4487",
   "metadata": {},
   "outputs": [],
   "source": [
    "#### Testing\n",
    "\n",
    "def test_sha1_hash():\n",
    "    # Still need to add tests\n",
    "    return"
   ]
  },
  {
   "cell_type": "code",
   "execution_count": 76,
   "id": "09a79ddc",
   "metadata": {},
   "outputs": [],
   "source": [
    "test_sha1_hash()"
   ]
  },
  {
   "cell_type": "markdown",
   "id": "790eb5f7",
   "metadata": {},
   "source": [
    "## Problem 5"
   ]
  },
  {
   "cell_type": "markdown",
   "id": "487275f1",
   "metadata": {},
   "source": [
    "## End"
   ]
  }
 ],
 "metadata": {
  "kernelspec": {
   "display_name": "base",
   "language": "python",
   "name": "python3"
  },
  "language_info": {
   "codemirror_mode": {
    "name": "ipython",
    "version": 3
   },
   "file_extension": ".py",
   "mimetype": "text/x-python",
   "name": "python",
   "nbconvert_exporter": "python",
   "pygments_lexer": "ipython3",
   "version": "3.12.7"
  }
 },
 "nbformat": 4,
 "nbformat_minor": 5
}
