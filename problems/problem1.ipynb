{
 "cells": [
  {
   "cell_type": "code",
   "execution_count": 22,
   "id": "b0a4a9d8",
   "metadata": {},
   "outputs": [],
   "source": [
    "import numpy as np"
   ]
  },
  {
   "cell_type": "code",
   "execution_count": 23,
   "metadata": {},
   "outputs": [],
   "source": [
    "def parity(x, y, z):\n",
    "    \"\"\"\n",
    "    SHA-1 parity function.\n",
    "\n",
    "    Parameters:\n",
    "        x (int): first value (interpreted as binary).\n",
    "        y (int): second value (interpreted as binary).\n",
    "        z (int): third value (interpreted as binary).\n",
    "\n",
    "    Returns:\n",
    "        str: The result of the parity as a binary string.\n",
    "    \"\"\"\n",
    "    x = np.uint32(x)\n",
    "    y = np.uint32(y)\n",
    "    z = np.uint32(z)\n",
    "    \n",
    "    # SHA-1 parity function = bitwise XOR of each bit position\n",
    "    result = x ^ y ^ z   # ^ is the bitwise XOR operator in Python\n",
    "\n",
    "    return bin(result)\n"
   ]
  },
  {
   "cell_type": "code",
   "execution_count": 28,
   "id": "0cf920fe",
   "metadata": {},
   "outputs": [
    {
     "name": "stdout",
     "output_type": "stream",
     "text": [
      "0b0\n"
     ]
    }
   ],
   "source": [
    "print(parity(0b1111, 0b1010, 0b0101))"
   ]
  },
  {
   "cell_type": "code",
   "execution_count": null,
   "id": "b79759aa",
   "metadata": {},
   "outputs": [
    {
     "name": "stdout",
     "output_type": "stream",
     "text": [
      "All test cases passed.\n"
     ]
    }
   ],
   "source": [
    "def test_parity():\n",
    "    assert parity(0b0, 0b0, 0b0) == '0b0', \"All zeros should return 0b0\"\n",
    "    assert parity(0b1, 0b0, 0b0) == '0b1', \"Single one should return 0b1\"\n",
    "    assert parity(0b1, 0b1, 0b0) == '0b0', \"Two ones should return 0b0\"\n",
    "    assert parity(0b1, 0b1, 0b1) == '0b1', \"Three ones should return 0b1\"\n",
    "    assert parity(0b101, 0b010, 0b001) == '0b110', \"Mixed bits test\"\n",
    "    assert parity(0b1111, 0b1010, 0b0101) == '0b0', \"4-bit test\"\n",
    "    print('All test cases passed.')"
   ]
  },
  {
   "cell_type": "code",
   "execution_count": null,
   "id": "a4fc0b28",
   "metadata": {},
   "outputs": [],
   "source": [
    "# Run all tests\n",
    "test_parity()"
   ]
  }
 ],
 "metadata": {
  "kernelspec": {
   "display_name": "base",
   "language": "python",
   "name": "python3"
  },
  "language_info": {
   "codemirror_mode": {
    "name": "ipython",
    "version": 3
   },
   "file_extension": ".py",
   "mimetype": "text/x-python",
   "name": "python",
   "nbconvert_exporter": "python",
   "pygments_lexer": "ipython3",
   "version": "3.12.7"
  }
 },
 "nbformat": 4,
 "nbformat_minor": 5
}
