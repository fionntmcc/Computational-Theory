{
 "cells": [
  {
   "cell_type": "code",
   "execution_count": null,
   "id": "fcc8a918",
   "metadata": {},
   "outputs": [],
   "source": [
    "import numpy as np"
   ]
  },
  {
   "cell_type": "code",
   "execution_count": null,
   "id": "c318ec0d",
   "metadata": {},
   "outputs": [],
   "source": [
    "def Ch(x, y, z):\n",
    "    \"\"\"\n",
    "    SHA-1 choose (Ch) function.\n",
    "\n",
    "    Parameters:\n",
    "        x (int): first value (interpreted as binary).\n",
    "        y (int): second value (interpreted as binary).\n",
    "        z (int): third value (interpreted as binary).\n",
    "\n",
    "    Returns:\n",
    "        str: The result of the choose function as a binary string.\n",
    "    \"\"\"\n",
    "    x = np.uint32(x)\n",
    "    y = np.uint32(y)\n",
    "    z = np.uint32(z)\n",
    "\n",
    "    # SHA-1 choose function: (x & y) ^ (~x & z)\n",
    "    result = (x & y) ^ (~x & z)\n",
    "\n",
    "    return bin(result)"
   ]
  },
  {
   "cell_type": "code",
   "execution_count": null,
   "id": "34317804",
   "metadata": {},
   "outputs": [
    {
     "name": "stdout",
     "output_type": "stream",
     "text": [
      "0b0\n"
     ]
    }
   ],
   "source": [
    "print(Ch(0b1111, 0b1010, 0b0101))"
   ]
  }
 ],
 "metadata": {
  "language_info": {
   "name": "python"
  }
 },
 "nbformat": 4,
 "nbformat_minor": 5
}
