{
 "cells": [
  {
   "cell_type": "markdown",
   "id": "1b4175a5",
   "metadata": {},
   "source": [
    "# SHA-1 Choose (Ch) Function\n",
    "\n",
    "The `Ch` function implements the SHA-1 'choose' operation, which selects bits from the second or third input based on the bits of the first input. For each bit position, if the corresponding bit in `x` is 1, the result is the bit from `y`; otherwise, it's the bit from `z`. This is expressed as `(x & y) ^ (~x & z)`.\n",
    "\n",
    "Each input should be an integer representing a binary value. The function returns the result as a binary string.\n",
    "\n",
    "## Example Usage\n",
    "\n",
    "```python\n",
    "result = Ch(0b1111, 0b1010, 0b0101)\n",
    "print(result)  # Output: '0b1010'\n",
    "```\n",
    "\n",
    "In this example, the function chooses bits from `y` where `x` is 1, and from `z` where `x` is 0."
   ]
  },
  {
   "cell_type": "code",
   "execution_count": null,
   "id": "eea53124",
   "metadata": {},
   "outputs": [],
   "source": [
    "import numpy as np"
   ]
  },
  {
   "cell_type": "code",
   "execution_count": null,
   "id": "e7f1c8bd",
   "metadata": {},
   "outputs": [],
   "source": [
    "def Ch(x, y, z):\n",
    "    \"\"\"\n",
    "    SHA-1 choose (Ch) function.\n",
    "\n",
    "    Parameters:\n",
    "        x (int): first value (interpreted as binary).\n",
    "        y (int): second value (interpreted as binary).\n",
    "        z (int): third value (interpreted as binary).\n",
    "\n",
    "    Returns:\n",
    "        str: The result of the choose function as a binary string.\n",
    "    \"\"\"\n",
    "    x = np.uint32(x)\n",
    "    y = np.uint32(y)\n",
    "    z = np.uint32(z)\n",
    "\n",
    "    # SHA-1 choose function: (x & y) ^ (~x & z)\n",
    "    result = (x & y) ^ (~x & z)\n",
    "\n",
    "    return bin(result)"
   ]
  },
  {
   "cell_type": "code",
   "execution_count": null,
   "id": "cebd3b40",
   "metadata": {},
   "outputs": [
    {
     "name": "stdout",
     "output_type": "stream",
     "text": [
      "0b0\n"
     ]
    }
   ],
   "source": [
    "print(Ch(0b1111, 0b1010, 0b0101))"
   ]
  },
  {
   "cell_type": "code",
   "execution_count": null,
   "id": "ab8c8310",
   "metadata": {},
   "outputs": [],
   "source": [
    "def test_Ch():\n",
    "    assert Ch(0b0, 0b0, 0b0) == '0b0', \"All zeros should return 0b0\"\n",
    "    assert Ch(0b1, 0b0, 0b0) == '0b0', \"x=1, y=0, z=0 should return 0b0\"\n",
    "    assert Ch(0b1, 0b1, 0b0) == '0b1', \"x=1, y=1, z=0 should return 0b1\"\n",
    "    assert Ch(0b0, 0b1, 0b1) == '0b1', \"x=0, y=1, z=1 should return 0b1\"\n",
    "    assert Ch(0b101, 0b010, 0b001) == '0b001', \"Mixed bits test\"\n",
    "    assert Ch(0b1111, 0b1010, 0b0101) == '0b1010', \"4-bit test\"\n",
    "    print('All test cases passed.')"
   ]
  },
  {
   "cell_type": "code",
   "execution_count": null,
   "id": "25142597",
   "metadata": {},
   "outputs": [
    {
     "name": "stdout",
     "output_type": "stream",
     "text": [
      "All test cases passed.\n"
     ]
    }
   ],
   "source": [
    "# Run all tests\n",
    "test_Ch()"
   ]
  }
 ],
 "metadata": {
  "language_info": {
   "name": "python"
  }
 },
 "nbformat": 4,
 "nbformat_minor": 5
}
