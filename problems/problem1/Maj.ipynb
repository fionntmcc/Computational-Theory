{
 "cells": [
  {
   "cell_type": "code",
   "execution_count": 15,
   "id": "12610eba",
   "metadata": {},
   "outputs": [],
   "source": [
    "import numpy as np"
   ]
  },
  {
   "cell_type": "code",
   "execution_count": 16,
   "id": "9bf808ef",
   "metadata": {},
   "outputs": [],
   "source": [
    "def Maj(x, y, z):\n",
    "    \"\"\"\n",
    "    SHA-1 majority (Maj) function.\n",
    "\n",
    "    Parameters:\n",
    "        x (int): first value (interpreted as binary).\n",
    "        y (int): second value (interpreted as binary).\n",
    "        z (int): third value (interpreted as binary).\n",
    "\n",
    "    Returns:\n",
    "        str: The result of the majority function as a binary string.\n",
    "    \"\"\"\n",
    "    x = np.uint32(x)\n",
    "    y = np.uint32(y)\n",
    "    z = np.uint32(z)\n",
    "\n",
    "    # SHA-1 majority function: (x & y) ^ (x & z) ^ (y & z)\n",
    "    result = (x & y) ^ (x & z) ^ (y & z)\n",
    "\n",
    "    return bin(result)"
   ]
  },
  {
   "cell_type": "code",
   "execution_count": 17,
   "id": "c0c0d256",
   "metadata": {},
   "outputs": [
    {
     "name": "stdout",
     "output_type": "stream",
     "text": [
      "0b1111\n"
     ]
    }
   ],
   "source": [
    "print(Maj(0b1111, 0b1010, 0b0101))"
   ]
  }
 ],
 "metadata": {
  "kernelspec": {
   "display_name": "base",
   "language": "python",
   "name": "python3"
  },
  "language_info": {
   "codemirror_mode": {
    "name": "ipython",
    "version": 3
   },
   "file_extension": ".py",
   "mimetype": "text/x-python",
   "name": "python",
   "nbconvert_exporter": "python",
   "pygments_lexer": "ipython3",
   "version": "3.12.7"
  }
 },
 "nbformat": 4,
 "nbformat_minor": 5
}
