{
 "cells": [
  {
   "cell_type": "markdown",
   "id": "843b43d4",
   "metadata": {},
   "source": [
    "# SHA-1 Majority (Maj) Function\n",
    "\n",
    "The `Maj` function implements the SHA-1 'majority' operation, which returns the majority value of each bit position among three inputs. For each bit, if at least two of the three inputs have a 1, the result is 1; otherwise, it's 0. This is expressed as `(x & y) ^ (x & z) ^ (y & z)`.\n",
    "\n",
    "Each input should be an integer representing a binary value. The function returns the result as a binary string.\n",
    "\n",
    "## Example Usage\n",
    "\n",
    "```python\n",
    "result = Maj(0b1111, 0b1010, 0b0101)\n",
    "print(result)  # Output: '0b1111'\n",
    "```\n",
    "\n",
    "In this example, the function computes the majority for each bit position and returns the result in binary format."
   ]
  },
  {
   "cell_type": "code",
   "execution_count": null,
   "id": "533a37b0",
   "metadata": {},
   "outputs": [],
   "source": [
    "import numpy as np"
   ]
  },
  {
   "cell_type": "code",
   "execution_count": null,
   "id": "6fbd76f5",
   "metadata": {},
   "outputs": [],
   "source": [
    "def Maj(x, y, z):\n",
    "    \"\"\"\n",
    "    SHA-1 majority (Maj) function.\n",
    "\n",
    "    Parameters:\n",
    "        x (int): first value (interpreted as binary).\n",
    "        y (int): second value (interpreted as binary).\n",
    "        z (int): third value (interpreted as binary).\n",
    "\n",
    "    Returns:\n",
    "        str: The result of the majority function as a binary string.\n",
    "    \"\"\"\n",
    "    x = np.uint32(x)\n",
    "    y = np.uint32(y)\n",
    "    z = np.uint32(z)\n",
    "\n",
    "    # SHA-1 majority function: (x & y) ^ (x & z) ^ (y & z)\n",
    "    result = (x & y) ^ (x & z) ^ (y & z)\n",
    "\n",
    "    return bin(result)"
   ]
  },
  {
   "cell_type": "code",
   "execution_count": null,
   "id": "639d5c42",
   "metadata": {},
   "outputs": [
    {
     "name": "stdout",
     "output_type": "stream",
     "text": [
      "0b1111\n"
     ]
    }
   ],
   "source": [
    "print(Maj(0b1111, 0b1010, 0b0101))"
   ]
  },
  {
   "cell_type": "code",
   "execution_count": null,
   "id": "c603e30c",
   "metadata": {},
   "outputs": [],
   "source": [
    "def test_Maj():\n",
    "    assert Maj(0b0, 0b0, 0b0) == '0b0', \"All zeros should return 0b0\"\n",
    "    assert Maj(0b1, 0b0, 0b0) == '0b0', \"Only one bit set should return 0b0\"\n",
    "    assert Maj(0b1, 0b1, 0b0) == '0b1', \"Two bits set should return 0b1\"\n",
    "    assert Maj(0b1, 0b1, 0b1) == '0b1', \"All bits set should return 0b1\"\n",
    "    assert Maj(0b101, 0b010, 0b001) == '0b1', \"Mixed bits test\"\n",
    "    assert Maj(0b1111, 0b1010, 0b0101) == '0b1111', \"4-bit test\"\n",
    "    assert Maj(0b111, 0b110, 0b111) == '0b111', \"Example of full bits\"\n",
    "    print('All test cases passed.')"
   ]
  },
  {
   "cell_type": "code",
   "execution_count": null,
   "id": "c193b129",
   "metadata": {},
   "outputs": [
    {
     "name": "stdout",
     "output_type": "stream",
     "text": [
      "All test cases passed.\n"
     ]
    }
   ],
   "source": [
    "# Run all tests\n",
    "test_Maj()"
   ]
  }
 ],
 "metadata": {
  "kernelspec": {
   "display_name": "base",
   "language": "python",
   "name": "python3"
  },
  "language_info": {
   "codemirror_mode": {
    "name": "ipython",
    "version": 3
   },
   "file_extension": ".py",
   "mimetype": "text/x-python",
   "name": "python",
   "nbconvert_exporter": "python",
   "pygments_lexer": "ipython3",
   "version": "3.12.7"
  }
 },
 "nbformat": 4,
 "nbformat_minor": 5
}
